{
 "cells": [
  {
   "cell_type": "code",
   "execution_count": 17,
   "id": "da256a32-1181-4375-8523-9286d9221622",
   "metadata": {},
   "outputs": [],
   "source": [
    "import pandas as pd"
   ]
  },
  {
   "cell_type": "code",
   "execution_count": 18,
   "id": "3b8c0f21-3649-42dd-bf89-71a25e548013",
   "metadata": {},
   "outputs": [],
   "source": [
    "run_times = pd.read_excel(\"./Data/Run Times.xlsx\")"
   ]
  },
  {
   "cell_type": "code",
   "execution_count": 19,
   "id": "06bb6e86-1c4f-4ac8-a21c-51febc93e353",
   "metadata": {},
   "outputs": [
    {
     "data": {
      "text/html": [
       "<div>\n",
       "<style scoped>\n",
       "    .dataframe tbody tr th:only-of-type {\n",
       "        vertical-align: middle;\n",
       "    }\n",
       "\n",
       "    .dataframe tbody tr th {\n",
       "        vertical-align: top;\n",
       "    }\n",
       "\n",
       "    .dataframe thead th {\n",
       "        text-align: right;\n",
       "    }\n",
       "</style>\n",
       "<table border=\"1\" class=\"dataframe\">\n",
       "  <thead>\n",
       "    <tr style=\"text-align: right;\">\n",
       "      <th></th>\n",
       "      <th>Name</th>\n",
       "      <th>Run Time</th>\n",
       "      <th>Warm Up Time</th>\n",
       "      <th>Location</th>\n",
       "      <th>Run Date</th>\n",
       "      <th>Race Date</th>\n",
       "      <th>Rain</th>\n",
       "      <th>Fee</th>\n",
       "    </tr>\n",
       "  </thead>\n",
       "  <tbody>\n",
       "    <tr>\n",
       "      <th>0</th>\n",
       "      <td>Alexis</td>\n",
       "      <td>9.2343</td>\n",
       "      <td>3.5</td>\n",
       "      <td>“school”</td>\n",
       "      <td>2023-04-15 12:00:00</td>\n",
       "      <td>2023-06-01</td>\n",
       "      <td>False</td>\n",
       "      <td>$0.00</td>\n",
       "    </tr>\n",
       "    <tr>\n",
       "      <th>1</th>\n",
       "      <td>Alexis</td>\n",
       "      <td>10.3842</td>\n",
       "      <td>3.5</td>\n",
       "      <td>School</td>\n",
       "      <td>2023-04-22 12:30:00</td>\n",
       "      <td>2023-06-01</td>\n",
       "      <td>True</td>\n",
       "      <td>$0.00</td>\n",
       "    </tr>\n",
       "    <tr>\n",
       "      <th>2</th>\n",
       "      <td>Alexis</td>\n",
       "      <td>8.1209</td>\n",
       "      <td>3 min</td>\n",
       "      <td>“the gym”</td>\n",
       "      <td>2023-05-10 15:00:00</td>\n",
       "      <td>2023-06-01</td>\n",
       "      <td>False</td>\n",
       "      <td>$2.50</td>\n",
       "    </tr>\n",
       "    <tr>\n",
       "      <th>3</th>\n",
       "      <td>David</td>\n",
       "      <td>7.2123</td>\n",
       "      <td>2.2</td>\n",
       "      <td>“school”</td>\n",
       "      <td>2023-05-01 15:15:00</td>\n",
       "      <td>2023-06-15</td>\n",
       "      <td>False</td>\n",
       "      <td>$0.00</td>\n",
       "    </tr>\n",
       "    <tr>\n",
       "      <th>4</th>\n",
       "      <td>David</td>\n",
       "      <td>6.8342</td>\n",
       "      <td>2</td>\n",
       "      <td>“gym”</td>\n",
       "      <td>2023-05-10 16:30:00</td>\n",
       "      <td>2023-06-15</td>\n",
       "      <td>False</td>\n",
       "      <td>$2.50</td>\n",
       "    </tr>\n",
       "  </tbody>\n",
       "</table>\n",
       "</div>"
      ],
      "text/plain": [
       "     Name  Run Time Warm Up Time   Location            Run Date  Race Date  \\\n",
       "0  Alexis    9.2343          3.5   “school” 2023-04-15 12:00:00 2023-06-01   \n",
       "1  Alexis   10.3842          3.5     School 2023-04-22 12:30:00 2023-06-01   \n",
       "2  Alexis    8.1209        3 min  “the gym” 2023-05-10 15:00:00 2023-06-01   \n",
       "3   David    7.2123          2.2   “school” 2023-05-01 15:15:00 2023-06-15   \n",
       "4   David    6.8342            2      “gym” 2023-05-10 16:30:00 2023-06-15   \n",
       "\n",
       "    Rain    Fee  \n",
       "0  False  $0.00  \n",
       "1   True  $0.00  \n",
       "2  False  $2.50  \n",
       "3  False  $0.00  \n",
       "4  False  $2.50  "
      ]
     },
     "execution_count": 19,
     "metadata": {},
     "output_type": "execute_result"
    }
   ],
   "source": [
    "run_times"
   ]
  },
  {
   "cell_type": "code",
   "execution_count": 20,
   "id": "8d1e575c-d2f1-4b43-be26-e8cf3c3502b1",
   "metadata": {},
   "outputs": [
    {
     "data": {
      "text/plain": [
       "Name                    object\n",
       "Run Time               float64\n",
       "Warm Up Time            object\n",
       "Location                object\n",
       "Run Date        datetime64[ns]\n",
       "Race Date       datetime64[ns]\n",
       "Rain                      bool\n",
       "Fee                     object\n",
       "dtype: object"
      ]
     },
     "execution_count": 20,
     "metadata": {},
     "output_type": "execute_result"
    }
   ],
   "source": [
    "run_times.dtypes"
   ]
  },
  {
   "cell_type": "code",
   "execution_count": 21,
   "id": "406da467-0cb2-4023-b5ec-53e74d879e13",
   "metadata": {},
   "outputs": [
    {
     "name": "stdout",
     "output_type": "stream",
     "text": [
      "<class 'pandas.core.frame.DataFrame'>\n",
      "RangeIndex: 5 entries, 0 to 4\n",
      "Data columns (total 8 columns):\n",
      " #   Column        Non-Null Count  Dtype         \n",
      "---  ------        --------------  -----         \n",
      " 0   Name          5 non-null      object        \n",
      " 1   Run Time      5 non-null      float64       \n",
      " 2   Warm Up Time  5 non-null      object        \n",
      " 3   Location      5 non-null      object        \n",
      " 4   Run Date      5 non-null      datetime64[ns]\n",
      " 5   Race Date     5 non-null      datetime64[ns]\n",
      " 6   Rain          5 non-null      bool          \n",
      " 7   Fee           5 non-null      object        \n",
      "dtypes: bool(1), datetime64[ns](2), float64(1), object(4)\n",
      "memory usage: 417.0+ bytes\n"
     ]
    }
   ],
   "source": [
    "run_times.info()"
   ]
  },
  {
   "cell_type": "code",
   "execution_count": 22,
   "id": "9f64ba68-45e2-49ef-ab96-86cc92f200ed",
   "metadata": {},
   "outputs": [],
   "source": [
    "run_times.Fee = pd.to_numeric(run_times.Fee.str.replace(\"$\",''))"
   ]
  },
  {
   "cell_type": "code",
   "execution_count": 23,
   "id": "ba7136e5-a7b4-4a73-beda-d88aa348350a",
   "metadata": {},
   "outputs": [
    {
     "data": {
      "text/plain": [
       "Name                    object\n",
       "Run Time               float64\n",
       "Warm Up Time            object\n",
       "Location                object\n",
       "Run Date        datetime64[ns]\n",
       "Race Date       datetime64[ns]\n",
       "Rain                      bool\n",
       "Fee                    float64\n",
       "dtype: object"
      ]
     },
     "execution_count": 23,
     "metadata": {},
     "output_type": "execute_result"
    }
   ],
   "source": [
    "run_times.dtypes"
   ]
  },
  {
   "cell_type": "code",
   "execution_count": 24,
   "id": "b3384432-ad2a-4185-b40e-726aa2d5882c",
   "metadata": {},
   "outputs": [
    {
     "data": {
      "text/plain": [
       "0    3.5\n",
       "1    3.5\n",
       "2    NaN\n",
       "3    2.2\n",
       "4    2.0\n",
       "Name: Warm Up Time, dtype: float64"
      ]
     },
     "execution_count": 24,
     "metadata": {},
     "output_type": "execute_result"
    }
   ],
   "source": [
    "pd.to_numeric(run_times['Warm Up Time'],errors='coerce')"
   ]
  },
  {
   "cell_type": "code",
   "execution_count": 25,
   "id": "11714a9e-de43-4c71-8c91-680fcb2f803c",
   "metadata": {},
   "outputs": [
    {
     "data": {
      "text/plain": [
       "0      3.5\n",
       "1      3.5\n",
       "2    3 min\n",
       "3      2.2\n",
       "4        2\n",
       "Name: Warm Up Time, dtype: object"
      ]
     },
     "execution_count": 25,
     "metadata": {},
     "output_type": "execute_result"
    }
   ],
   "source": [
    "run_times['Warm Up Time']"
   ]
  },
  {
   "cell_type": "code",
   "execution_count": 26,
   "id": "82beda2d-5482-40ee-bdbe-d8f339305825",
   "metadata": {},
   "outputs": [],
   "source": [
    "run_times['Warm Up Time'] = pd.to_numeric(run_times['Warm Up Time'].astype('str').str.replace('min',''))"
   ]
  },
  {
   "cell_type": "code",
   "execution_count": 27,
   "id": "e5e64f04-36da-442b-ac9a-34370f250e22",
   "metadata": {},
   "outputs": [
    {
     "data": {
      "text/plain": [
       "Name                    object\n",
       "Run Time               float64\n",
       "Warm Up Time           float64\n",
       "Location                object\n",
       "Run Date        datetime64[ns]\n",
       "Race Date       datetime64[ns]\n",
       "Rain                      bool\n",
       "Fee                    float64\n",
       "dtype: object"
      ]
     },
     "execution_count": 27,
     "metadata": {},
     "output_type": "execute_result"
    }
   ],
   "source": [
    "run_times.dtypes"
   ]
  },
  {
   "cell_type": "code",
   "execution_count": 28,
   "id": "ffb00cd6-7cd2-4879-9106-d41f41f84ea1",
   "metadata": {},
   "outputs": [
    {
     "data": {
      "text/html": [
       "<div>\n",
       "<style scoped>\n",
       "    .dataframe tbody tr th:only-of-type {\n",
       "        vertical-align: middle;\n",
       "    }\n",
       "\n",
       "    .dataframe tbody tr th {\n",
       "        vertical-align: top;\n",
       "    }\n",
       "\n",
       "    .dataframe thead th {\n",
       "        text-align: right;\n",
       "    }\n",
       "</style>\n",
       "<table border=\"1\" class=\"dataframe\">\n",
       "  <thead>\n",
       "    <tr style=\"text-align: right;\">\n",
       "      <th></th>\n",
       "      <th>Name</th>\n",
       "      <th>Run Time</th>\n",
       "      <th>Warm Up Time</th>\n",
       "      <th>Location</th>\n",
       "      <th>Run Date</th>\n",
       "      <th>Race Date</th>\n",
       "      <th>Rain</th>\n",
       "      <th>Fee</th>\n",
       "    </tr>\n",
       "  </thead>\n",
       "  <tbody>\n",
       "    <tr>\n",
       "      <th>0</th>\n",
       "      <td>Alexis</td>\n",
       "      <td>9.2343</td>\n",
       "      <td>3.5</td>\n",
       "      <td>“school”</td>\n",
       "      <td>2023-04-15 12:00:00</td>\n",
       "      <td>2023-06-01</td>\n",
       "      <td>False</td>\n",
       "      <td>0.0</td>\n",
       "    </tr>\n",
       "    <tr>\n",
       "      <th>1</th>\n",
       "      <td>Alexis</td>\n",
       "      <td>10.3842</td>\n",
       "      <td>3.5</td>\n",
       "      <td>School</td>\n",
       "      <td>2023-04-22 12:30:00</td>\n",
       "      <td>2023-06-01</td>\n",
       "      <td>True</td>\n",
       "      <td>0.0</td>\n",
       "    </tr>\n",
       "    <tr>\n",
       "      <th>2</th>\n",
       "      <td>Alexis</td>\n",
       "      <td>8.1209</td>\n",
       "      <td>3.0</td>\n",
       "      <td>“the gym”</td>\n",
       "      <td>2023-05-10 15:00:00</td>\n",
       "      <td>2023-06-01</td>\n",
       "      <td>False</td>\n",
       "      <td>2.5</td>\n",
       "    </tr>\n",
       "    <tr>\n",
       "      <th>3</th>\n",
       "      <td>David</td>\n",
       "      <td>7.2123</td>\n",
       "      <td>2.2</td>\n",
       "      <td>“school”</td>\n",
       "      <td>2023-05-01 15:15:00</td>\n",
       "      <td>2023-06-15</td>\n",
       "      <td>False</td>\n",
       "      <td>0.0</td>\n",
       "    </tr>\n",
       "    <tr>\n",
       "      <th>4</th>\n",
       "      <td>David</td>\n",
       "      <td>6.8342</td>\n",
       "      <td>2.0</td>\n",
       "      <td>“gym”</td>\n",
       "      <td>2023-05-10 16:30:00</td>\n",
       "      <td>2023-06-15</td>\n",
       "      <td>False</td>\n",
       "      <td>2.5</td>\n",
       "    </tr>\n",
       "  </tbody>\n",
       "</table>\n",
       "</div>"
      ],
      "text/plain": [
       "     Name  Run Time  Warm Up Time   Location            Run Date  Race Date  \\\n",
       "0  Alexis    9.2343           3.5   “school” 2023-04-15 12:00:00 2023-06-01   \n",
       "1  Alexis   10.3842           3.5     School 2023-04-22 12:30:00 2023-06-01   \n",
       "2  Alexis    8.1209           3.0  “the gym” 2023-05-10 15:00:00 2023-06-01   \n",
       "3   David    7.2123           2.2   “school” 2023-05-01 15:15:00 2023-06-15   \n",
       "4   David    6.8342           2.0      “gym” 2023-05-10 16:30:00 2023-06-15   \n",
       "\n",
       "    Rain  Fee  \n",
       "0  False  0.0  \n",
       "1   True  0.0  \n",
       "2  False  2.5  \n",
       "3  False  0.0  \n",
       "4  False  2.5  "
      ]
     },
     "execution_count": 28,
     "metadata": {},
     "output_type": "execute_result"
    }
   ],
   "source": [
    "run_times.head()"
   ]
  },
  {
   "cell_type": "code",
   "execution_count": 29,
   "id": "aa9b0cce-e08a-469a-93fa-7030bfff6bf0",
   "metadata": {},
   "outputs": [
    {
     "data": {
      "text/plain": [
       "0    0\n",
       "1    1\n",
       "2    0\n",
       "3    0\n",
       "4    0\n",
       "Name: Rain, dtype: int64"
      ]
     },
     "execution_count": 29,
     "metadata": {},
     "output_type": "execute_result"
    }
   ],
   "source": [
    "run_times['Rain'].astype(int)"
   ]
  },
  {
   "cell_type": "code",
   "execution_count": null,
   "id": "4f22cf9b-e850-485d-84d5-f20e8ae49136",
   "metadata": {},
   "outputs": [],
   "source": []
  },
  {
   "cell_type": "code",
   "execution_count": null,
   "id": "397239e6-04a2-469c-b64b-2af2114763f0",
   "metadata": {},
   "outputs": [],
   "source": []
  },
  {
   "cell_type": "markdown",
   "id": "39b0e1da-bc67-472c-a4f8-17eb1bcfe87a",
   "metadata": {},
   "source": [
    "**Missing Data**"
   ]
  },
  {
   "cell_type": "code",
   "execution_count": 30,
   "id": "f57d71a5-0b95-4f6c-bc5f-9c8ff1b6a8a5",
   "metadata": {},
   "outputs": [
    {
     "data": {
      "text/plain": [
       "(86, 4)"
      ]
     },
     "execution_count": 30,
     "metadata": {},
     "output_type": "execute_result"
    }
   ],
   "source": [
    "df = pd.read_excel(\"./Data/Student Grades.xlsx\")\n",
    "df.shape"
   ]
  },
  {
   "cell_type": "code",
   "execution_count": 31,
   "id": "0d9e5386-d4b8-421e-b6f9-0b6393758eeb",
   "metadata": {},
   "outputs": [
    {
     "data": {
      "text/html": [
       "<div>\n",
       "<style scoped>\n",
       "    .dataframe tbody tr th:only-of-type {\n",
       "        vertical-align: middle;\n",
       "    }\n",
       "\n",
       "    .dataframe tbody tr th {\n",
       "        vertical-align: top;\n",
       "    }\n",
       "\n",
       "    .dataframe thead th {\n",
       "        text-align: right;\n",
       "    }\n",
       "</style>\n",
       "<table border=\"1\" class=\"dataframe\">\n",
       "  <thead>\n",
       "    <tr style=\"text-align: right;\">\n",
       "      <th></th>\n",
       "      <th>Student</th>\n",
       "      <th>Class</th>\n",
       "      <th>Year</th>\n",
       "      <th>Grade</th>\n",
       "    </tr>\n",
       "  </thead>\n",
       "  <tbody>\n",
       "    <tr>\n",
       "      <th>81</th>\n",
       "      <td>NaN</td>\n",
       "      <td>NaN</td>\n",
       "      <td>NaN</td>\n",
       "      <td>NaN</td>\n",
       "    </tr>\n",
       "    <tr>\n",
       "      <th>82</th>\n",
       "      <td>Bennett</td>\n",
       "      <td>NaN</td>\n",
       "      <td>NaN</td>\n",
       "      <td>NaN</td>\n",
       "    </tr>\n",
       "    <tr>\n",
       "      <th>83</th>\n",
       "      <td>NaN</td>\n",
       "      <td>EDA</td>\n",
       "      <td>Junior</td>\n",
       "      <td>84.0</td>\n",
       "    </tr>\n",
       "    <tr>\n",
       "      <th>84</th>\n",
       "      <td>Gavin</td>\n",
       "      <td>EDA</td>\n",
       "      <td>Senior</td>\n",
       "      <td>NaN</td>\n",
       "    </tr>\n",
       "    <tr>\n",
       "      <th>85</th>\n",
       "      <td>Calvin</td>\n",
       "      <td>NaN</td>\n",
       "      <td>NaN</td>\n",
       "      <td>100.0</td>\n",
       "    </tr>\n",
       "  </tbody>\n",
       "</table>\n",
       "</div>"
      ],
      "text/plain": [
       "    Student Class    Year  Grade\n",
       "81      NaN   NaN     NaN    NaN\n",
       "82  Bennett   NaN     NaN    NaN\n",
       "83      NaN   EDA  Junior   84.0\n",
       "84    Gavin   EDA  Senior    NaN\n",
       "85   Calvin   NaN     NaN  100.0"
      ]
     },
     "execution_count": 31,
     "metadata": {},
     "output_type": "execute_result"
    }
   ],
   "source": [
    "df.tail()"
   ]
  },
  {
   "cell_type": "code",
   "execution_count": 32,
   "id": "b52bd881-deee-45b4-9561-2d490a6bd95f",
   "metadata": {},
   "outputs": [
    {
     "ename": "NameError",
     "evalue": "name 'np' is not defined",
     "output_type": "error",
     "traceback": [
      "\u001b[1;31m---------------------------------------------------------------------------\u001b[0m",
      "\u001b[1;31mNameError\u001b[0m                                 Traceback (most recent call last)",
      "Cell \u001b[1;32mIn[32], line 1\u001b[0m\n\u001b[1;32m----> 1\u001b[0m \u001b[43mnp\u001b[49m\u001b[38;5;241m.\u001b[39mNaN\n",
      "\u001b[1;31mNameError\u001b[0m: name 'np' is not defined"
     ]
    }
   ],
   "source": [
    "np.NaN"
   ]
  },
  {
   "cell_type": "code",
   "execution_count": null,
   "id": "9f5da3e4-3798-4df7-a8b1-89e31ef656b0",
   "metadata": {},
   "outputs": [],
   "source": [
    "import numpy as np"
   ]
  },
  {
   "cell_type": "code",
   "execution_count": null,
   "id": "bb1469a6-66db-4ef8-b6ae-cfc84f1371e1",
   "metadata": {},
   "outputs": [],
   "source": [
    "np.nan"
   ]
  },
  {
   "cell_type": "code",
   "execution_count": null,
   "id": "f3dd739d-fc8e-4e24-a14d-c2fb53b066c7",
   "metadata": {},
   "outputs": [],
   "source": [
    "pd.NA"
   ]
  },
  {
   "cell_type": "code",
   "execution_count": null,
   "id": "e111ebed-9786-402e-978f-b1135e78ce69",
   "metadata": {},
   "outputs": [],
   "source": [
    "None"
   ]
  },
  {
   "cell_type": "code",
   "execution_count": null,
   "id": "1be79583-fb74-485e-a81c-bc243bffcf0c",
   "metadata": {},
   "outputs": [],
   "source": [
    "df.info()"
   ]
  },
  {
   "cell_type": "code",
   "execution_count": null,
   "id": "422048ef-9c87-4a12-a485-953a430c11da",
   "metadata": {},
   "outputs": [],
   "source": [
    "df.Year.value_counts(dropna=False)"
   ]
  },
  {
   "cell_type": "code",
   "execution_count": null,
   "id": "5b4eec21-ba09-4d55-af93-34c5a71dcb1c",
   "metadata": {},
   "outputs": [],
   "source": [
    "df.isna()"
   ]
  },
  {
   "cell_type": "code",
   "execution_count": null,
   "id": "55b2893d-cdcf-4e71-990e-075837b2ce43",
   "metadata": {},
   "outputs": [],
   "source": [
    "df.isna().sum()"
   ]
  },
  {
   "cell_type": "code",
   "execution_count": null,
   "id": "b3ca3e4a-7701-4628-964e-31fff3a35656",
   "metadata": {},
   "outputs": [],
   "source": [
    "df[df.isna().any(axis=1)]"
   ]
  },
  {
   "cell_type": "code",
   "execution_count": null,
   "id": "3f5619ca-b142-444b-9fd9-8ccdea7439ec",
   "metadata": {},
   "outputs": [],
   "source": [
    "df[df.isna().any(axis=1)].dropna(subset=['Student','Class'])"
   ]
  },
  {
   "cell_type": "code",
   "execution_count": null,
   "id": "26392141-ce80-4369-9554-144b3e6c1624",
   "metadata": {},
   "outputs": [],
   "source": [
    "df[df.isna().any(axis=1)]"
   ]
  },
  {
   "cell_type": "code",
   "execution_count": null,
   "id": "3e0190a4-2473-42b9-8297-9a5332af2690",
   "metadata": {},
   "outputs": [],
   "source": [
    "df.dropna(subset=['Student','Class'],inplace=True)"
   ]
  },
  {
   "cell_type": "code",
   "execution_count": null,
   "id": "6893e17b-bbc0-479b-8edf-e97019a2891d",
   "metadata": {},
   "outputs": [],
   "source": [
    "df.shape"
   ]
  },
  {
   "cell_type": "code",
   "execution_count": null,
   "id": "c9c5be15-a77d-4e6c-815e-b9aec0be613b",
   "metadata": {},
   "outputs": [],
   "source": [
    "df[df.Grade.isna()]"
   ]
  },
  {
   "cell_type": "code",
   "execution_count": null,
   "id": "c969c60e-3735-4a99-82cb-c115176f49e1",
   "metadata": {},
   "outputs": [],
   "source": [
    "df.Grade.mean()"
   ]
  },
  {
   "cell_type": "code",
   "execution_count": null,
   "id": "19ce38ff-3fc1-46e4-b24b-b42094fb8081",
   "metadata": {},
   "outputs": [],
   "source": [
    "df['Grade'].fillna(df['Grade'].mean(),inplace=True)\n"
   ]
  },
  {
   "cell_type": "code",
   "execution_count": null,
   "id": "963560b5-5c8d-4bbf-a0e0-4f4ac2e2fed6",
   "metadata": {},
   "outputs": [],
   "source": [
    "df.Grade"
   ]
  },
  {
   "cell_type": "code",
   "execution_count": null,
   "id": "91cf597b-b19f-4db2-af69-8d560c9010ee",
   "metadata": {},
   "outputs": [],
   "source": [
    "df[df.isna().any(axis=1)]"
   ]
  },
  {
   "cell_type": "code",
   "execution_count": null,
   "id": "0246f845-352e-4ce4-9415-4cf45a1970d0",
   "metadata": {},
   "outputs": [],
   "source": [
    "df[df.Class == 'Freshman Seminar']"
   ]
  },
  {
   "cell_type": "code",
   "execution_count": null,
   "id": "ee1d6c72-e0ea-49fc-b8ce-57f75bf15e91",
   "metadata": {},
   "outputs": [],
   "source": [
    "df.loc[7,'Year'] = \"Freshman\""
   ]
  },
  {
   "cell_type": "code",
   "execution_count": null,
   "id": "090c246e-d451-4501-9ef9-26d56af7e142",
   "metadata": {},
   "outputs": [],
   "source": [
    "## Update multivalues using np.where\n",
    "import numpy as np\n",
    "df.Year = np.where(df.Year.isna(),'Freshman',df.Year)\n",
    "df"
   ]
  },
  {
   "cell_type": "markdown",
   "id": "d0b4f2c3-360f-44d7-8bbd-642b1aaf7882",
   "metadata": {},
   "source": [
    "**Inconsistnet Text & Typos**"
   ]
  },
  {
   "cell_type": "code",
   "execution_count": null,
   "id": "a2a1178e-bd85-497b-bfac-cb8d7d9d9e3a",
   "metadata": {},
   "outputs": [],
   "source": [
    "df.head()"
   ]
  },
  {
   "cell_type": "code",
   "execution_count": null,
   "id": "01d12ff4-ba2c-46c6-8243-9011dedaf2c8",
   "metadata": {},
   "outputs": [],
   "source": [
    "df.Class.value_counts()"
   ]
  },
  {
   "cell_type": "code",
   "execution_count": null,
   "id": "1b7af101-ea5f-437a-b54e-93c936c0c3fe",
   "metadata": {},
   "outputs": [],
   "source": [
    "df[df.Class.isin(['Intro to Python','Python'])]"
   ]
  },
  {
   "cell_type": "code",
   "execution_count": null,
   "id": "d06c9fdb-7468-43a0-a881-e632977aabcb",
   "metadata": {},
   "outputs": [],
   "source": [
    "df.head()"
   ]
  },
  {
   "cell_type": "code",
   "execution_count": null,
   "id": "5684f701-4b06-4cd8-a960-a584105d8bd9",
   "metadata": {},
   "outputs": [],
   "source": [
    "df.Year.value_counts()"
   ]
  },
  {
   "cell_type": "code",
   "execution_count": null,
   "id": "3b07e157-a220-4c3d-ad30-f05ee370fe27",
   "metadata": {},
   "outputs": [],
   "source": [
    "df.Grade.describe()"
   ]
  },
  {
   "cell_type": "code",
   "execution_count": null,
   "id": "e173fce2-909f-48b2-835a-2da497cdddc2",
   "metadata": {},
   "outputs": [],
   "source": [
    "df[df['Grade'] > 100]"
   ]
  },
  {
   "cell_type": "code",
   "execution_count": null,
   "id": "3c971466-a9e3-4978-a33b-4ef3c2a6fdfd",
   "metadata": {},
   "outputs": [],
   "source": [
    "    df.Class.value_counts()"
   ]
  },
  {
   "cell_type": "code",
   "execution_count": null,
   "id": "cacdc504-25e3-466b-bdb4-19ba23cb42de",
   "metadata": {},
   "outputs": [],
   "source": [
    "import numpy as np\n",
    "df['Class'] = np.where(df['Class'] == 'EDA','Exploratory Data Analysis',df['Class'])\n",
    "df['Class'].value_counts()"
   ]
  },
  {
   "cell_type": "code",
   "execution_count": null,
   "id": "d952f897-ef27-4df5-8cbb-439600295f6f",
   "metadata": {},
   "outputs": [],
   "source": [
    "df['Class'] = np.where(df['Class'] == 'Python','Intro to Python',df['Class'])\n",
    "df['Class'].value_counts()"
   ]
  },
  {
   "cell_type": "code",
   "execution_count": null,
   "id": "fcd75114-d466-420a-a8d5-771fee284a82",
   "metadata": {},
   "outputs": [],
   "source": [
    "df['Grade'] = np.where(df['Grade'] > 100,100,df['Grade'])\n",
    "df['Grade'].describe()"
   ]
  },
  {
   "cell_type": "markdown",
   "id": "90a3df77-563d-4f9c-8510-8328848acaee",
   "metadata": {},
   "source": [
    "**Map Values** -> Use .map() to map values from one set of values to another set of values"
   ]
  },
  {
   "cell_type": "code",
   "execution_count": null,
   "id": "ad05b821-eb12-4189-974a-add77aea16ac",
   "metadata": {},
   "outputs": [],
   "source": [
    "df_grades = pd.read_excel(\"./Data/Student Grades.xlsx\")"
   ]
  },
  {
   "cell_type": "code",
   "execution_count": null,
   "id": "d29b8771-d5ff-4869-9c64-98776fd4377b",
   "metadata": {},
   "outputs": [],
   "source": [
    "df_grades.head()"
   ]
  },
  {
   "cell_type": "code",
   "execution_count": null,
   "id": "5768540e-073d-4631-b9ba-8b9e55562621",
   "metadata": {},
   "outputs": [],
   "source": [
    "df_grades.Class.value_counts()"
   ]
  },
  {
   "cell_type": "code",
   "execution_count": null,
   "id": "a3b1d2ef-d701-43ee-8fd6-a33bfc2be914",
   "metadata": {},
   "outputs": [],
   "source": [
    "class_mappings = {\"Intro to Python\":\"Intro to Python\",\n",
    "                 \"Intro to SQL\":\"Intro to SQL\",\n",
    "                  \"EDA\":\"Exploratory Data Analysis\",\n",
    "                  \"Freshman Seminar\":\"Freshman Seminar\",\n",
    "                  \"Exploratory Data Analysis\":\"Exploratory Data Analysis\",\n",
    "                  \"Python\":\"Intro to Python\"\n",
    "                 }"
   ]
  },
  {
   "cell_type": "code",
   "execution_count": null,
   "id": "1276e3d1-821e-4781-9472-bc9e44916811",
   "metadata": {},
   "outputs": [],
   "source": [
    "df_grades.Class = df_grades.Class.map(class_mappings)"
   ]
  },
  {
   "cell_type": "code",
   "execution_count": null,
   "id": "04275fcd-d3c5-4887-9011-cf7a2967aefd",
   "metadata": {},
   "outputs": [],
   "source": [
    "df_grades.Class.value_counts(dropna=False)"
   ]
  },
  {
   "cell_type": "code",
   "execution_count": null,
   "id": "19358854-7ebf-463a-ab61-79d40ba78038",
   "metadata": {},
   "outputs": [],
   "source": [
    "\n",
    "\n",
    "run_times"
   ]
  },
  {
   "cell_type": "code",
   "execution_count": null,
   "id": "05b4ebda-40ba-4463-a4de-4c684bcdc3d6",
   "metadata": {},
   "outputs": [],
   "source": [
    "run_times['Location'] = run_times['Location'].str.strip('“”').str.lower().str.replace(\"the\",'')\n",
    "run_times.head()"
   ]
  },
  {
   "cell_type": "code",
   "execution_count": null,
   "id": "c522eed5-6b0c-47f3-af3d-ea1c0f29d420",
   "metadata": {},
   "outputs": [],
   "source": [
    "df.duplicated()"
   ]
  },
  {
   "cell_type": "code",
   "execution_count": null,
   "id": "23955fbd-2def-4c17-9e74-dd4e8a6650c2",
   "metadata": {},
   "outputs": [],
   "source": [
    "df.duplicated().sum()"
   ]
  },
  {
   "cell_type": "code",
   "execution_count": null,
   "id": "9ec94f3f-90ab-47d6-bbeb-9a14997830bc",
   "metadata": {},
   "outputs": [],
   "source": [
    "df[df.duplicated()]"
   ]
  },
  {
   "cell_type": "code",
   "execution_count": null,
   "id": "1c51de5b-1a72-40b2-8347-9c4cd0b46123",
   "metadata": {},
   "outputs": [],
   "source": [
    "df = df.drop_duplicates()"
   ]
  },
  {
   "cell_type": "code",
   "execution_count": null,
   "id": "3e9fe955-a55e-4b37-a2e8-a9b90b7ccb45",
   "metadata": {},
   "outputs": [],
   "source": [
    "df.duplicated().sum()"
   ]
  },
  {
   "cell_type": "code",
   "execution_count": null,
   "id": "18ea898b-9f60-4998-b052-41dd6a76ebe2",
   "metadata": {},
   "outputs": [],
   "source": [
    "df.reset_index(drop=True,inplace=True)"
   ]
  },
  {
   "cell_type": "code",
   "execution_count": null,
   "id": "d26473ab-5564-4fd4-a752-17aba008ae7c",
   "metadata": {},
   "outputs": [],
   "source": [
    "df.loc[35:45,::]"
   ]
  },
  {
   "cell_type": "markdown",
   "id": "f7426a77-373d-4ecf-94bd-b6a7ec945b3b",
   "metadata": {},
   "source": [
    "**Outliers**"
   ]
  },
  {
   "cell_type": "code",
   "execution_count": null,
   "id": "d9d8d482-6e6a-417b-bab2-45cccb78dbb4",
   "metadata": {},
   "outputs": [],
   "source": [
    "import seaborn as sns\n",
    "df.hist()"
   ]
  },
  {
   "cell_type": "code",
   "execution_count": null,
   "id": "107e77f8-4726-4f21-839c-d6f54b835eee",
   "metadata": {},
   "outputs": [],
   "source": [
    "df.Grade.max() - df.Grade.min()"
   ]
  },
  {
   "cell_type": "code",
   "execution_count": null,
   "id": "81ab4455-72e0-4ccf-ba90-5e0aefeb77ac",
   "metadata": {},
   "outputs": [],
   "source": [
    "df.hist(bins=155)"
   ]
  },
  {
   "cell_type": "code",
   "execution_count": null,
   "id": "60fe8d58-e2d3-4654-8cd6-505f1951109b",
   "metadata": {},
   "outputs": [],
   "source": [
    "import seaborn as sns"
   ]
  },
  {
   "cell_type": "code",
   "execution_count": null,
   "id": "92af798e-d93d-44b4-98b4-3b1ff64aa9e2",
   "metadata": {},
   "outputs": [],
   "source": [
    "sns.histplot(df)"
   ]
  },
  {
   "cell_type": "code",
   "execution_count": null,
   "id": "64c5f906-0414-4d82-83e1-13117c8ec76d",
   "metadata": {},
   "outputs": [],
   "source": [
    "sns.histplot(df,binwidth=5)"
   ]
  },
  {
   "cell_type": "code",
   "execution_count": null,
   "id": "248beac9-3fa1-45b4-b8a9-e311ea3f71c2",
   "metadata": {},
   "outputs": [],
   "source": [
    "sns.boxplot(df)"
   ]
  },
  {
   "cell_type": "code",
   "execution_count": null,
   "id": "25996139-78c6-44be-8568-bfe10109dcb1",
   "metadata": {},
   "outputs": [],
   "source": [
    "import numpy as np"
   ]
  },
  {
   "cell_type": "code",
   "execution_count": null,
   "id": "e2beb313-92a2-4d65-aed7-99a8ee46d25f",
   "metadata": {},
   "outputs": [],
   "source": [
    "q25,q50,q75 = np.percentile(df.Grade.dropna(),(25,50,75))\n",
    "q25"
   ]
  },
  {
   "cell_type": "code",
   "execution_count": null,
   "id": "54fbba21-acef-49e6-be85-6b3c9e9b03ec",
   "metadata": {},
   "outputs": [],
   "source": [
    "iqr = q75-q25"
   ]
  },
  {
   "cell_type": "code",
   "execution_count": null,
   "id": "ee8b5487-13d8-49b0-bfd4-2acd163eed84",
   "metadata": {},
   "outputs": [],
   "source": [
    "min_grade = q25 - 1.5 * iqr\n",
    "max_grade = q75 + 1.5 * iqr"
   ]
  },
  {
   "cell_type": "code",
   "execution_count": null,
   "id": "ba1d6a66-e313-47ee-8b22-0bdc6fed6da4",
   "metadata": {},
   "outputs": [],
   "source": [
    "min_grade, q25, q50, q75, max_grade"
   ]
  },
  {
   "cell_type": "code",
   "execution_count": null,
   "id": "c2223a18-ebc5-4661-84cf-615138795f6a",
   "metadata": {},
   "outputs": [],
   "source": [
    "import numpy as np"
   ]
  },
  {
   "cell_type": "code",
   "execution_count": null,
   "id": "0aff1fee-9807-4eef-bab4-ca069ea5d973",
   "metadata": {},
   "outputs": [],
   "source": [
    "mean = np.mean(df.Grade)\n",
    "sd = np.std(df.Grade)\n",
    "\n",
    "mean , sd"
   ]
  },
  {
   "cell_type": "code",
   "execution_count": null,
   "id": "b38e4c69-a65d-4359-9316-5d54af016ec2",
   "metadata": {},
   "outputs": [],
   "source": [
    "[grade for grade in df.Grade if (grade < mean - 3 * sd) or (grade > mean +  3 *  sd)]"
   ]
  },
  {
   "cell_type": "code",
   "execution_count": null,
   "id": "2001e52c-e27a-46d5-9b02-af716a46abdd",
   "metadata": {},
   "outputs": [],
   "source": [
    "df.head()"
   ]
  },
  {
   "cell_type": "code",
   "execution_count": null,
   "id": "6ce430ee-e345-4b5a-a5c5-c2e3ff5c2be3",
   "metadata": {},
   "outputs": [],
   "source": [
    "df.shape"
   ]
  },
  {
   "cell_type": "code",
   "execution_count": null,
   "id": "b871155b-8d7c-4371-b7a7-bb5fe48b1e6e",
   "metadata": {},
   "outputs": [],
   "source": [
    "df[df.Grade < 60]"
   ]
  },
  {
   "cell_type": "code",
   "execution_count": null,
   "id": "95241865-4555-4680-975d-fa9d197f347e",
   "metadata": {},
   "outputs": [],
   "source": [
    "df.drop([37,56])"
   ]
  },
  {
   "cell_type": "code",
   "execution_count": null,
   "id": "5d102656-b29f-4dac-a224-936f4b30870e",
   "metadata": {},
   "outputs": [],
   "source": [
    "df[df['Grade']>=60]"
   ]
  },
  {
   "cell_type": "code",
   "execution_count": null,
   "id": "c4e71924-65f7-418b-b47e-048d55b8a4cc",
   "metadata": {},
   "outputs": [],
   "source": [
    "df[df.Grade < 60]"
   ]
  },
  {
   "cell_type": "code",
   "execution_count": null,
   "id": "fc772620-3be9-43cc-b45e-9aa3833a8b3b",
   "metadata": {},
   "outputs": [],
   "source": [
    "min_grade = df[df.Grade >= 60]['Grade'].min()\n",
    "min_grade"
   ]
  },
  {
   "cell_type": "code",
   "execution_count": null,
   "id": "1463c294-4e39-4ba5-8750-6e4034f52617",
   "metadata": {},
   "outputs": [],
   "source": [
    "df.Grade = np.where(df.Grade < 60 , min_grade, df.Grade)\n",
    "df.Grade.values[37]"
   ]
  },
  {
   "cell_type": "code",
   "execution_count": null,
   "id": "ffdf9f98-90d7-45b3-b9f6-120ed36602ef",
   "metadata": {},
   "outputs": [],
   "source": [
    "df.loc[[37,56]]"
   ]
  },
  {
   "cell_type": "code",
   "execution_count": null,
   "id": "f2a96052-0acf-496e-bdf7-f96d3038f946",
   "metadata": {},
   "outputs": [],
   "source": [
    "df[df.Student == \"John\"]"
   ]
  },
  {
   "cell_type": "code",
   "execution_count": null,
   "id": "86b37756-4289-4789-a7c5-9b366cb1e84a",
   "metadata": {},
   "outputs": [],
   "source": [
    "df.loc[37,'Grade'] = 74\n"
   ]
  },
  {
   "cell_type": "code",
   "execution_count": null,
   "id": "8aab5693-46b1-4e10-82bc-490ab30ebaac",
   "metadata": {},
   "outputs": [],
   "source": [
    "df.loc[37]"
   ]
  },
  {
   "cell_type": "markdown",
   "id": "18af606d-232b-433a-83a0-b7bffc8177de",
   "metadata": {},
   "source": [
    "**Steps**"
   ]
  },
  {
   "cell_type": "code",
   "execution_count": null,
   "id": "298b08c1-cdac-46d2-9a46-f20469b2b89d",
   "metadata": {},
   "outputs": [],
   "source": [
    "## missing values\n",
    "## inconsistent text and typos\n",
    "## duplicate data\n",
    "## outliers"
   ]
  },
  {
   "cell_type": "code",
   "execution_count": 85,
   "id": "3aef79c0-639e-415b-94a3-86d39d711b33",
   "metadata": {},
   "outputs": [],
   "source": [
    "## missing values\n",
    "df[df.isna().any(axis=1)]\n",
    "df.dropna(inplace=True)"
   ]
  },
  {
   "cell_type": "code",
   "execution_count": 86,
   "id": "2c04932a-c409-4f8a-a4a8-81d30ee35d0e",
   "metadata": {},
   "outputs": [
    {
     "data": {
      "text/plain": [
       "Class\n",
       "Intro to Python              1\n",
       "Intro to SQL                 1\n",
       "Exploratory Data Analysis    1\n",
       "Name: count, dtype: int64"
      ]
     },
     "execution_count": 86,
     "metadata": {},
     "output_type": "execute_result"
    }
   ],
   "source": [
    "## inconsistent text and typos\n",
    "import numpy as np\n",
    "df.Class = np.where(df['Class']==\"Python\",\"Intro to Python\",df['Class'])\n",
    "df.Class = np.where(df['Class']==\"EDA\",\"Exploratory Data Analysis\",df['Class'])\n",
    "df.Class.value_counts()\n"
   ]
  },
  {
   "cell_type": "code",
   "execution_count": 87,
   "id": "e990e275-6f5a-4ba0-8cde-a1b7860c1c7d",
   "metadata": {},
   "outputs": [],
   "source": [
    "## duplicate data\n",
    "df[df.duplicated()]\n",
    "df = df.drop_duplicates()"
   ]
  },
  {
   "cell_type": "code",
   "execution_count": 88,
   "id": "1db90bef-4d26-4b22-8bdf-8c3574ab0e6e",
   "metadata": {},
   "outputs": [
    {
     "data": {
      "text/html": [
       "<div>\n",
       "<style scoped>\n",
       "    .dataframe tbody tr th:only-of-type {\n",
       "        vertical-align: middle;\n",
       "    }\n",
       "\n",
       "    .dataframe tbody tr th {\n",
       "        vertical-align: top;\n",
       "    }\n",
       "\n",
       "    .dataframe thead th {\n",
       "        text-align: right;\n",
       "    }\n",
       "</style>\n",
       "<table border=\"1\" class=\"dataframe\">\n",
       "  <thead>\n",
       "    <tr style=\"text-align: right;\">\n",
       "      <th></th>\n",
       "      <th>Student</th>\n",
       "      <th>Class</th>\n",
       "      <th>Year</th>\n",
       "      <th>Grade</th>\n",
       "    </tr>\n",
       "  </thead>\n",
       "  <tbody>\n",
       "    <tr>\n",
       "      <th>37</th>\n",
       "      <td>John</td>\n",
       "      <td>Intro to Python</td>\n",
       "      <td>Freshman</td>\n",
       "      <td>50.0</td>\n",
       "    </tr>\n",
       "    <tr>\n",
       "      <th>56</th>\n",
       "      <td>Wyatt</td>\n",
       "      <td>Intro to SQL</td>\n",
       "      <td>Sophomore</td>\n",
       "      <td>45.0</td>\n",
       "    </tr>\n",
       "    <tr>\n",
       "      <th>69</th>\n",
       "      <td>Jaxon</td>\n",
       "      <td>Exploratory Data Analysis</td>\n",
       "      <td>Junior</td>\n",
       "      <td>64.0</td>\n",
       "    </tr>\n",
       "  </tbody>\n",
       "</table>\n",
       "</div>"
      ],
      "text/plain": [
       "   Student                      Class       Year  Grade\n",
       "37    John            Intro to Python   Freshman   50.0\n",
       "56   Wyatt               Intro to SQL  Sophomore   45.0\n",
       "69   Jaxon  Exploratory Data Analysis     Junior   64.0"
      ]
     },
     "execution_count": 88,
     "metadata": {},
     "output_type": "execute_result"
    }
   ],
   "source": [
    "## outliers\n",
    "df.head()\n"
   ]
  },
  {
   "cell_type": "code",
   "execution_count": 89,
   "id": "f4d1d66f-e983-476f-8d3c-08fb7e104f7b",
   "metadata": {},
   "outputs": [],
   "source": [
    "df.loc[60,'Grade'] = 100"
   ]
  },
  {
   "cell_type": "code",
   "execution_count": 90,
   "id": "d139f073-b909-46e5-bcba-5d3ece7dc160",
   "metadata": {},
   "outputs": [
    {
     "data": {
      "text/plain": [
       "Student      NaN\n",
       "Class        NaN\n",
       "Year         NaN\n",
       "Grade      100.0\n",
       "Name: 60, dtype: object"
      ]
     },
     "execution_count": 90,
     "metadata": {},
     "output_type": "execute_result"
    }
   ],
   "source": [
    "df.loc[60]"
   ]
  },
  {
   "cell_type": "code",
   "execution_count": 96,
   "id": "d9162d8a-86cd-411f-973b-f9eb1a7b6ac7",
   "metadata": {},
   "outputs": [
    {
     "data": {
      "text/plain": [
       "<Axes: ylabel='Count'>"
      ]
     },
     "execution_count": 96,
     "metadata": {},
     "output_type": "execute_result"
    },
    {
     "data": {
      "image/png": "[encoded data removed]",
      "text/plain": [
       "<Figure size 640x480 with 1 Axes>"
      ]
     },
     "metadata": {},
     "output_type": "display_data"
    }
   ],
   "source": [
    "import seaborn as sns\n",
    "sns.histplot(df)"
   ]
  },
  {
   "cell_type": "code",
   "execution_count": null,
   "id": "ecf20398-c9bc-4514-ae36-fe19adfd01ab",
   "metadata": {},
   "outputs": [],
   "source": []
  },
  {
   "cell_type": "code",
   "execution_count": null,
   "id": "669dbc9d-c022-433b-ab5a-8a9359528c60",
   "metadata": {},
   "outputs": [],
   "source": []
  }
 ],
 "metadata": {
  "kernelspec": {
   "display_name": "Python 3 (ipykernel)",
   "language": "python",
   "name": "python3"
  },
  "language_info": {
   "codemirror_mode": {
    "name": "ipython",
    "version": 3
   },
   "file_extension": ".py",
   "mimetype": "text/x-python",
   "name": "python",
   "nbconvert_exporter": "python",
   "pygments_lexer": "ipython3",
   "version": "3.12.7"
  }
 },
 "nbformat": 4,
 "nbformat_minor": 5
}
