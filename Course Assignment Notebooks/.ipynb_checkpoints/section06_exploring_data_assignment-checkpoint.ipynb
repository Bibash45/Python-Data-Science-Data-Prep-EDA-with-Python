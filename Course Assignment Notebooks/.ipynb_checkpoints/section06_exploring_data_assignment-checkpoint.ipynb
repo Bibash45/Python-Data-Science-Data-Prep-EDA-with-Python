{
 "cells": [
  {
   "cell_type": "markdown",
   "metadata": {},
   "source": [
    "# Assignment: Exploring Data"
   ]
  },
  {
   "cell_type": "markdown",
   "metadata": {},
   "source": [
    "Hi,\n",
    "\n",
    "The marketing team would like to share out the five happiest countries of the 2010s on social media.\n",
    "I’ve attached a notebook that another data scientist started with happiness data inside. I would recommend:\n",
    "* Creating a list of each country’s highest happiness score, and then sorting it from happiest to least happy country\n",
    "* Creating a list of each country’s average happiness score, and then sorting it from happiest to least happy country\n",
    "\n",
    "Are there any differences between the two lists?\n",
    "\n",
    "Thanks!\\\n",
    "Anna"
   ]
  },
  {
   "cell_type": "markdown",
   "metadata": {},
   "source": [
    "## Read in the data"
   ]
  },
  {
   "cell_type": "code",
   "execution_count": 5,
   "metadata": {},
   "outputs": [
    {
     "data": {
      "text/html": [
       "<div>\n",
       "<style scoped>\n",
       "    .dataframe tbody tr th:only-of-type {\n",
       "        vertical-align: middle;\n",
       "    }\n",
       "\n",
       "    .dataframe tbody tr th {\n",
       "        vertical-align: top;\n",
       "    }\n",
       "\n",
       "    .dataframe thead th {\n",
       "        text-align: right;\n",
       "    }\n",
       "</style>\n",
       "<table border=\"1\" class=\"dataframe\">\n",
       "  <thead>\n",
       "    <tr style=\"text-align: right;\">\n",
       "      <th></th>\n",
       "      <th>country_name</th>\n",
       "      <th>year</th>\n",
       "      <th>happiness_score</th>\n",
       "      <th>social_support</th>\n",
       "      <th>freedom_to_make_life_choices</th>\n",
       "      <th>healthy_life_expectancy_at_birth</th>\n",
       "    </tr>\n",
       "  </thead>\n",
       "  <tbody>\n",
       "    <tr>\n",
       "      <th>0</th>\n",
       "      <td>Afghanistan</td>\n",
       "      <td>2008</td>\n",
       "      <td>3.723590</td>\n",
       "      <td>0.450662</td>\n",
       "      <td>0.718114</td>\n",
       "      <td>50.500000</td>\n",
       "    </tr>\n",
       "    <tr>\n",
       "      <th>1</th>\n",
       "      <td>Afghanistan</td>\n",
       "      <td>2009</td>\n",
       "      <td>4.401778</td>\n",
       "      <td>0.552308</td>\n",
       "      <td>0.678896</td>\n",
       "      <td>50.799999</td>\n",
       "    </tr>\n",
       "    <tr>\n",
       "      <th>2</th>\n",
       "      <td>Afghanistan</td>\n",
       "      <td>2010</td>\n",
       "      <td>4.758381</td>\n",
       "      <td>0.539075</td>\n",
       "      <td>0.600127</td>\n",
       "      <td>51.099998</td>\n",
       "    </tr>\n",
       "    <tr>\n",
       "      <th>3</th>\n",
       "      <td>Afghanistan</td>\n",
       "      <td>2011</td>\n",
       "      <td>3.831719</td>\n",
       "      <td>0.521104</td>\n",
       "      <td>0.495901</td>\n",
       "      <td>51.400002</td>\n",
       "    </tr>\n",
       "    <tr>\n",
       "      <th>4</th>\n",
       "      <td>Afghanistan</td>\n",
       "      <td>2012</td>\n",
       "      <td>3.782938</td>\n",
       "      <td>0.520637</td>\n",
       "      <td>0.530935</td>\n",
       "      <td>51.700001</td>\n",
       "    </tr>\n",
       "  </tbody>\n",
       "</table>\n",
       "</div>"
      ],
      "text/plain": [
       "  country_name  year  happiness_score  social_support  \\\n",
       "0  Afghanistan  2008         3.723590        0.450662   \n",
       "1  Afghanistan  2009         4.401778        0.552308   \n",
       "2  Afghanistan  2010         4.758381        0.539075   \n",
       "3  Afghanistan  2011         3.831719        0.521104   \n",
       "4  Afghanistan  2012         3.782938        0.520637   \n",
       "\n",
       "   freedom_to_make_life_choices  healthy_life_expectancy_at_birth  \n",
       "0                      0.718114                         50.500000  \n",
       "1                      0.678896                         50.799999  \n",
       "2                      0.600127                         51.099998  \n",
       "3                      0.495901                         51.400002  \n",
       "4                      0.530935                         51.700001  "
      ]
     },
     "execution_count": 5,
     "metadata": {},
     "output_type": "execute_result"
    }
   ],
   "source": [
    "# import the data \n",
    "\n",
    "import pandas as pd\n",
    "\n",
    "df = pd.read_csv('../Data/happiness_survey_data.csv')\n",
    "df.head()"
   ]
  },
  {
   "cell_type": "code",
   "execution_count": 3,
   "metadata": {},
   "outputs": [
    {
     "data": {
      "text/plain": [
       "(2089, 6)"
      ]
     },
     "execution_count": 3,
     "metadata": {},
     "output_type": "execute_result"
    }
   ],
   "source": [
    "# there are 2089 rows and 6 columns of data\n",
    "df.shape"
   ]
  },
  {
   "cell_type": "code",
   "execution_count": null,
   "metadata": {},
   "outputs": [],
   "source": []
  },
  {
   "cell_type": "code",
   "execution_count": null,
   "metadata": {},
   "outputs": [],
   "source": [
    "# the years range from 2005 - 2021\n",
    "# happiness scores range from 2 - 8\n",
    "df.describe()"
   ]
  },
  {
   "cell_type": "code",
   "execution_count": null,
   "metadata": {},
   "outputs": [],
   "source": []
  },
  {
   "cell_type": "code",
   "execution_count": null,
   "metadata": {},
   "outputs": [],
   "source": []
  },
  {
   "cell_type": "code",
   "execution_count": null,
   "metadata": {},
   "outputs": [],
   "source": []
  },
  {
   "cell_type": "markdown",
   "metadata": {},
   "source": [
    "## Explore the data"
   ]
  },
  {
   "cell_type": "code",
   "execution_count": null,
   "metadata": {},
   "outputs": [],
   "source": [
    "# Filter out any data before 2010 and after 2019\n",
    "mask = (df.year >= 2010) & (df.year < 2020)\n",
    "filtered_df = df[mask]\n",
    "filtered_df.head()"
   ]
  },
  {
   "cell_type": "code",
   "execution_count": null,
   "metadata": {},
   "outputs": [],
   "source": [
    "# Group the data by country and calculate the maximum happiness score for each one\n",
    "filtered_df.groupby(\"country_name\")['happiness_score'].max()"
   ]
  },
  {
   "cell_type": "code",
   "execution_count": null,
   "metadata": {},
   "outputs": [],
   "source": [
    "# Sort the grouped countries by happiness score and return the top five\n",
    "# Group the data by country and calculate the maximum happiness score for each one\n",
    "filtered_df.groupby(\"country_name\")['happiness_score'].max().sort_values(ascending=False).head(5)"
   ]
  },
  {
   "cell_type": "code",
   "execution_count": null,
   "metadata": {},
   "outputs": [],
   "source": [
    "# Group the data by country and calculate the average happiness score for each one\n",
    "filtered_df.groupby(\"country_name\")['happiness_score'].mean()"
   ]
  },
  {
   "cell_type": "code",
   "execution_count": null,
   "metadata": {},
   "outputs": [],
   "source": [
    "# Sort the grouped countries by happiness score and return the top five\n",
    "filtered_df.groupby(\"country_name\")['happiness_score'].mean().sort_values(ascending=False).head(5)"
   ]
  },
  {
   "cell_type": "code",
   "execution_count": null,
   "metadata": {},
   "outputs": [],
   "source": [
    "# Compare the two lists"
   ]
  },
  {
   "cell_type": "code",
   "execution_count": null,
   "metadata": {},
   "outputs": [],
   "source": [
    "# max happiness scores\n",
    "Finland        7.858107\n",
    "Denmark        7.788232\n",
    "Switzerland    7.776209\n",
    "Norway         7.678277\n",
    "Canada         7.650346"
   ]
  },
  {
   "cell_type": "code",
   "execution_count": null,
   "metadata": {},
   "outputs": [],
   "source": [
    "# average happiness scores\n",
    "Denmark        7.618252\n",
    "Switzerland    7.568010\n",
    "Finland        7.553138\n",
    "Norway         7.541094\n",
    "Iceland        7.518146\n"
   ]
  },
  {
   "cell_type": "code",
   "execution_count": null,
   "metadata": {},
   "outputs": [],
   "source": [
    "filtered_df[filtered_df.country_name.isin(['Finland','Denmark','Switzerland'])]"
   ]
  },
  {
   "cell_type": "code",
   "execution_count": null,
   "metadata": {},
   "outputs": [],
   "source": []
  }
 ],
 "metadata": {
  "kernelspec": {
   "display_name": "Python 3 (ipykernel)",
   "language": "python",
   "name": "python3"
  },
  "language_info": {
   "codemirror_mode": {
    "name": "ipython",
    "version": 3
   },
   "file_extension": ".py",
   "mimetype": "text/x-python",
   "name": "python",
   "nbconvert_exporter": "python",
   "pygments_lexer": "ipython3",
   "version": "3.12.7"
  }
 },
 "nbformat": 4,
 "nbformat_minor": 4
}
