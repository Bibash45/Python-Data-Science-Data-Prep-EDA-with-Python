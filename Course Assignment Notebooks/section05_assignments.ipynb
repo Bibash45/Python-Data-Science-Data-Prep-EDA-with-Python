{
 "cells": [
  {
   "cell_type": "markdown",
   "metadata": {},
   "source": [
    "# Assignments: Cleaning Data"
   ]
  },
  {
   "cell_type": "markdown",
   "metadata": {},
   "source": [
    "## 1. Data in Python Request"
   ]
  },
  {
   "cell_type": "markdown",
   "metadata": {},
   "source": [
    "* Read in data from the Excel spreadsheet (Alarm Survey Data.xlsx) and put into a Pandas DataFrame\n",
    "* Check the data type of each column\n",
    "* Convert object columns into numeric or datetime columns, as needed"
   ]
  },
  {
   "cell_type": "code",
   "execution_count": 2,
   "metadata": {},
   "outputs": [],
   "source": [
    "import pandas as pd"
   ]
  },
  {
   "cell_type": "code",
   "execution_count": 3,
   "metadata": {},
   "outputs": [
    {
     "data": {
      "text/html": [
       "<div>\n",
       "<style scoped>\n",
       "    .dataframe tbody tr th:only-of-type {\n",
       "        vertical-align: middle;\n",
       "    }\n",
       "\n",
       "    .dataframe tbody tr th {\n",
       "        vertical-align: top;\n",
       "    }\n",
       "\n",
       "    .dataframe thead th {\n",
       "        text-align: right;\n",
       "    }\n",
       "</style>\n",
       "<table border=\"1\" class=\"dataframe\">\n",
       "  <thead>\n",
       "    <tr style=\"text-align: right;\">\n",
       "      <th></th>\n",
       "      <th>survey_id</th>\n",
       "      <th>age</th>\n",
       "      <th>number_of_children</th>\n",
       "      <th>activity_level</th>\n",
       "      <th>sleep_quality</th>\n",
       "      <th>number_of_snoozes</th>\n",
       "      <th>alarm_rating</th>\n",
       "    </tr>\n",
       "  </thead>\n",
       "  <tbody>\n",
       "    <tr>\n",
       "      <th>0</th>\n",
       "      <td>1</td>\n",
       "      <td>34</td>\n",
       "      <td>3.0</td>\n",
       "      <td>active</td>\n",
       "      <td>3.0</td>\n",
       "      <td>1</td>\n",
       "      <td>5 stars</td>\n",
       "    </tr>\n",
       "    <tr>\n",
       "      <th>1</th>\n",
       "      <td>2</td>\n",
       "      <td>31</td>\n",
       "      <td>3.0</td>\n",
       "      <td>light</td>\n",
       "      <td>3.0</td>\n",
       "      <td>3</td>\n",
       "      <td>3 stars</td>\n",
       "    </tr>\n",
       "    <tr>\n",
       "      <th>2</th>\n",
       "      <td>3</td>\n",
       "      <td>18</td>\n",
       "      <td>0.0</td>\n",
       "      <td>light_activity</td>\n",
       "      <td>4.0</td>\n",
       "      <td>1</td>\n",
       "      <td>1 stars</td>\n",
       "    </tr>\n",
       "    <tr>\n",
       "      <th>3</th>\n",
       "      <td>4</td>\n",
       "      <td>42</td>\n",
       "      <td>4.0</td>\n",
       "      <td>active</td>\n",
       "      <td>4.0</td>\n",
       "      <td>1</td>\n",
       "      <td>4 stars</td>\n",
       "    </tr>\n",
       "    <tr>\n",
       "      <th>4</th>\n",
       "      <td>5</td>\n",
       "      <td>30</td>\n",
       "      <td>1.0</td>\n",
       "      <td>light_activity</td>\n",
       "      <td>1.0</td>\n",
       "      <td>4</td>\n",
       "      <td>3 stars</td>\n",
       "    </tr>\n",
       "  </tbody>\n",
       "</table>\n",
       "</div>"
      ],
      "text/plain": [
       "   survey_id  age  number_of_children  activity_level  sleep_quality  \\\n",
       "0          1   34                 3.0          active            3.0   \n",
       "1          2   31                 3.0           light            3.0   \n",
       "2          3   18                 0.0  light_activity            4.0   \n",
       "3          4   42                 4.0          active            4.0   \n",
       "4          5   30                 1.0  light_activity            1.0   \n",
       "\n",
       "   number_of_snoozes alarm_rating  \n",
       "0                  1      5 stars  \n",
       "1                  3      3 stars  \n",
       "2                  1      1 stars  \n",
       "3                  1      4 stars  \n",
       "4                  4      3 stars  "
      ]
     },
     "execution_count": 3,
     "metadata": {},
     "output_type": "execute_result"
    }
   ],
   "source": [
    "alarm_survey_data = pd.read_excel(\"../Data/Alarm Survey Data.xlsx\")\n",
    "alarm_survey_data.head()"
   ]
  },
  {
   "cell_type": "code",
   "execution_count": 4,
   "metadata": {},
   "outputs": [
    {
     "data": {
      "text/plain": [
       "survey_id               int64\n",
       "age                     int64\n",
       "number_of_children    float64\n",
       "activity_level         object\n",
       "sleep_quality         float64\n",
       "number_of_snoozes       int64\n",
       "alarm_rating           object\n",
       "dtype: object"
      ]
     },
     "execution_count": 4,
     "metadata": {},
     "output_type": "execute_result"
    }
   ],
   "source": [
    "alarm_survey_data.dtypes"
   ]
  },
  {
   "cell_type": "code",
   "execution_count": 5,
   "metadata": {},
   "outputs": [
    {
     "data": {
      "text/html": [
       "<div>\n",
       "<style scoped>\n",
       "    .dataframe tbody tr th:only-of-type {\n",
       "        vertical-align: middle;\n",
       "    }\n",
       "\n",
       "    .dataframe tbody tr th {\n",
       "        vertical-align: top;\n",
       "    }\n",
       "\n",
       "    .dataframe thead th {\n",
       "        text-align: right;\n",
       "    }\n",
       "</style>\n",
       "<table border=\"1\" class=\"dataframe\">\n",
       "  <thead>\n",
       "    <tr style=\"text-align: right;\">\n",
       "      <th></th>\n",
       "      <th>survey_id</th>\n",
       "      <th>age</th>\n",
       "      <th>number_of_children</th>\n",
       "      <th>activity_level</th>\n",
       "      <th>sleep_quality</th>\n",
       "      <th>number_of_snoozes</th>\n",
       "      <th>alarm_rating</th>\n",
       "    </tr>\n",
       "  </thead>\n",
       "  <tbody>\n",
       "    <tr>\n",
       "      <th>0</th>\n",
       "      <td>1</td>\n",
       "      <td>34</td>\n",
       "      <td>3.0</td>\n",
       "      <td>active</td>\n",
       "      <td>3.0</td>\n",
       "      <td>1</td>\n",
       "      <td>5</td>\n",
       "    </tr>\n",
       "    <tr>\n",
       "      <th>1</th>\n",
       "      <td>2</td>\n",
       "      <td>31</td>\n",
       "      <td>3.0</td>\n",
       "      <td>light</td>\n",
       "      <td>3.0</td>\n",
       "      <td>3</td>\n",
       "      <td>3</td>\n",
       "    </tr>\n",
       "    <tr>\n",
       "      <th>2</th>\n",
       "      <td>3</td>\n",
       "      <td>18</td>\n",
       "      <td>0.0</td>\n",
       "      <td>light_activity</td>\n",
       "      <td>4.0</td>\n",
       "      <td>1</td>\n",
       "      <td>1</td>\n",
       "    </tr>\n",
       "    <tr>\n",
       "      <th>3</th>\n",
       "      <td>4</td>\n",
       "      <td>42</td>\n",
       "      <td>4.0</td>\n",
       "      <td>active</td>\n",
       "      <td>4.0</td>\n",
       "      <td>1</td>\n",
       "      <td>4</td>\n",
       "    </tr>\n",
       "    <tr>\n",
       "      <th>4</th>\n",
       "      <td>5</td>\n",
       "      <td>30</td>\n",
       "      <td>1.0</td>\n",
       "      <td>light_activity</td>\n",
       "      <td>1.0</td>\n",
       "      <td>4</td>\n",
       "      <td>3</td>\n",
       "    </tr>\n",
       "  </tbody>\n",
       "</table>\n",
       "</div>"
      ],
      "text/plain": [
       "   survey_id  age  number_of_children  activity_level  sleep_quality  \\\n",
       "0          1   34                 3.0          active            3.0   \n",
       "1          2   31                 3.0           light            3.0   \n",
       "2          3   18                 0.0  light_activity            4.0   \n",
       "3          4   42                 4.0          active            4.0   \n",
       "4          5   30                 1.0  light_activity            1.0   \n",
       "\n",
       "   number_of_snoozes  alarm_rating  \n",
       "0                  1             5  \n",
       "1                  3             3  \n",
       "2                  1             1  \n",
       "3                  1             4  \n",
       "4                  4             3  "
      ]
     },
     "execution_count": 5,
     "metadata": {},
     "output_type": "execute_result"
    }
   ],
   "source": [
    "alarm_survey_data['alarm_rating'] = pd.to_numeric(alarm_survey_data.alarm_rating.astype('str').str.replace('stars',''))\n",
    "alarm_survey_data.head()"
   ]
  },
  {
   "cell_type": "code",
   "execution_count": 6,
   "metadata": {},
   "outputs": [
    {
     "data": {
      "text/plain": [
       "survey_id               int64\n",
       "age                     int64\n",
       "number_of_children    float64\n",
       "activity_level         object\n",
       "sleep_quality         float64\n",
       "number_of_snoozes       int64\n",
       "alarm_rating            int64\n",
       "dtype: object"
      ]
     },
     "execution_count": 6,
     "metadata": {},
     "output_type": "execute_result"
    }
   ],
   "source": [
    "alarm_survey_data.dtypes"
   ]
  },
  {
   "cell_type": "markdown",
   "metadata": {},
   "source": [
    "## 2. Missing Data Check"
   ]
  },
  {
   "cell_type": "markdown",
   "metadata": {},
   "source": [
    "* Find any missing data\n",
    "* Deal with the missing data"
   ]
  },
  {
   "cell_type": "code",
   "execution_count": 7,
   "metadata": {},
   "outputs": [
    {
     "name": "stdout",
     "output_type": "stream",
     "text": [
      "<class 'pandas.core.frame.DataFrame'>\n",
      "RangeIndex: 6433 entries, 0 to 6432\n",
      "Data columns (total 7 columns):\n",
      " #   Column              Non-Null Count  Dtype  \n",
      "---  ------              --------------  -----  \n",
      " 0   survey_id           6433 non-null   int64  \n",
      " 1   age                 6433 non-null   int64  \n",
      " 2   number_of_children  6433 non-null   float64\n",
      " 3   activity_level      6433 non-null   object \n",
      " 4   sleep_quality       6082 non-null   float64\n",
      " 5   number_of_snoozes   6433 non-null   int64  \n",
      " 6   alarm_rating        6433 non-null   int64  \n",
      "dtypes: float64(2), int64(4), object(1)\n",
      "memory usage: 351.9+ KB\n"
     ]
    }
   ],
   "source": [
    "alarm_survey_data.info()"
   ]
  },
  {
   "cell_type": "code",
   "execution_count": 8,
   "metadata": {},
   "outputs": [
    {
     "data": {
      "text/html": [
       "<div>\n",
       "<style scoped>\n",
       "    .dataframe tbody tr th:only-of-type {\n",
       "        vertical-align: middle;\n",
       "    }\n",
       "\n",
       "    .dataframe tbody tr th {\n",
       "        vertical-align: top;\n",
       "    }\n",
       "\n",
       "    .dataframe thead th {\n",
       "        text-align: right;\n",
       "    }\n",
       "</style>\n",
       "<table border=\"1\" class=\"dataframe\">\n",
       "  <thead>\n",
       "    <tr style=\"text-align: right;\">\n",
       "      <th></th>\n",
       "      <th>survey_id</th>\n",
       "      <th>age</th>\n",
       "      <th>number_of_children</th>\n",
       "      <th>activity_level</th>\n",
       "      <th>sleep_quality</th>\n",
       "      <th>number_of_snoozes</th>\n",
       "      <th>alarm_rating</th>\n",
       "    </tr>\n",
       "  </thead>\n",
       "  <tbody>\n",
       "    <tr>\n",
       "      <th>10</th>\n",
       "      <td>11</td>\n",
       "      <td>28</td>\n",
       "      <td>2.0</td>\n",
       "      <td>light_activity</td>\n",
       "      <td>NaN</td>\n",
       "      <td>3</td>\n",
       "      <td>4</td>\n",
       "    </tr>\n",
       "    <tr>\n",
       "      <th>18</th>\n",
       "      <td>19</td>\n",
       "      <td>38</td>\n",
       "      <td>2.0</td>\n",
       "      <td>lightly active</td>\n",
       "      <td>NaN</td>\n",
       "      <td>1</td>\n",
       "      <td>5</td>\n",
       "    </tr>\n",
       "    <tr>\n",
       "      <th>23</th>\n",
       "      <td>24</td>\n",
       "      <td>24</td>\n",
       "      <td>2.0</td>\n",
       "      <td>very active</td>\n",
       "      <td>NaN</td>\n",
       "      <td>1</td>\n",
       "      <td>5</td>\n",
       "    </tr>\n",
       "    <tr>\n",
       "      <th>26</th>\n",
       "      <td>27</td>\n",
       "      <td>25</td>\n",
       "      <td>2.0</td>\n",
       "      <td>lightly active</td>\n",
       "      <td>NaN</td>\n",
       "      <td>1</td>\n",
       "      <td>2</td>\n",
       "    </tr>\n",
       "    <tr>\n",
       "      <th>28</th>\n",
       "      <td>29</td>\n",
       "      <td>29</td>\n",
       "      <td>2.0</td>\n",
       "      <td>lightly active</td>\n",
       "      <td>NaN</td>\n",
       "      <td>1</td>\n",
       "      <td>2</td>\n",
       "    </tr>\n",
       "    <tr>\n",
       "      <th>...</th>\n",
       "      <td>...</td>\n",
       "      <td>...</td>\n",
       "      <td>...</td>\n",
       "      <td>...</td>\n",
       "      <td>...</td>\n",
       "      <td>...</td>\n",
       "      <td>...</td>\n",
       "    </tr>\n",
       "    <tr>\n",
       "      <th>6310</th>\n",
       "      <td>6311</td>\n",
       "      <td>30</td>\n",
       "      <td>2.0</td>\n",
       "      <td>very active</td>\n",
       "      <td>NaN</td>\n",
       "      <td>0</td>\n",
       "      <td>3</td>\n",
       "    </tr>\n",
       "    <tr>\n",
       "      <th>6319</th>\n",
       "      <td>6320</td>\n",
       "      <td>44</td>\n",
       "      <td>2.0</td>\n",
       "      <td>lightly active</td>\n",
       "      <td>NaN</td>\n",
       "      <td>0</td>\n",
       "      <td>3</td>\n",
       "    </tr>\n",
       "    <tr>\n",
       "      <th>6375</th>\n",
       "      <td>6309</td>\n",
       "      <td>32</td>\n",
       "      <td>3.0</td>\n",
       "      <td>light</td>\n",
       "      <td>NaN</td>\n",
       "      <td>0</td>\n",
       "      <td>3</td>\n",
       "    </tr>\n",
       "    <tr>\n",
       "      <th>6377</th>\n",
       "      <td>6311</td>\n",
       "      <td>30</td>\n",
       "      <td>2.0</td>\n",
       "      <td>very active</td>\n",
       "      <td>NaN</td>\n",
       "      <td>0</td>\n",
       "      <td>3</td>\n",
       "    </tr>\n",
       "    <tr>\n",
       "      <th>6386</th>\n",
       "      <td>6320</td>\n",
       "      <td>44</td>\n",
       "      <td>2.0</td>\n",
       "      <td>lightly active</td>\n",
       "      <td>NaN</td>\n",
       "      <td>0</td>\n",
       "      <td>3</td>\n",
       "    </tr>\n",
       "  </tbody>\n",
       "</table>\n",
       "<p>351 rows × 7 columns</p>\n",
       "</div>"
      ],
      "text/plain": [
       "      survey_id  age  number_of_children  activity_level  sleep_quality  \\\n",
       "10           11   28                 2.0  light_activity            NaN   \n",
       "18           19   38                 2.0  lightly active            NaN   \n",
       "23           24   24                 2.0     very active            NaN   \n",
       "26           27   25                 2.0  lightly active            NaN   \n",
       "28           29   29                 2.0  lightly active            NaN   \n",
       "...         ...  ...                 ...             ...            ...   \n",
       "6310       6311   30                 2.0     very active            NaN   \n",
       "6319       6320   44                 2.0  lightly active            NaN   \n",
       "6375       6309   32                 3.0           light            NaN   \n",
       "6377       6311   30                 2.0     very active            NaN   \n",
       "6386       6320   44                 2.0  lightly active            NaN   \n",
       "\n",
       "      number_of_snoozes  alarm_rating  \n",
       "10                    3             4  \n",
       "18                    1             5  \n",
       "23                    1             5  \n",
       "26                    1             2  \n",
       "28                    1             2  \n",
       "...                 ...           ...  \n",
       "6310                  0             3  \n",
       "6319                  0             3  \n",
       "6375                  0             3  \n",
       "6377                  0             3  \n",
       "6386                  0             3  \n",
       "\n",
       "[351 rows x 7 columns]"
      ]
     },
     "execution_count": 8,
     "metadata": {},
     "output_type": "execute_result"
    }
   ],
   "source": [
    "alarm_survey_data[alarm_survey_data.isna().any(axis=1)]"
   ]
  },
  {
   "cell_type": "code",
   "execution_count": 9,
   "metadata": {},
   "outputs": [
    {
     "data": {
      "text/plain": [
       "sleep_quality\n",
       "5.0    2721\n",
       "4.0    2261\n",
       "3.0     997\n",
       "NaN     351\n",
       "1.0     103\n",
       "Name: count, dtype: int64"
      ]
     },
     "execution_count": 9,
     "metadata": {},
     "output_type": "execute_result"
    }
   ],
   "source": [
    "alarm_survey_data.sleep_quality.value_counts(dropna=False)"
   ]
  },
  {
   "cell_type": "code",
   "execution_count": 10,
   "metadata": {},
   "outputs": [],
   "source": [
    "alarm_survey_data['sleep_quality'] = alarm_survey_data['sleep_quality'].fillna(2)"
   ]
  },
  {
   "cell_type": "code",
   "execution_count": 11,
   "metadata": {},
   "outputs": [
    {
     "name": "stdout",
     "output_type": "stream",
     "text": [
      "<class 'pandas.core.frame.DataFrame'>\n",
      "RangeIndex: 6433 entries, 0 to 6432\n",
      "Data columns (total 7 columns):\n",
      " #   Column              Non-Null Count  Dtype  \n",
      "---  ------              --------------  -----  \n",
      " 0   survey_id           6433 non-null   int64  \n",
      " 1   age                 6433 non-null   int64  \n",
      " 2   number_of_children  6433 non-null   float64\n",
      " 3   activity_level      6433 non-null   object \n",
      " 4   sleep_quality       6433 non-null   float64\n",
      " 5   number_of_snoozes   6433 non-null   int64  \n",
      " 6   alarm_rating        6433 non-null   int64  \n",
      "dtypes: float64(2), int64(4), object(1)\n",
      "memory usage: 351.9+ KB\n"
     ]
    }
   ],
   "source": [
    "alarm_survey_data.info()"
   ]
  },
  {
   "cell_type": "code",
   "execution_count": 12,
   "metadata": {},
   "outputs": [
    {
     "data": {
      "text/plain": [
       "sleep_quality\n",
       "5.0    2721\n",
       "4.0    2261\n",
       "3.0     997\n",
       "2.0     351\n",
       "1.0     103\n",
       "Name: count, dtype: int64"
      ]
     },
     "execution_count": 12,
     "metadata": {},
     "output_type": "execute_result"
    }
   ],
   "source": [
    "alarm_survey_data.sleep_quality.value_counts(dropna=False)"
   ]
  },
  {
   "cell_type": "code",
   "execution_count": null,
   "metadata": {},
   "outputs": [],
   "source": []
  },
  {
   "cell_type": "markdown",
   "metadata": {},
   "source": [
    "## 3. Inconsistent Text & Typos Check"
   ]
  },
  {
   "cell_type": "markdown",
   "metadata": {},
   "source": [
    "* Find any inconsistent text and typos\n",
    "* Deal with the inconsistent text and typos"
   ]
  },
  {
   "cell_type": "code",
   "execution_count": 13,
   "metadata": {},
   "outputs": [
    {
     "data": {
      "text/html": [
       "<div>\n",
       "<style scoped>\n",
       "    .dataframe tbody tr th:only-of-type {\n",
       "        vertical-align: middle;\n",
       "    }\n",
       "\n",
       "    .dataframe tbody tr th {\n",
       "        vertical-align: top;\n",
       "    }\n",
       "\n",
       "    .dataframe thead th {\n",
       "        text-align: right;\n",
       "    }\n",
       "</style>\n",
       "<table border=\"1\" class=\"dataframe\">\n",
       "  <thead>\n",
       "    <tr style=\"text-align: right;\">\n",
       "      <th></th>\n",
       "      <th>survey_id</th>\n",
       "      <th>age</th>\n",
       "      <th>number_of_children</th>\n",
       "      <th>activity_level</th>\n",
       "      <th>sleep_quality</th>\n",
       "      <th>number_of_snoozes</th>\n",
       "      <th>alarm_rating</th>\n",
       "    </tr>\n",
       "  </thead>\n",
       "  <tbody>\n",
       "    <tr>\n",
       "      <th>0</th>\n",
       "      <td>1</td>\n",
       "      <td>34</td>\n",
       "      <td>3.0</td>\n",
       "      <td>active</td>\n",
       "      <td>3.0</td>\n",
       "      <td>1</td>\n",
       "      <td>5</td>\n",
       "    </tr>\n",
       "    <tr>\n",
       "      <th>1</th>\n",
       "      <td>2</td>\n",
       "      <td>31</td>\n",
       "      <td>3.0</td>\n",
       "      <td>light</td>\n",
       "      <td>3.0</td>\n",
       "      <td>3</td>\n",
       "      <td>3</td>\n",
       "    </tr>\n",
       "    <tr>\n",
       "      <th>2</th>\n",
       "      <td>3</td>\n",
       "      <td>18</td>\n",
       "      <td>0.0</td>\n",
       "      <td>light_activity</td>\n",
       "      <td>4.0</td>\n",
       "      <td>1</td>\n",
       "      <td>1</td>\n",
       "    </tr>\n",
       "    <tr>\n",
       "      <th>3</th>\n",
       "      <td>4</td>\n",
       "      <td>42</td>\n",
       "      <td>4.0</td>\n",
       "      <td>active</td>\n",
       "      <td>4.0</td>\n",
       "      <td>1</td>\n",
       "      <td>4</td>\n",
       "    </tr>\n",
       "    <tr>\n",
       "      <th>4</th>\n",
       "      <td>5</td>\n",
       "      <td>30</td>\n",
       "      <td>1.0</td>\n",
       "      <td>light_activity</td>\n",
       "      <td>1.0</td>\n",
       "      <td>4</td>\n",
       "      <td>3</td>\n",
       "    </tr>\n",
       "  </tbody>\n",
       "</table>\n",
       "</div>"
      ],
      "text/plain": [
       "   survey_id  age  number_of_children  activity_level  sleep_quality  \\\n",
       "0          1   34                 3.0          active            3.0   \n",
       "1          2   31                 3.0           light            3.0   \n",
       "2          3   18                 0.0  light_activity            4.0   \n",
       "3          4   42                 4.0          active            4.0   \n",
       "4          5   30                 1.0  light_activity            1.0   \n",
       "\n",
       "   number_of_snoozes  alarm_rating  \n",
       "0                  1             5  \n",
       "1                  3             3  \n",
       "2                  1             1  \n",
       "3                  1             4  \n",
       "4                  4             3  "
      ]
     },
     "execution_count": 13,
     "metadata": {},
     "output_type": "execute_result"
    }
   ],
   "source": [
    "alarm_survey_data.head()"
   ]
  },
  {
   "cell_type": "code",
   "execution_count": 14,
   "metadata": {},
   "outputs": [
    {
     "data": {
      "text/html": [
       "<div>\n",
       "<style scoped>\n",
       "    .dataframe tbody tr th:only-of-type {\n",
       "        vertical-align: middle;\n",
       "    }\n",
       "\n",
       "    .dataframe tbody tr th {\n",
       "        vertical-align: top;\n",
       "    }\n",
       "\n",
       "    .dataframe thead th {\n",
       "        text-align: right;\n",
       "    }\n",
       "</style>\n",
       "<table border=\"1\" class=\"dataframe\">\n",
       "  <thead>\n",
       "    <tr style=\"text-align: right;\">\n",
       "      <th></th>\n",
       "      <th>survey_id</th>\n",
       "      <th>age</th>\n",
       "      <th>number_of_children</th>\n",
       "      <th>sleep_quality</th>\n",
       "      <th>number_of_snoozes</th>\n",
       "      <th>alarm_rating</th>\n",
       "    </tr>\n",
       "  </thead>\n",
       "  <tbody>\n",
       "    <tr>\n",
       "      <th>count</th>\n",
       "      <td>6433.000000</td>\n",
       "      <td>6433.000000</td>\n",
       "      <td>6433.000000</td>\n",
       "      <td>6433.000000</td>\n",
       "      <td>6433.000000</td>\n",
       "      <td>6433.000000</td>\n",
       "    </tr>\n",
       "    <tr>\n",
       "      <th>mean</th>\n",
       "      <td>3216.302192</td>\n",
       "      <td>29.069175</td>\n",
       "      <td>1.395616</td>\n",
       "      <td>4.110835</td>\n",
       "      <td>1.145811</td>\n",
       "      <td>2.955075</td>\n",
       "    </tr>\n",
       "    <tr>\n",
       "      <th>std</th>\n",
       "      <td>1856.007409</td>\n",
       "      <td>7.472048</td>\n",
       "      <td>1.432192</td>\n",
       "      <td>0.963415</td>\n",
       "      <td>1.599481</td>\n",
       "      <td>1.101363</td>\n",
       "    </tr>\n",
       "    <tr>\n",
       "      <th>min</th>\n",
       "      <td>1.000000</td>\n",
       "      <td>13.000000</td>\n",
       "      <td>0.000000</td>\n",
       "      <td>1.000000</td>\n",
       "      <td>0.000000</td>\n",
       "      <td>1.000000</td>\n",
       "    </tr>\n",
       "    <tr>\n",
       "      <th>25%</th>\n",
       "      <td>1609.000000</td>\n",
       "      <td>23.000000</td>\n",
       "      <td>0.000000</td>\n",
       "      <td>4.000000</td>\n",
       "      <td>0.000000</td>\n",
       "      <td>2.000000</td>\n",
       "    </tr>\n",
       "    <tr>\n",
       "      <th>50%</th>\n",
       "      <td>3217.000000</td>\n",
       "      <td>28.000000</td>\n",
       "      <td>1.000000</td>\n",
       "      <td>4.000000</td>\n",
       "      <td>0.000000</td>\n",
       "      <td>3.000000</td>\n",
       "    </tr>\n",
       "    <tr>\n",
       "      <th>75%</th>\n",
       "      <td>4825.000000</td>\n",
       "      <td>34.000000</td>\n",
       "      <td>2.000000</td>\n",
       "      <td>5.000000</td>\n",
       "      <td>2.000000</td>\n",
       "      <td>4.000000</td>\n",
       "    </tr>\n",
       "    <tr>\n",
       "      <th>max</th>\n",
       "      <td>6366.000000</td>\n",
       "      <td>47.000000</td>\n",
       "      <td>5.500000</td>\n",
       "      <td>5.000000</td>\n",
       "      <td>19.000000</td>\n",
       "      <td>5.000000</td>\n",
       "    </tr>\n",
       "  </tbody>\n",
       "</table>\n",
       "</div>"
      ],
      "text/plain": [
       "         survey_id          age  number_of_children  sleep_quality  \\\n",
       "count  6433.000000  6433.000000         6433.000000    6433.000000   \n",
       "mean   3216.302192    29.069175            1.395616       4.110835   \n",
       "std    1856.007409     7.472048            1.432192       0.963415   \n",
       "min       1.000000    13.000000            0.000000       1.000000   \n",
       "25%    1609.000000    23.000000            0.000000       4.000000   \n",
       "50%    3217.000000    28.000000            1.000000       4.000000   \n",
       "75%    4825.000000    34.000000            2.000000       5.000000   \n",
       "max    6366.000000    47.000000            5.500000       5.000000   \n",
       "\n",
       "       number_of_snoozes  alarm_rating  \n",
       "count        6433.000000   6433.000000  \n",
       "mean            1.145811      2.955075  \n",
       "std             1.599481      1.101363  \n",
       "min             0.000000      1.000000  \n",
       "25%             0.000000      2.000000  \n",
       "50%             0.000000      3.000000  \n",
       "75%             2.000000      4.000000  \n",
       "max            19.000000      5.000000  "
      ]
     },
     "execution_count": 14,
     "metadata": {},
     "output_type": "execute_result"
    }
   ],
   "source": [
    "alarm_survey_data.describe()"
   ]
  },
  {
   "cell_type": "code",
   "execution_count": 15,
   "metadata": {},
   "outputs": [
    {
     "data": {
      "text/plain": [
       "number_of_children\n",
       "0.0    2440\n",
       "2.0    1498\n",
       "1.0    1172\n",
       "3.0     788\n",
       "4.0     331\n",
       "5.5     204\n",
       "Name: count, dtype: int64"
      ]
     },
     "execution_count": 15,
     "metadata": {},
     "output_type": "execute_result"
    }
   ],
   "source": [
    "alarm_survey_data['number_of_children'].value_counts()"
   ]
  },
  {
   "cell_type": "code",
   "execution_count": 16,
   "metadata": {},
   "outputs": [
    {
     "data": {
      "text/plain": [
       "number_of_children\n",
       "0.0    2440\n",
       "2.0    1498\n",
       "1.0    1172\n",
       "3.0     788\n",
       "4.0     331\n",
       "5.0     204\n",
       "Name: count, dtype: int64"
      ]
     },
     "execution_count": 16,
     "metadata": {},
     "output_type": "execute_result"
    }
   ],
   "source": [
    "alarm_survey_data[alarm_survey_data['number_of_children']==5.5] = 5.0\n",
    "alarm_survey_data['number_of_children'].value_counts()"
   ]
  },
  {
   "cell_type": "code",
   "execution_count": 17,
   "metadata": {},
   "outputs": [
    {
     "data": {
      "text/plain": [
       "activity_level\n",
       "active            2367\n",
       "lightly active    2225\n",
       "light_activity     689\n",
       "very active        625\n",
       "light              323\n",
       "5.0                204\n",
       "Name: count, dtype: int64"
      ]
     },
     "execution_count": 17,
     "metadata": {},
     "output_type": "execute_result"
    }
   ],
   "source": [
    "alarm_survey_data['activity_level'].value_counts()"
   ]
  },
  {
   "cell_type": "code",
   "execution_count": 18,
   "metadata": {},
   "outputs": [
    {
     "data": {
      "text/plain": [
       "activity_level\n",
       "lightly active    3237\n",
       "active            2367\n",
       "very active        625\n",
       "Name: count, dtype: int64"
      ]
     },
     "execution_count": 18,
     "metadata": {},
     "output_type": "execute_result"
    }
   ],
   "source": [
    "alarm_survey_data['activity_level'] = alarm_survey_data['activity_level'].map({\n",
    "    \"active\":\"active\",\n",
    "    \"lightly active\":\"lightly active\",\n",
    "    \"light_activity\":\"lightly active\",\n",
    "    \"very active\":\"very active\",\n",
    "    \"light\":\"lightly active\"\n",
    "})\n",
    "alarm_survey_data['activity_level'].value_counts()"
   ]
  },
  {
   "cell_type": "markdown",
   "metadata": {},
   "source": [
    "## 4. Duplicate Data Check"
   ]
  },
  {
   "cell_type": "markdown",
   "metadata": {},
   "source": [
    "* Find any duplicate data\n",
    "* Deal with the duplicate data"
   ]
  },
  {
   "cell_type": "code",
   "execution_count": 19,
   "metadata": {},
   "outputs": [
    {
     "data": {
      "text/html": [
       "<div>\n",
       "<style scoped>\n",
       "    .dataframe tbody tr th:only-of-type {\n",
       "        vertical-align: middle;\n",
       "    }\n",
       "\n",
       "    .dataframe tbody tr th {\n",
       "        vertical-align: top;\n",
       "    }\n",
       "\n",
       "    .dataframe thead th {\n",
       "        text-align: right;\n",
       "    }\n",
       "</style>\n",
       "<table border=\"1\" class=\"dataframe\">\n",
       "  <thead>\n",
       "    <tr style=\"text-align: right;\">\n",
       "      <th></th>\n",
       "      <th>survey_id</th>\n",
       "      <th>age</th>\n",
       "      <th>number_of_children</th>\n",
       "      <th>activity_level</th>\n",
       "      <th>sleep_quality</th>\n",
       "      <th>number_of_snoozes</th>\n",
       "      <th>alarm_rating</th>\n",
       "    </tr>\n",
       "  </thead>\n",
       "  <tbody>\n",
       "    <tr>\n",
       "      <th>6</th>\n",
       "      <td>5</td>\n",
       "      <td>5</td>\n",
       "      <td>5.0</td>\n",
       "      <td>NaN</td>\n",
       "      <td>5.0</td>\n",
       "      <td>5</td>\n",
       "      <td>5</td>\n",
       "    </tr>\n",
       "    <tr>\n",
       "      <th>7</th>\n",
       "      <td>5</td>\n",
       "      <td>5</td>\n",
       "      <td>5.0</td>\n",
       "      <td>NaN</td>\n",
       "      <td>5.0</td>\n",
       "      <td>5</td>\n",
       "      <td>5</td>\n",
       "    </tr>\n",
       "    <tr>\n",
       "      <th>12</th>\n",
       "      <td>5</td>\n",
       "      <td>5</td>\n",
       "      <td>5.0</td>\n",
       "      <td>NaN</td>\n",
       "      <td>5.0</td>\n",
       "      <td>5</td>\n",
       "      <td>5</td>\n",
       "    </tr>\n",
       "    <tr>\n",
       "      <th>17</th>\n",
       "      <td>5</td>\n",
       "      <td>5</td>\n",
       "      <td>5.0</td>\n",
       "      <td>NaN</td>\n",
       "      <td>5.0</td>\n",
       "      <td>5</td>\n",
       "      <td>5</td>\n",
       "    </tr>\n",
       "    <tr>\n",
       "      <th>21</th>\n",
       "      <td>5</td>\n",
       "      <td>5</td>\n",
       "      <td>5.0</td>\n",
       "      <td>NaN</td>\n",
       "      <td>5.0</td>\n",
       "      <td>5</td>\n",
       "      <td>5</td>\n",
       "    </tr>\n",
       "    <tr>\n",
       "      <th>...</th>\n",
       "      <td>...</td>\n",
       "      <td>...</td>\n",
       "      <td>...</td>\n",
       "      <td>...</td>\n",
       "      <td>...</td>\n",
       "      <td>...</td>\n",
       "      <td>...</td>\n",
       "    </tr>\n",
       "    <tr>\n",
       "      <th>6428</th>\n",
       "      <td>6362</td>\n",
       "      <td>27</td>\n",
       "      <td>2.0</td>\n",
       "      <td>active</td>\n",
       "      <td>5.0</td>\n",
       "      <td>0</td>\n",
       "      <td>5</td>\n",
       "    </tr>\n",
       "    <tr>\n",
       "      <th>6429</th>\n",
       "      <td>6363</td>\n",
       "      <td>31</td>\n",
       "      <td>1.0</td>\n",
       "      <td>lightly active</td>\n",
       "      <td>4.0</td>\n",
       "      <td>0</td>\n",
       "      <td>4</td>\n",
       "    </tr>\n",
       "    <tr>\n",
       "      <th>6430</th>\n",
       "      <td>6364</td>\n",
       "      <td>26</td>\n",
       "      <td>0.0</td>\n",
       "      <td>lightly active</td>\n",
       "      <td>5.0</td>\n",
       "      <td>0</td>\n",
       "      <td>3</td>\n",
       "    </tr>\n",
       "    <tr>\n",
       "      <th>6431</th>\n",
       "      <td>6365</td>\n",
       "      <td>27</td>\n",
       "      <td>1.0</td>\n",
       "      <td>active</td>\n",
       "      <td>5.0</td>\n",
       "      <td>0</td>\n",
       "      <td>3</td>\n",
       "    </tr>\n",
       "    <tr>\n",
       "      <th>6432</th>\n",
       "      <td>6366</td>\n",
       "      <td>18</td>\n",
       "      <td>0.0</td>\n",
       "      <td>lightly active</td>\n",
       "      <td>4.0</td>\n",
       "      <td>0</td>\n",
       "      <td>1</td>\n",
       "    </tr>\n",
       "  </tbody>\n",
       "</table>\n",
       "<p>336 rows × 7 columns</p>\n",
       "</div>"
      ],
      "text/plain": [
       "      survey_id  age  number_of_children  activity_level  sleep_quality  \\\n",
       "6             5    5                 5.0             NaN            5.0   \n",
       "7             5    5                 5.0             NaN            5.0   \n",
       "12            5    5                 5.0             NaN            5.0   \n",
       "17            5    5                 5.0             NaN            5.0   \n",
       "21            5    5                 5.0             NaN            5.0   \n",
       "...         ...  ...                 ...             ...            ...   \n",
       "6428       6362   27                 2.0          active            5.0   \n",
       "6429       6363   31                 1.0  lightly active            4.0   \n",
       "6430       6364   26                 0.0  lightly active            5.0   \n",
       "6431       6365   27                 1.0          active            5.0   \n",
       "6432       6366   18                 0.0  lightly active            4.0   \n",
       "\n",
       "      number_of_snoozes  alarm_rating  \n",
       "6                     5             5  \n",
       "7                     5             5  \n",
       "12                    5             5  \n",
       "17                    5             5  \n",
       "21                    5             5  \n",
       "...                 ...           ...  \n",
       "6428                  0             5  \n",
       "6429                  0             4  \n",
       "6430                  0             3  \n",
       "6431                  0             3  \n",
       "6432                  0             1  \n",
       "\n",
       "[336 rows x 7 columns]"
      ]
     },
     "execution_count": 19,
     "metadata": {},
     "output_type": "execute_result"
    }
   ],
   "source": [
    "alarm_survey_data[alarm_survey_data.duplicated(keep=False)]"
   ]
  },
  {
   "cell_type": "code",
   "execution_count": 20,
   "metadata": {},
   "outputs": [
    {
     "data": {
      "text/plain": [
       "np.int64(336)"
      ]
     },
     "execution_count": 20,
     "metadata": {},
     "output_type": "execute_result"
    }
   ],
   "source": [
    "alarm_survey_data.duplicated(keep=False).sum()"
   ]
  },
  {
   "cell_type": "markdown",
   "metadata": {},
   "source": [
    "**Handling Duplicated Data**"
   ]
  },
  {
   "cell_type": "code",
   "execution_count": 21,
   "metadata": {},
   "outputs": [],
   "source": [
    "alarm_survey_data = alarm_survey_data.drop_duplicates()"
   ]
  },
  {
   "cell_type": "code",
   "execution_count": 22,
   "metadata": {},
   "outputs": [],
   "source": [
    "alarm_survey_data.reset_index(drop=True,inplace=True)"
   ]
  },
  {
   "cell_type": "code",
   "execution_count": 23,
   "metadata": {},
   "outputs": [
    {
     "data": {
      "text/plain": [
       "(6164, 7)"
      ]
     },
     "execution_count": 23,
     "metadata": {},
     "output_type": "execute_result"
    }
   ],
   "source": [
    "alarm_survey_data.shape"
   ]
  },
  {
   "cell_type": "code",
   "execution_count": 24,
   "metadata": {},
   "outputs": [
    {
     "data": {
      "text/plain": [
       "(6164, 7)"
      ]
     },
     "execution_count": 24,
     "metadata": {},
     "output_type": "execute_result"
    }
   ],
   "source": [
    "## another methods\n",
    "alarm_survey_data = alarm_survey_data[~alarm_survey_data.duplicated()]\n",
    "alarm_survey_data.shape"
   ]
  },
  {
   "cell_type": "code",
   "execution_count": null,
   "metadata": {},
   "outputs": [],
   "source": []
  },
  {
   "cell_type": "markdown",
   "metadata": {},
   "source": [
    "## 5. Outliers Check"
   ]
  },
  {
   "cell_type": "markdown",
   "metadata": {},
   "source": [
    "* Find any outliers\n",
    "* Deal with the outliers"
   ]
  },
  {
   "cell_type": "code",
   "execution_count": 25,
   "metadata": {},
   "outputs": [
    {
     "data": {
      "text/plain": [
       "array([[<Axes: title={'center': 'survey_id'}>,\n",
       "        <Axes: title={'center': 'age'}>],\n",
       "       [<Axes: title={'center': 'number_of_children'}>,\n",
       "        <Axes: title={'center': 'sleep_quality'}>],\n",
       "       [<Axes: title={'center': 'number_of_snoozes'}>,\n",
       "        <Axes: title={'center': 'alarm_rating'}>]], dtype=object)"
      ]
     },
     "execution_count": 25,
     "metadata": {},
     "output_type": "execute_result"
    },
    {
     "data": {
      "image/png": "[encoded data removed]",
      "text/plain": [
       "<Figure size 600x800 with 6 Axes>"
      ]
     },
     "metadata": {},
     "output_type": "display_data"
    }
   ],
   "source": [
    "alarm_survey_data.hist(figsize=(6,8))"
   ]
  },
  {
   "cell_type": "code",
   "execution_count": 26,
   "metadata": {},
   "outputs": [],
   "source": [
    "import seaborn as sns"
   ]
  },
  {
   "cell_type": "code",
   "execution_count": 27,
   "metadata": {},
   "outputs": [
    {
     "data": {
      "text/plain": [
       "<Axes: xlabel='number_of_snoozes', ylabel='Count'>"
      ]
     },
     "execution_count": 27,
     "metadata": {},
     "output_type": "execute_result"
    },
    {
     "data": {
      "image/png": "[encoded data removed]",
      "text/plain": [
       "<Figure size 640x480 with 1 Axes>"
      ]
     },
     "metadata": {},
     "output_type": "display_data"
    }
   ],
   "source": [
    "sns.histplot(alarm_survey_data.number_of_snoozes)"
   ]
  },
  {
   "cell_type": "code",
   "execution_count": 28,
   "metadata": {},
   "outputs": [
    {
     "data": {
      "text/plain": [
       "<Axes: xlabel='number_of_snoozes'>"
      ]
     },
     "execution_count": 28,
     "metadata": {},
     "output_type": "execute_result"
    },
    {
     "data": {
      "image/png": "[encoded data removed]",
      "text/plain": [
       "<Figure size 640x480 with 1 Axes>"
      ]
     },
     "metadata": {},
     "output_type": "display_data"
    }
   ],
   "source": [
    "sns.boxplot(x = alarm_survey_data.number_of_snoozes)"
   ]
  },
  {
   "cell_type": "code",
   "execution_count": 29,
   "metadata": {},
   "outputs": [
    {
     "data": {
      "text/plain": [
       "number_of_snoozes\n",
       "0     3204\n",
       "1     1180\n",
       "2      665\n",
       "4      421\n",
       "5      333\n",
       "3      300\n",
       "6       57\n",
       "8        2\n",
       "19       1\n",
       "7        1\n",
       "Name: count, dtype: int64"
      ]
     },
     "execution_count": 29,
     "metadata": {},
     "output_type": "execute_result"
    }
   ],
   "source": [
    "alarm_survey_data.number_of_snoozes.value_counts()"
   ]
  },
  {
   "cell_type": "code",
   "execution_count": 30,
   "metadata": {},
   "outputs": [
    {
     "data": {
      "text/html": [
       "<div>\n",
       "<style scoped>\n",
       "    .dataframe tbody tr th:only-of-type {\n",
       "        vertical-align: middle;\n",
       "    }\n",
       "\n",
       "    .dataframe tbody tr th {\n",
       "        vertical-align: top;\n",
       "    }\n",
       "\n",
       "    .dataframe thead th {\n",
       "        text-align: right;\n",
       "    }\n",
       "</style>\n",
       "<table border=\"1\" class=\"dataframe\">\n",
       "  <thead>\n",
       "    <tr style=\"text-align: right;\">\n",
       "      <th></th>\n",
       "      <th>survey_id</th>\n",
       "      <th>age</th>\n",
       "      <th>number_of_children</th>\n",
       "      <th>activity_level</th>\n",
       "      <th>sleep_quality</th>\n",
       "      <th>number_of_snoozes</th>\n",
       "      <th>alarm_rating</th>\n",
       "    </tr>\n",
       "  </thead>\n",
       "  <tbody>\n",
       "    <tr>\n",
       "      <th>0</th>\n",
       "      <td>1</td>\n",
       "      <td>34</td>\n",
       "      <td>3.0</td>\n",
       "      <td>active</td>\n",
       "      <td>3.0</td>\n",
       "      <td>1</td>\n",
       "      <td>5</td>\n",
       "    </tr>\n",
       "    <tr>\n",
       "      <th>1</th>\n",
       "      <td>2</td>\n",
       "      <td>31</td>\n",
       "      <td>3.0</td>\n",
       "      <td>lightly active</td>\n",
       "      <td>3.0</td>\n",
       "      <td>3</td>\n",
       "      <td>3</td>\n",
       "    </tr>\n",
       "    <tr>\n",
       "      <th>2</th>\n",
       "      <td>3</td>\n",
       "      <td>18</td>\n",
       "      <td>0.0</td>\n",
       "      <td>lightly active</td>\n",
       "      <td>4.0</td>\n",
       "      <td>1</td>\n",
       "      <td>1</td>\n",
       "    </tr>\n",
       "    <tr>\n",
       "      <th>3</th>\n",
       "      <td>4</td>\n",
       "      <td>42</td>\n",
       "      <td>4.0</td>\n",
       "      <td>active</td>\n",
       "      <td>4.0</td>\n",
       "      <td>1</td>\n",
       "      <td>4</td>\n",
       "    </tr>\n",
       "    <tr>\n",
       "      <th>4</th>\n",
       "      <td>5</td>\n",
       "      <td>30</td>\n",
       "      <td>1.0</td>\n",
       "      <td>lightly active</td>\n",
       "      <td>1.0</td>\n",
       "      <td>4</td>\n",
       "      <td>3</td>\n",
       "    </tr>\n",
       "    <tr>\n",
       "      <th>...</th>\n",
       "      <td>...</td>\n",
       "      <td>...</td>\n",
       "      <td>...</td>\n",
       "      <td>...</td>\n",
       "      <td>...</td>\n",
       "      <td>...</td>\n",
       "      <td>...</td>\n",
       "    </tr>\n",
       "    <tr>\n",
       "      <th>6159</th>\n",
       "      <td>6362</td>\n",
       "      <td>27</td>\n",
       "      <td>2.0</td>\n",
       "      <td>active</td>\n",
       "      <td>5.0</td>\n",
       "      <td>0</td>\n",
       "      <td>5</td>\n",
       "    </tr>\n",
       "    <tr>\n",
       "      <th>6160</th>\n",
       "      <td>6363</td>\n",
       "      <td>31</td>\n",
       "      <td>1.0</td>\n",
       "      <td>lightly active</td>\n",
       "      <td>4.0</td>\n",
       "      <td>0</td>\n",
       "      <td>4</td>\n",
       "    </tr>\n",
       "    <tr>\n",
       "      <th>6161</th>\n",
       "      <td>6364</td>\n",
       "      <td>26</td>\n",
       "      <td>0.0</td>\n",
       "      <td>lightly active</td>\n",
       "      <td>5.0</td>\n",
       "      <td>0</td>\n",
       "      <td>3</td>\n",
       "    </tr>\n",
       "    <tr>\n",
       "      <th>6162</th>\n",
       "      <td>6365</td>\n",
       "      <td>27</td>\n",
       "      <td>1.0</td>\n",
       "      <td>active</td>\n",
       "      <td>5.0</td>\n",
       "      <td>0</td>\n",
       "      <td>3</td>\n",
       "    </tr>\n",
       "    <tr>\n",
       "      <th>6163</th>\n",
       "      <td>6366</td>\n",
       "      <td>18</td>\n",
       "      <td>0.0</td>\n",
       "      <td>lightly active</td>\n",
       "      <td>4.0</td>\n",
       "      <td>0</td>\n",
       "      <td>1</td>\n",
       "    </tr>\n",
       "  </tbody>\n",
       "</table>\n",
       "<p>6164 rows × 7 columns</p>\n",
       "</div>"
      ],
      "text/plain": [
       "      survey_id  age  number_of_children  activity_level  sleep_quality  \\\n",
       "0             1   34                 3.0          active            3.0   \n",
       "1             2   31                 3.0  lightly active            3.0   \n",
       "2             3   18                 0.0  lightly active            4.0   \n",
       "3             4   42                 4.0          active            4.0   \n",
       "4             5   30                 1.0  lightly active            1.0   \n",
       "...         ...  ...                 ...             ...            ...   \n",
       "6159       6362   27                 2.0          active            5.0   \n",
       "6160       6363   31                 1.0  lightly active            4.0   \n",
       "6161       6364   26                 0.0  lightly active            5.0   \n",
       "6162       6365   27                 1.0          active            5.0   \n",
       "6163       6366   18                 0.0  lightly active            4.0   \n",
       "\n",
       "      number_of_snoozes  alarm_rating  \n",
       "0                     1             5  \n",
       "1                     3             3  \n",
       "2                     1             1  \n",
       "3                     1             4  \n",
       "4                     4             3  \n",
       "...                 ...           ...  \n",
       "6159                  0             5  \n",
       "6160                  0             4  \n",
       "6161                  0             3  \n",
       "6162                  0             3  \n",
       "6163                  0             1  \n",
       "\n",
       "[6164 rows x 7 columns]"
      ]
     },
     "execution_count": 30,
     "metadata": {},
     "output_type": "execute_result"
    }
   ],
   "source": [
    "alarm_survey_data = alarm_survey_data[alarm_survey_data.number_of_snoozes <= 19]\n",
    "alarm_survey_data"
   ]
  },
  {
   "cell_type": "markdown",
   "metadata": {},
   "source": [
    "## 6. Data Issues Check"
   ]
  },
  {
   "cell_type": "markdown",
   "metadata": {},
   "source": [
    "* Quickly explore the updated DataFrame. How do things look now after handling the data issues compared to the original DataFrame?"
   ]
  },
  {
   "cell_type": "code",
   "execution_count": 31,
   "metadata": {},
   "outputs": [
    {
     "data": {
      "text/html": [
       "<div>\n",
       "<style scoped>\n",
       "    .dataframe tbody tr th:only-of-type {\n",
       "        vertical-align: middle;\n",
       "    }\n",
       "\n",
       "    .dataframe tbody tr th {\n",
       "        vertical-align: top;\n",
       "    }\n",
       "\n",
       "    .dataframe thead th {\n",
       "        text-align: right;\n",
       "    }\n",
       "</style>\n",
       "<table border=\"1\" class=\"dataframe\">\n",
       "  <thead>\n",
       "    <tr style=\"text-align: right;\">\n",
       "      <th></th>\n",
       "      <th>survey_id</th>\n",
       "      <th>age</th>\n",
       "      <th>number_of_children</th>\n",
       "      <th>activity_level</th>\n",
       "      <th>sleep_quality</th>\n",
       "      <th>number_of_snoozes</th>\n",
       "      <th>alarm_rating</th>\n",
       "    </tr>\n",
       "  </thead>\n",
       "  <tbody>\n",
       "  </tbody>\n",
       "</table>\n",
       "</div>"
      ],
      "text/plain": [
       "Empty DataFrame\n",
       "Columns: [survey_id, age, number_of_children, activity_level, sleep_quality, number_of_snoozes, alarm_rating]\n",
       "Index: []"
      ]
     },
     "execution_count": 31,
     "metadata": {},
     "output_type": "execute_result"
    }
   ],
   "source": [
    "# ## missing data\n",
    "alarm_survey_data[alarm_survey_data.isna().any(axis=1)]\n",
    "alarm_survey_data = alarm_survey_data.dropna(subset=['activity_level'])\n",
    "alarm_survey_data[alarm_survey_data.isna().any(axis=1)]"
   ]
  },
  {
   "cell_type": "code",
   "execution_count": 32,
   "metadata": {},
   "outputs": [
    {
     "data": {
      "text/html": [
       "<div>\n",
       "<style scoped>\n",
       "    .dataframe tbody tr th:only-of-type {\n",
       "        vertical-align: middle;\n",
       "    }\n",
       "\n",
       "    .dataframe tbody tr th {\n",
       "        vertical-align: top;\n",
       "    }\n",
       "\n",
       "    .dataframe thead th {\n",
       "        text-align: right;\n",
       "    }\n",
       "</style>\n",
       "<table border=\"1\" class=\"dataframe\">\n",
       "  <thead>\n",
       "    <tr style=\"text-align: right;\">\n",
       "      <th></th>\n",
       "      <th>survey_id</th>\n",
       "      <th>age</th>\n",
       "      <th>number_of_children</th>\n",
       "      <th>activity_level</th>\n",
       "      <th>sleep_quality</th>\n",
       "      <th>number_of_snoozes</th>\n",
       "      <th>alarm_rating</th>\n",
       "    </tr>\n",
       "  </thead>\n",
       "  <tbody>\n",
       "    <tr>\n",
       "      <th>0</th>\n",
       "      <td>1</td>\n",
       "      <td>34</td>\n",
       "      <td>3.0</td>\n",
       "      <td>active</td>\n",
       "      <td>3.0</td>\n",
       "      <td>1</td>\n",
       "      <td>5</td>\n",
       "    </tr>\n",
       "    <tr>\n",
       "      <th>1</th>\n",
       "      <td>2</td>\n",
       "      <td>31</td>\n",
       "      <td>3.0</td>\n",
       "      <td>lightly active</td>\n",
       "      <td>3.0</td>\n",
       "      <td>3</td>\n",
       "      <td>3</td>\n",
       "    </tr>\n",
       "    <tr>\n",
       "      <th>2</th>\n",
       "      <td>3</td>\n",
       "      <td>18</td>\n",
       "      <td>0.0</td>\n",
       "      <td>lightly active</td>\n",
       "      <td>4.0</td>\n",
       "      <td>1</td>\n",
       "      <td>1</td>\n",
       "    </tr>\n",
       "    <tr>\n",
       "      <th>3</th>\n",
       "      <td>4</td>\n",
       "      <td>42</td>\n",
       "      <td>4.0</td>\n",
       "      <td>active</td>\n",
       "      <td>4.0</td>\n",
       "      <td>1</td>\n",
       "      <td>4</td>\n",
       "    </tr>\n",
       "    <tr>\n",
       "      <th>4</th>\n",
       "      <td>5</td>\n",
       "      <td>30</td>\n",
       "      <td>1.0</td>\n",
       "      <td>lightly active</td>\n",
       "      <td>1.0</td>\n",
       "      <td>4</td>\n",
       "      <td>3</td>\n",
       "    </tr>\n",
       "  </tbody>\n",
       "</table>\n",
       "</div>"
      ],
      "text/plain": [
       "   survey_id  age  number_of_children  activity_level  sleep_quality  \\\n",
       "0          1   34                 3.0          active            3.0   \n",
       "1          2   31                 3.0  lightly active            3.0   \n",
       "2          3   18                 0.0  lightly active            4.0   \n",
       "3          4   42                 4.0          active            4.0   \n",
       "4          5   30                 1.0  lightly active            1.0   \n",
       "\n",
       "   number_of_snoozes  alarm_rating  \n",
       "0                  1             5  \n",
       "1                  3             3  \n",
       "2                  1             1  \n",
       "3                  1             4  \n",
       "4                  4             3  "
      ]
     },
     "execution_count": 32,
     "metadata": {},
     "output_type": "execute_result"
    }
   ],
   "source": [
    "## inconsistencies\n",
    "alarm_survey_data.head()"
   ]
  },
  {
   "cell_type": "code",
   "execution_count": 33,
   "metadata": {},
   "outputs": [
    {
     "data": {
      "text/plain": [
       "activity_level\n",
       "lightly active    3211\n",
       "active            2340\n",
       "very active        612\n",
       "Name: count, dtype: int64"
      ]
     },
     "execution_count": 33,
     "metadata": {},
     "output_type": "execute_result"
    }
   ],
   "source": [
    "alarm_survey_data['activity_level'].value_counts()"
   ]
  },
  {
   "cell_type": "code",
   "execution_count": 34,
   "metadata": {},
   "outputs": [
    {
     "data": {
      "text/html": [
       "<div>\n",
       "<style scoped>\n",
       "    .dataframe tbody tr th:only-of-type {\n",
       "        vertical-align: middle;\n",
       "    }\n",
       "\n",
       "    .dataframe tbody tr th {\n",
       "        vertical-align: top;\n",
       "    }\n",
       "\n",
       "    .dataframe thead th {\n",
       "        text-align: right;\n",
       "    }\n",
       "</style>\n",
       "<table border=\"1\" class=\"dataframe\">\n",
       "  <thead>\n",
       "    <tr style=\"text-align: right;\">\n",
       "      <th></th>\n",
       "      <th>survey_id</th>\n",
       "      <th>age</th>\n",
       "      <th>number_of_children</th>\n",
       "      <th>activity_level</th>\n",
       "      <th>sleep_quality</th>\n",
       "      <th>number_of_snoozes</th>\n",
       "      <th>alarm_rating</th>\n",
       "    </tr>\n",
       "  </thead>\n",
       "  <tbody>\n",
       "  </tbody>\n",
       "</table>\n",
       "</div>"
      ],
      "text/plain": [
       "Empty DataFrame\n",
       "Columns: [survey_id, age, number_of_children, activity_level, sleep_quality, number_of_snoozes, alarm_rating]\n",
       "Index: []"
      ]
     },
     "execution_count": 34,
     "metadata": {},
     "output_type": "execute_result"
    }
   ],
   "source": [
    "## duplicates\n",
    "alarm_survey_data[alarm_survey_data.duplicated()]"
   ]
  },
  {
   "cell_type": "code",
   "execution_count": 35,
   "metadata": {},
   "outputs": [
    {
     "data": {
      "text/html": [
       "<div>\n",
       "<style scoped>\n",
       "    .dataframe tbody tr th:only-of-type {\n",
       "        vertical-align: middle;\n",
       "    }\n",
       "\n",
       "    .dataframe tbody tr th {\n",
       "        vertical-align: top;\n",
       "    }\n",
       "\n",
       "    .dataframe thead th {\n",
       "        text-align: right;\n",
       "    }\n",
       "</style>\n",
       "<table border=\"1\" class=\"dataframe\">\n",
       "  <thead>\n",
       "    <tr style=\"text-align: right;\">\n",
       "      <th></th>\n",
       "      <th>survey_id</th>\n",
       "      <th>age</th>\n",
       "      <th>number_of_children</th>\n",
       "      <th>sleep_quality</th>\n",
       "      <th>number_of_snoozes</th>\n",
       "      <th>alarm_rating</th>\n",
       "    </tr>\n",
       "  </thead>\n",
       "  <tbody>\n",
       "    <tr>\n",
       "      <th>count</th>\n",
       "      <td>6163.000000</td>\n",
       "      <td>6163.000000</td>\n",
       "      <td>6163.000000</td>\n",
       "      <td>6163.000000</td>\n",
       "      <td>6163.000000</td>\n",
       "      <td>6163.000000</td>\n",
       "    </tr>\n",
       "    <tr>\n",
       "      <th>mean</th>\n",
       "      <td>3195.419601</td>\n",
       "      <td>28.751907</td>\n",
       "      <td>1.261723</td>\n",
       "      <td>4.114879</td>\n",
       "      <td>1.158202</td>\n",
       "      <td>2.958786</td>\n",
       "    </tr>\n",
       "    <tr>\n",
       "      <th>std</th>\n",
       "      <td>1837.517363</td>\n",
       "      <td>7.319633</td>\n",
       "      <td>1.244843</td>\n",
       "      <td>0.955405</td>\n",
       "      <td>1.606278</td>\n",
       "      <td>1.103793</td>\n",
       "    </tr>\n",
       "    <tr>\n",
       "      <th>min</th>\n",
       "      <td>1.000000</td>\n",
       "      <td>13.000000</td>\n",
       "      <td>0.000000</td>\n",
       "      <td>1.000000</td>\n",
       "      <td>0.000000</td>\n",
       "      <td>1.000000</td>\n",
       "    </tr>\n",
       "    <tr>\n",
       "      <th>25%</th>\n",
       "      <td>1608.500000</td>\n",
       "      <td>23.000000</td>\n",
       "      <td>0.000000</td>\n",
       "      <td>4.000000</td>\n",
       "      <td>0.000000</td>\n",
       "      <td>2.000000</td>\n",
       "    </tr>\n",
       "    <tr>\n",
       "      <th>50%</th>\n",
       "      <td>3195.000000</td>\n",
       "      <td>27.000000</td>\n",
       "      <td>1.000000</td>\n",
       "      <td>4.000000</td>\n",
       "      <td>0.000000</td>\n",
       "      <td>3.000000</td>\n",
       "    </tr>\n",
       "    <tr>\n",
       "      <th>75%</th>\n",
       "      <td>4783.500000</td>\n",
       "      <td>33.000000</td>\n",
       "      <td>2.000000</td>\n",
       "      <td>5.000000</td>\n",
       "      <td>2.000000</td>\n",
       "      <td>4.000000</td>\n",
       "    </tr>\n",
       "    <tr>\n",
       "      <th>max</th>\n",
       "      <td>6366.000000</td>\n",
       "      <td>47.000000</td>\n",
       "      <td>4.000000</td>\n",
       "      <td>5.000000</td>\n",
       "      <td>19.000000</td>\n",
       "      <td>5.000000</td>\n",
       "    </tr>\n",
       "  </tbody>\n",
       "</table>\n",
       "</div>"
      ],
      "text/plain": [
       "         survey_id          age  number_of_children  sleep_quality  \\\n",
       "count  6163.000000  6163.000000         6163.000000    6163.000000   \n",
       "mean   3195.419601    28.751907            1.261723       4.114879   \n",
       "std    1837.517363     7.319633            1.244843       0.955405   \n",
       "min       1.000000    13.000000            0.000000       1.000000   \n",
       "25%    1608.500000    23.000000            0.000000       4.000000   \n",
       "50%    3195.000000    27.000000            1.000000       4.000000   \n",
       "75%    4783.500000    33.000000            2.000000       5.000000   \n",
       "max    6366.000000    47.000000            4.000000       5.000000   \n",
       "\n",
       "       number_of_snoozes  alarm_rating  \n",
       "count        6163.000000   6163.000000  \n",
       "mean            1.158202      2.958786  \n",
       "std             1.606278      1.103793  \n",
       "min             0.000000      1.000000  \n",
       "25%             0.000000      2.000000  \n",
       "50%             0.000000      3.000000  \n",
       "75%             2.000000      4.000000  \n",
       "max            19.000000      5.000000  "
      ]
     },
     "execution_count": 35,
     "metadata": {},
     "output_type": "execute_result"
    }
   ],
   "source": [
    "## outliers\n",
    "alarm_survey_data.describe()"
   ]
  },
  {
   "cell_type": "code",
   "execution_count": 36,
   "metadata": {},
   "outputs": [
    {
     "data": {
      "text/plain": [
       "array([[<Axes: title={'center': 'survey_id'}>,\n",
       "        <Axes: title={'center': 'age'}>],\n",
       "       [<Axes: title={'center': 'number_of_children'}>,\n",
       "        <Axes: title={'center': 'sleep_quality'}>],\n",
       "       [<Axes: title={'center': 'number_of_snoozes'}>,\n",
       "        <Axes: title={'center': 'alarm_rating'}>]], dtype=object)"
      ]
     },
     "execution_count": 36,
     "metadata": {},
     "output_type": "execute_result"
    },
    {
     "data": {
      "image/png": "[encoded data removed]",
      "text/plain": [
       "<Figure size 600x800 with 6 Axes>"
      ]
     },
     "metadata": {},
     "output_type": "display_data"
    }
   ],
   "source": [
    "alarm_survey_data.hist(figsize=(6,8))"
   ]
  },
  {
   "cell_type": "code",
   "execution_count": 37,
   "metadata": {},
   "outputs": [
    {
     "data": {
      "text/plain": [
       "<Axes: xlabel='number_of_snoozes', ylabel='Count'>"
      ]
     },
     "execution_count": 37,
     "metadata": {},
     "output_type": "execute_result"
    },
    {
     "data": {
      "image/png": "[encoded data removed]",
      "text/plain": [
       "<Figure size 640x480 with 1 Axes>"
      ]
     },
     "metadata": {},
     "output_type": "display_data"
    }
   ],
   "source": [
    "import seaborn as sns\n",
    "sns.histplot(alarm_survey_data.number_of_snoozes)"
   ]
  },
  {
   "cell_type": "code",
   "execution_count": 38,
   "metadata": {},
   "outputs": [
    {
     "data": {
      "text/plain": [
       "<Axes: ylabel='number_of_snoozes'>"
      ]
     },
     "execution_count": 38,
     "metadata": {},
     "output_type": "execute_result"
    },
    {
     "data": {
      "image/png": "[encoded data removed]",
      "text/plain": [
       "<Figure size 640x480 with 1 Axes>"
      ]
     },
     "metadata": {},
     "output_type": "display_data"
    }
   ],
   "source": [
    "sns.boxplot(alarm_survey_data.number_of_snoozes)"
   ]
  },
  {
   "cell_type": "code",
   "execution_count": 39,
   "metadata": {},
   "outputs": [
    {
     "data": {
      "text/plain": [
       "number_of_snoozes\n",
       "0     3204\n",
       "1     1180\n",
       "2      665\n",
       "4      421\n",
       "5      332\n",
       "3      300\n",
       "6       57\n",
       "8        2\n",
       "19       1\n",
       "7        1\n",
       "Name: count, dtype: int64"
      ]
     },
     "execution_count": 39,
     "metadata": {},
     "output_type": "execute_result"
    }
   ],
   "source": [
    "alarm_survey_data['number_of_snoozes'].value_counts()"
   ]
  },
  {
   "cell_type": "code",
   "execution_count": 40,
   "metadata": {},
   "outputs": [
    {
     "data": {
      "text/plain": [
       "<Axes: ylabel='number_of_snoozes'>"
      ]
     },
     "execution_count": 40,
     "metadata": {},
     "output_type": "execute_result"
    },
    {
     "data": {
      "image/png": "[encoded data removed]",
      "text/plain": [
       "<Figure size 640x480 with 1 Axes>"
      ]
     },
     "metadata": {},
     "output_type": "display_data"
    }
   ],
   "source": [
    "alarm_survey_data = alarm_survey_data[alarm_survey_data['number_of_snoozes'] < 19]\n",
    "sns.boxplot(alarm_survey_data.number_of_snoozes)"
   ]
  },
  {
   "cell_type": "code",
   "execution_count": 41,
   "metadata": {},
   "outputs": [
    {
     "data": {
      "text/html": [
       "<div>\n",
       "<style scoped>\n",
       "    .dataframe tbody tr th:only-of-type {\n",
       "        vertical-align: middle;\n",
       "    }\n",
       "\n",
       "    .dataframe tbody tr th {\n",
       "        vertical-align: top;\n",
       "    }\n",
       "\n",
       "    .dataframe thead th {\n",
       "        text-align: right;\n",
       "    }\n",
       "</style>\n",
       "<table border=\"1\" class=\"dataframe\">\n",
       "  <thead>\n",
       "    <tr style=\"text-align: right;\">\n",
       "      <th></th>\n",
       "      <th>survey_id</th>\n",
       "      <th>age</th>\n",
       "      <th>number_of_children</th>\n",
       "      <th>sleep_quality</th>\n",
       "      <th>number_of_snoozes</th>\n",
       "      <th>alarm_rating</th>\n",
       "    </tr>\n",
       "  </thead>\n",
       "  <tbody>\n",
       "    <tr>\n",
       "      <th>count</th>\n",
       "      <td>6162.000000</td>\n",
       "      <td>6162.000000</td>\n",
       "      <td>6162.000000</td>\n",
       "      <td>6162.000000</td>\n",
       "      <td>6162.000000</td>\n",
       "      <td>6162.000000</td>\n",
       "    </tr>\n",
       "    <tr>\n",
       "      <th>mean</th>\n",
       "      <td>3195.816456</td>\n",
       "      <td>28.753489</td>\n",
       "      <td>1.261766</td>\n",
       "      <td>4.114735</td>\n",
       "      <td>1.155307</td>\n",
       "      <td>2.958780</td>\n",
       "    </tr>\n",
       "    <tr>\n",
       "      <th>std</th>\n",
       "      <td>1837.402326</td>\n",
       "      <td>7.319173</td>\n",
       "      <td>1.244939</td>\n",
       "      <td>0.955416</td>\n",
       "      <td>1.590242</td>\n",
       "      <td>1.103883</td>\n",
       "    </tr>\n",
       "    <tr>\n",
       "      <th>min</th>\n",
       "      <td>1.000000</td>\n",
       "      <td>13.000000</td>\n",
       "      <td>0.000000</td>\n",
       "      <td>1.000000</td>\n",
       "      <td>0.000000</td>\n",
       "      <td>1.000000</td>\n",
       "    </tr>\n",
       "    <tr>\n",
       "      <th>25%</th>\n",
       "      <td>1609.250000</td>\n",
       "      <td>23.000000</td>\n",
       "      <td>0.000000</td>\n",
       "      <td>4.000000</td>\n",
       "      <td>0.000000</td>\n",
       "      <td>2.000000</td>\n",
       "    </tr>\n",
       "    <tr>\n",
       "      <th>50%</th>\n",
       "      <td>3195.500000</td>\n",
       "      <td>27.000000</td>\n",
       "      <td>1.000000</td>\n",
       "      <td>4.000000</td>\n",
       "      <td>0.000000</td>\n",
       "      <td>3.000000</td>\n",
       "    </tr>\n",
       "    <tr>\n",
       "      <th>75%</th>\n",
       "      <td>4783.750000</td>\n",
       "      <td>33.000000</td>\n",
       "      <td>2.000000</td>\n",
       "      <td>5.000000</td>\n",
       "      <td>2.000000</td>\n",
       "      <td>4.000000</td>\n",
       "    </tr>\n",
       "    <tr>\n",
       "      <th>max</th>\n",
       "      <td>6366.000000</td>\n",
       "      <td>47.000000</td>\n",
       "      <td>4.000000</td>\n",
       "      <td>5.000000</td>\n",
       "      <td>8.000000</td>\n",
       "      <td>5.000000</td>\n",
       "    </tr>\n",
       "  </tbody>\n",
       "</table>\n",
       "</div>"
      ],
      "text/plain": [
       "         survey_id          age  number_of_children  sleep_quality  \\\n",
       "count  6162.000000  6162.000000         6162.000000    6162.000000   \n",
       "mean   3195.816456    28.753489            1.261766       4.114735   \n",
       "std    1837.402326     7.319173            1.244939       0.955416   \n",
       "min       1.000000    13.000000            0.000000       1.000000   \n",
       "25%    1609.250000    23.000000            0.000000       4.000000   \n",
       "50%    3195.500000    27.000000            1.000000       4.000000   \n",
       "75%    4783.750000    33.000000            2.000000       5.000000   \n",
       "max    6366.000000    47.000000            4.000000       5.000000   \n",
       "\n",
       "       number_of_snoozes  alarm_rating  \n",
       "count        6162.000000   6162.000000  \n",
       "mean            1.155307      2.958780  \n",
       "std             1.590242      1.103883  \n",
       "min             0.000000      1.000000  \n",
       "25%             0.000000      2.000000  \n",
       "50%             0.000000      3.000000  \n",
       "75%             2.000000      4.000000  \n",
       "max             8.000000      5.000000  "
      ]
     },
     "execution_count": 41,
     "metadata": {},
     "output_type": "execute_result"
    }
   ],
   "source": [
    "alarm_survey_data.describe()"
   ]
  },
  {
   "cell_type": "markdown",
   "metadata": {},
   "source": [
    "## 7. Create Columns From Numeric Data"
   ]
  },
  {
   "cell_type": "markdown",
   "metadata": {},
   "source": [
    "* Read data into Python\n",
    "* Check the data type of each column\n",
    "* Create a numeric column using arithmetic\n",
    "* Create a numeric column using conditional logic"
   ]
  },
  {
   "cell_type": "code",
   "execution_count": 42,
   "metadata": {},
   "outputs": [],
   "source": [
    "# Create a “Total Spend” column that includes both the pen cost and shipping cost for each sale\n",
    "# Create a “Free Shipping” column that says yes if the sale included free shipping, and no otherwise"
   ]
  },
  {
   "cell_type": "code",
   "execution_count": 43,
   "metadata": {},
   "outputs": [],
   "source": [
    "import pandas as pd\n",
    "\n",
    "p_df = pd.read_excel(\"../Data/Pen Sales Data.xlsx\")"
   ]
  },
  {
   "cell_type": "code",
   "execution_count": 44,
   "metadata": {},
   "outputs": [
    {
     "data": {
      "text/html": [
       "<div>\n",
       "<style scoped>\n",
       "    .dataframe tbody tr th:only-of-type {\n",
       "        vertical-align: middle;\n",
       "    }\n",
       "\n",
       "    .dataframe tbody tr th {\n",
       "        vertical-align: top;\n",
       "    }\n",
       "\n",
       "    .dataframe thead th {\n",
       "        text-align: right;\n",
       "    }\n",
       "</style>\n",
       "<table border=\"1\" class=\"dataframe\">\n",
       "  <thead>\n",
       "    <tr style=\"text-align: right;\">\n",
       "      <th></th>\n",
       "      <th>Customer</th>\n",
       "      <th>Item</th>\n",
       "      <th>Pen Cost</th>\n",
       "      <th>Shipping Cost</th>\n",
       "      <th>Purchase Date</th>\n",
       "      <th>Delivery Date</th>\n",
       "      <th>Review</th>\n",
       "    </tr>\n",
       "  </thead>\n",
       "  <tbody>\n",
       "    <tr>\n",
       "      <th>0</th>\n",
       "      <td>5201</td>\n",
       "      <td>Ballpoint Pens</td>\n",
       "      <td>5.99</td>\n",
       "      <td>2.99</td>\n",
       "      <td>2023-05-01</td>\n",
       "      <td>2023-05-03</td>\n",
       "      <td>DoodleWithMe|I love the way this pen writes, b...</td>\n",
       "    </tr>\n",
       "    <tr>\n",
       "      <th>1</th>\n",
       "      <td>5202</td>\n",
       "      <td>Sharpies</td>\n",
       "      <td>12.99</td>\n",
       "      <td>0.00</td>\n",
       "      <td>2023-05-01</td>\n",
       "      <td>2023-05-04</td>\n",
       "      <td>ScribbleMaster|The classic Sharpie marker has ...</td>\n",
       "    </tr>\n",
       "    <tr>\n",
       "      <th>2</th>\n",
       "      <td>5203</td>\n",
       "      <td>Ballpoint Pens (Bold)</td>\n",
       "      <td>6.95</td>\n",
       "      <td>4.99</td>\n",
       "      <td>2023-05-01</td>\n",
       "      <td>2023-05-02</td>\n",
       "      <td>PenPalForever|The retractable ballpoint pen ha...</td>\n",
       "    </tr>\n",
       "    <tr>\n",
       "      <th>3</th>\n",
       "      <td>5204</td>\n",
       "      <td>Gel Pens</td>\n",
       "      <td>5.99</td>\n",
       "      <td>2.99</td>\n",
       "      <td>2023-05-01</td>\n",
       "      <td>2023-05-04</td>\n",
       "      <td>TheWriteWay|This gel pen has a comfortable gri...</td>\n",
       "    </tr>\n",
       "    <tr>\n",
       "      <th>4</th>\n",
       "      <td>5205</td>\n",
       "      <td>Rollerball Pens</td>\n",
       "      <td>12.99</td>\n",
       "      <td>1.99</td>\n",
       "      <td>2023-05-01</td>\n",
       "      <td>2023-05-03</td>\n",
       "      <td>PenAndPaperPerson|The rollerball pen has a smo...</td>\n",
       "    </tr>\n",
       "  </tbody>\n",
       "</table>\n",
       "</div>"
      ],
      "text/plain": [
       "   Customer                   Item  Pen Cost  Shipping Cost Purchase Date  \\\n",
       "0      5201         Ballpoint Pens      5.99           2.99    2023-05-01   \n",
       "1      5202               Sharpies     12.99           0.00    2023-05-01   \n",
       "2      5203  Ballpoint Pens (Bold)      6.95           4.99    2023-05-01   \n",
       "3      5204               Gel Pens      5.99           2.99    2023-05-01   \n",
       "4      5205        Rollerball Pens     12.99           1.99    2023-05-01   \n",
       "\n",
       "  Delivery Date                                             Review  \n",
       "0    2023-05-03  DoodleWithMe|I love the way this pen writes, b...  \n",
       "1    2023-05-04  ScribbleMaster|The classic Sharpie marker has ...  \n",
       "2    2023-05-02  PenPalForever|The retractable ballpoint pen ha...  \n",
       "3    2023-05-04  TheWriteWay|This gel pen has a comfortable gri...  \n",
       "4    2023-05-03  PenAndPaperPerson|The rollerball pen has a smo...  "
      ]
     },
     "execution_count": 44,
     "metadata": {},
     "output_type": "execute_result"
    }
   ],
   "source": [
    "p_df.head()"
   ]
  },
  {
   "cell_type": "code",
   "execution_count": 45,
   "metadata": {},
   "outputs": [
    {
     "data": {
      "text/html": [
       "<div>\n",
       "<style scoped>\n",
       "    .dataframe tbody tr th:only-of-type {\n",
       "        vertical-align: middle;\n",
       "    }\n",
       "\n",
       "    .dataframe tbody tr th {\n",
       "        vertical-align: top;\n",
       "    }\n",
       "\n",
       "    .dataframe thead th {\n",
       "        text-align: right;\n",
       "    }\n",
       "</style>\n",
       "<table border=\"1\" class=\"dataframe\">\n",
       "  <thead>\n",
       "    <tr style=\"text-align: right;\">\n",
       "      <th></th>\n",
       "      <th>Customer</th>\n",
       "      <th>Item</th>\n",
       "      <th>Pen Cost</th>\n",
       "      <th>Shipping Cost</th>\n",
       "      <th>Purchase Date</th>\n",
       "      <th>Delivery Date</th>\n",
       "      <th>Review</th>\n",
       "      <th>Total spend</th>\n",
       "    </tr>\n",
       "  </thead>\n",
       "  <tbody>\n",
       "    <tr>\n",
       "      <th>0</th>\n",
       "      <td>5201</td>\n",
       "      <td>Ballpoint Pens</td>\n",
       "      <td>5.99</td>\n",
       "      <td>2.99</td>\n",
       "      <td>2023-05-01</td>\n",
       "      <td>2023-05-03</td>\n",
       "      <td>DoodleWithMe|I love the way this pen writes, b...</td>\n",
       "      <td>8.98</td>\n",
       "    </tr>\n",
       "    <tr>\n",
       "      <th>1</th>\n",
       "      <td>5202</td>\n",
       "      <td>Sharpies</td>\n",
       "      <td>12.99</td>\n",
       "      <td>0.00</td>\n",
       "      <td>2023-05-01</td>\n",
       "      <td>2023-05-04</td>\n",
       "      <td>ScribbleMaster|The classic Sharpie marker has ...</td>\n",
       "      <td>12.99</td>\n",
       "    </tr>\n",
       "    <tr>\n",
       "      <th>2</th>\n",
       "      <td>5203</td>\n",
       "      <td>Ballpoint Pens (Bold)</td>\n",
       "      <td>6.95</td>\n",
       "      <td>4.99</td>\n",
       "      <td>2023-05-01</td>\n",
       "      <td>2023-05-02</td>\n",
       "      <td>PenPalForever|The retractable ballpoint pen ha...</td>\n",
       "      <td>11.94</td>\n",
       "    </tr>\n",
       "    <tr>\n",
       "      <th>3</th>\n",
       "      <td>5204</td>\n",
       "      <td>Gel Pens</td>\n",
       "      <td>5.99</td>\n",
       "      <td>2.99</td>\n",
       "      <td>2023-05-01</td>\n",
       "      <td>2023-05-04</td>\n",
       "      <td>TheWriteWay|This gel pen has a comfortable gri...</td>\n",
       "      <td>8.98</td>\n",
       "    </tr>\n",
       "    <tr>\n",
       "      <th>4</th>\n",
       "      <td>5205</td>\n",
       "      <td>Rollerball Pens</td>\n",
       "      <td>12.99</td>\n",
       "      <td>1.99</td>\n",
       "      <td>2023-05-01</td>\n",
       "      <td>2023-05-03</td>\n",
       "      <td>PenAndPaperPerson|The rollerball pen has a smo...</td>\n",
       "      <td>14.98</td>\n",
       "    </tr>\n",
       "  </tbody>\n",
       "</table>\n",
       "</div>"
      ],
      "text/plain": [
       "   Customer                   Item  Pen Cost  Shipping Cost Purchase Date  \\\n",
       "0      5201         Ballpoint Pens      5.99           2.99    2023-05-01   \n",
       "1      5202               Sharpies     12.99           0.00    2023-05-01   \n",
       "2      5203  Ballpoint Pens (Bold)      6.95           4.99    2023-05-01   \n",
       "3      5204               Gel Pens      5.99           2.99    2023-05-01   \n",
       "4      5205        Rollerball Pens     12.99           1.99    2023-05-01   \n",
       "\n",
       "  Delivery Date                                             Review  \\\n",
       "0    2023-05-03  DoodleWithMe|I love the way this pen writes, b...   \n",
       "1    2023-05-04  ScribbleMaster|The classic Sharpie marker has ...   \n",
       "2    2023-05-02  PenPalForever|The retractable ballpoint pen ha...   \n",
       "3    2023-05-04  TheWriteWay|This gel pen has a comfortable gri...   \n",
       "4    2023-05-03  PenAndPaperPerson|The rollerball pen has a smo...   \n",
       "\n",
       "   Total spend  \n",
       "0         8.98  \n",
       "1        12.99  \n",
       "2        11.94  \n",
       "3         8.98  \n",
       "4        14.98  "
      ]
     },
     "execution_count": 45,
     "metadata": {},
     "output_type": "execute_result"
    }
   ],
   "source": [
    "p_df['Total spend'] = p_df['Pen Cost'] + p_df['Shipping Cost']\n",
    "p_df.head(5)"
   ]
  },
  {
   "cell_type": "code",
   "execution_count": 46,
   "metadata": {},
   "outputs": [
    {
     "data": {
      "text/html": [
       "<div>\n",
       "<style scoped>\n",
       "    .dataframe tbody tr th:only-of-type {\n",
       "        vertical-align: middle;\n",
       "    }\n",
       "\n",
       "    .dataframe tbody tr th {\n",
       "        vertical-align: top;\n",
       "    }\n",
       "\n",
       "    .dataframe thead th {\n",
       "        text-align: right;\n",
       "    }\n",
       "</style>\n",
       "<table border=\"1\" class=\"dataframe\">\n",
       "  <thead>\n",
       "    <tr style=\"text-align: right;\">\n",
       "      <th></th>\n",
       "      <th>Free Shipping</th>\n",
       "      <th>Shipping Cost</th>\n",
       "    </tr>\n",
       "  </thead>\n",
       "  <tbody>\n",
       "    <tr>\n",
       "      <th>0</th>\n",
       "      <td>no</td>\n",
       "      <td>2.99</td>\n",
       "    </tr>\n",
       "    <tr>\n",
       "      <th>2</th>\n",
       "      <td>no</td>\n",
       "      <td>4.99</td>\n",
       "    </tr>\n",
       "    <tr>\n",
       "      <th>3</th>\n",
       "      <td>no</td>\n",
       "      <td>2.99</td>\n",
       "    </tr>\n",
       "    <tr>\n",
       "      <th>4</th>\n",
       "      <td>no</td>\n",
       "      <td>1.99</td>\n",
       "    </tr>\n",
       "    <tr>\n",
       "      <th>5</th>\n",
       "      <td>no</td>\n",
       "      <td>1.99</td>\n",
       "    </tr>\n",
       "    <tr>\n",
       "      <th>6</th>\n",
       "      <td>no</td>\n",
       "      <td>1.99</td>\n",
       "    </tr>\n",
       "    <tr>\n",
       "      <th>7</th>\n",
       "      <td>no</td>\n",
       "      <td>1.99</td>\n",
       "    </tr>\n",
       "    <tr>\n",
       "      <th>8</th>\n",
       "      <td>no</td>\n",
       "      <td>2.99</td>\n",
       "    </tr>\n",
       "    <tr>\n",
       "      <th>9</th>\n",
       "      <td>no</td>\n",
       "      <td>4.99</td>\n",
       "    </tr>\n",
       "    <tr>\n",
       "      <th>11</th>\n",
       "      <td>no</td>\n",
       "      <td>2.99</td>\n",
       "    </tr>\n",
       "    <tr>\n",
       "      <th>12</th>\n",
       "      <td>no</td>\n",
       "      <td>1.99</td>\n",
       "    </tr>\n",
       "    <tr>\n",
       "      <th>13</th>\n",
       "      <td>no</td>\n",
       "      <td>1.99</td>\n",
       "    </tr>\n",
       "    <tr>\n",
       "      <th>14</th>\n",
       "      <td>no</td>\n",
       "      <td>1.99</td>\n",
       "    </tr>\n",
       "    <tr>\n",
       "      <th>16</th>\n",
       "      <td>no</td>\n",
       "      <td>2.99</td>\n",
       "    </tr>\n",
       "    <tr>\n",
       "      <th>17</th>\n",
       "      <td>no</td>\n",
       "      <td>4.99</td>\n",
       "    </tr>\n",
       "    <tr>\n",
       "      <th>20</th>\n",
       "      <td>no</td>\n",
       "      <td>1.99</td>\n",
       "    </tr>\n",
       "    <tr>\n",
       "      <th>21</th>\n",
       "      <td>no</td>\n",
       "      <td>1.99</td>\n",
       "    </tr>\n",
       "    <tr>\n",
       "      <th>23</th>\n",
       "      <td>no</td>\n",
       "      <td>2.99</td>\n",
       "    </tr>\n",
       "    <tr>\n",
       "      <th>24</th>\n",
       "      <td>no</td>\n",
       "      <td>2.99</td>\n",
       "    </tr>\n",
       "  </tbody>\n",
       "</table>\n",
       "</div>"
      ],
      "text/plain": [
       "   Free Shipping  Shipping Cost\n",
       "0             no           2.99\n",
       "2             no           4.99\n",
       "3             no           2.99\n",
       "4             no           1.99\n",
       "5             no           1.99\n",
       "6             no           1.99\n",
       "7             no           1.99\n",
       "8             no           2.99\n",
       "9             no           4.99\n",
       "11            no           2.99\n",
       "12            no           1.99\n",
       "13            no           1.99\n",
       "14            no           1.99\n",
       "16            no           2.99\n",
       "17            no           4.99\n",
       "20            no           1.99\n",
       "21            no           1.99\n",
       "23            no           2.99\n",
       "24            no           2.99"
      ]
     },
     "execution_count": 46,
     "metadata": {},
     "output_type": "execute_result"
    }
   ],
   "source": [
    "import numpy as np\n",
    "p_df['Free Shipping'] = np.where((p_df['Shipping Cost'] ==  0.00 ),'yes','no')\n",
    "p_df.loc[p_df['Shipping Cost'] > 1, ['Free Shipping','Shipping Cost']]"
   ]
  },
  {
   "cell_type": "markdown",
   "metadata": {},
   "source": [
    "## 8. Create Columns From DateTime Data"
   ]
  },
  {
   "cell_type": "markdown",
   "metadata": {},
   "source": [
    "* Calculate the difference between two datetime columns and save it as a new column\n",
    "* Take the average of a column"
   ]
  },
  {
   "cell_type": "code",
   "execution_count": 47,
   "metadata": {},
   "outputs": [],
   "source": [
    "# Calculate the number of days between the purchase and delivery date for each sale\n",
    "# Save it as a new column called “Delivery Time”\n",
    "# What were the average days from purchase to delivery?"
   ]
  },
  {
   "cell_type": "code",
   "execution_count": 48,
   "metadata": {},
   "outputs": [
    {
     "data": {
      "text/plain": [
       "0    2 days\n",
       "1    3 days\n",
       "2    1 days\n",
       "3    3 days\n",
       "4    2 days\n",
       "5    3 days\n",
       "6    2 days\n",
       "7    6 days\n",
       "8    5 days\n",
       "9    1 days\n",
       "10   3 days\n",
       "11   6 days\n",
       "12   2 days\n",
       "13   6 days\n",
       "14   2 days\n",
       "15   2 days\n",
       "16   2 days\n",
       "17   1 days\n",
       "18   5 days\n",
       "19   5 days\n",
       "20   3 days\n",
       "21   3 days\n",
       "22   4 days\n",
       "23   4 days\n",
       "24   5 days\n",
       "dtype: timedelta64[ns]"
      ]
     },
     "execution_count": 48,
     "metadata": {},
     "output_type": "execute_result"
    }
   ],
   "source": [
    "p_df['Delivery Date'] - p_df['Purchase Date']"
   ]
  },
  {
   "cell_type": "code",
   "execution_count": 49,
   "metadata": {},
   "outputs": [
    {
     "data": {
      "text/html": [
       "<div>\n",
       "<style scoped>\n",
       "    .dataframe tbody tr th:only-of-type {\n",
       "        vertical-align: middle;\n",
       "    }\n",
       "\n",
       "    .dataframe tbody tr th {\n",
       "        vertical-align: top;\n",
       "    }\n",
       "\n",
       "    .dataframe thead th {\n",
       "        text-align: right;\n",
       "    }\n",
       "</style>\n",
       "<table border=\"1\" class=\"dataframe\">\n",
       "  <thead>\n",
       "    <tr style=\"text-align: right;\">\n",
       "      <th></th>\n",
       "      <th>Customer</th>\n",
       "      <th>Item</th>\n",
       "      <th>Pen Cost</th>\n",
       "      <th>Shipping Cost</th>\n",
       "      <th>Purchase Date</th>\n",
       "      <th>Delivery Date</th>\n",
       "      <th>Review</th>\n",
       "      <th>Total spend</th>\n",
       "      <th>Free Shipping</th>\n",
       "      <th>Delivery Time</th>\n",
       "    </tr>\n",
       "  </thead>\n",
       "  <tbody>\n",
       "    <tr>\n",
       "      <th>0</th>\n",
       "      <td>5201</td>\n",
       "      <td>Ballpoint Pens</td>\n",
       "      <td>5.99</td>\n",
       "      <td>2.99</td>\n",
       "      <td>2023-05-01</td>\n",
       "      <td>2023-05-03</td>\n",
       "      <td>DoodleWithMe|I love the way this pen writes, b...</td>\n",
       "      <td>8.98</td>\n",
       "      <td>no</td>\n",
       "      <td>2 days</td>\n",
       "    </tr>\n",
       "    <tr>\n",
       "      <th>1</th>\n",
       "      <td>5202</td>\n",
       "      <td>Sharpies</td>\n",
       "      <td>12.99</td>\n",
       "      <td>0.00</td>\n",
       "      <td>2023-05-01</td>\n",
       "      <td>2023-05-04</td>\n",
       "      <td>ScribbleMaster|The classic Sharpie marker has ...</td>\n",
       "      <td>12.99</td>\n",
       "      <td>yes</td>\n",
       "      <td>3 days</td>\n",
       "    </tr>\n",
       "    <tr>\n",
       "      <th>2</th>\n",
       "      <td>5203</td>\n",
       "      <td>Ballpoint Pens (Bold)</td>\n",
       "      <td>6.95</td>\n",
       "      <td>4.99</td>\n",
       "      <td>2023-05-01</td>\n",
       "      <td>2023-05-02</td>\n",
       "      <td>PenPalForever|The retractable ballpoint pen ha...</td>\n",
       "      <td>11.94</td>\n",
       "      <td>no</td>\n",
       "      <td>1 days</td>\n",
       "    </tr>\n",
       "    <tr>\n",
       "      <th>3</th>\n",
       "      <td>5204</td>\n",
       "      <td>Gel Pens</td>\n",
       "      <td>5.99</td>\n",
       "      <td>2.99</td>\n",
       "      <td>2023-05-01</td>\n",
       "      <td>2023-05-04</td>\n",
       "      <td>TheWriteWay|This gel pen has a comfortable gri...</td>\n",
       "      <td>8.98</td>\n",
       "      <td>no</td>\n",
       "      <td>3 days</td>\n",
       "    </tr>\n",
       "    <tr>\n",
       "      <th>4</th>\n",
       "      <td>5205</td>\n",
       "      <td>Rollerball Pens</td>\n",
       "      <td>12.99</td>\n",
       "      <td>1.99</td>\n",
       "      <td>2023-05-01</td>\n",
       "      <td>2023-05-03</td>\n",
       "      <td>PenAndPaperPerson|The rollerball pen has a smo...</td>\n",
       "      <td>14.98</td>\n",
       "      <td>no</td>\n",
       "      <td>2 days</td>\n",
       "    </tr>\n",
       "  </tbody>\n",
       "</table>\n",
       "</div>"
      ],
      "text/plain": [
       "   Customer                   Item  Pen Cost  Shipping Cost Purchase Date  \\\n",
       "0      5201         Ballpoint Pens      5.99           2.99    2023-05-01   \n",
       "1      5202               Sharpies     12.99           0.00    2023-05-01   \n",
       "2      5203  Ballpoint Pens (Bold)      6.95           4.99    2023-05-01   \n",
       "3      5204               Gel Pens      5.99           2.99    2023-05-01   \n",
       "4      5205        Rollerball Pens     12.99           1.99    2023-05-01   \n",
       "\n",
       "  Delivery Date                                             Review  \\\n",
       "0    2023-05-03  DoodleWithMe|I love the way this pen writes, b...   \n",
       "1    2023-05-04  ScribbleMaster|The classic Sharpie marker has ...   \n",
       "2    2023-05-02  PenPalForever|The retractable ballpoint pen ha...   \n",
       "3    2023-05-04  TheWriteWay|This gel pen has a comfortable gri...   \n",
       "4    2023-05-03  PenAndPaperPerson|The rollerball pen has a smo...   \n",
       "\n",
       "   Total spend Free Shipping Delivery Time  \n",
       "0         8.98            no        2 days  \n",
       "1        12.99           yes        3 days  \n",
       "2        11.94            no        1 days  \n",
       "3         8.98            no        3 days  \n",
       "4        14.98            no        2 days  "
      ]
     },
     "execution_count": 49,
     "metadata": {},
     "output_type": "execute_result"
    }
   ],
   "source": [
    "p_df['Delivery Time'] = p_df['Delivery Date'] - p_df['Purchase Date']\n",
    "p_df.head()"
   ]
  },
  {
   "cell_type": "markdown",
   "metadata": {},
   "source": [
    "## 9. Create Columns From Text Data"
   ]
  },
  {
   "cell_type": "markdown",
   "metadata": {},
   "source": [
    "* Split one column into multiple columns\n",
    "* Create a Boolean column (True / False) to show whether a text field contains particular words"
   ]
  },
  {
   "cell_type": "code",
   "execution_count": 50,
   "metadata": {},
   "outputs": [],
   "source": [
    "# Split the reviews on the “|” character to create two new columns: “User Name” and “Review Text”\n",
    "# Create a “Leak or Spill” column that flags the reviews that mention either “leak” or “spill”"
   ]
  },
  {
   "cell_type": "code",
   "execution_count": 54,
   "metadata": {},
   "outputs": [
    {
     "data": {
      "text/html": [
       "<div>\n",
       "<style scoped>\n",
       "    .dataframe tbody tr th:only-of-type {\n",
       "        vertical-align: middle;\n",
       "    }\n",
       "\n",
       "    .dataframe tbody tr th {\n",
       "        vertical-align: top;\n",
       "    }\n",
       "\n",
       "    .dataframe thead th {\n",
       "        text-align: right;\n",
       "    }\n",
       "</style>\n",
       "<table border=\"1\" class=\"dataframe\">\n",
       "  <thead>\n",
       "    <tr style=\"text-align: right;\">\n",
       "      <th></th>\n",
       "      <th>Customer</th>\n",
       "      <th>Item</th>\n",
       "      <th>Pen Cost</th>\n",
       "      <th>Shipping Cost</th>\n",
       "      <th>Purchase Date</th>\n",
       "      <th>Delivery Date</th>\n",
       "      <th>Review</th>\n",
       "      <th>Total spend</th>\n",
       "      <th>Free Shipping</th>\n",
       "      <th>Delivery Time</th>\n",
       "      <th>User Name</th>\n",
       "      <th>Review Text</th>\n",
       "    </tr>\n",
       "  </thead>\n",
       "  <tbody>\n",
       "    <tr>\n",
       "      <th>0</th>\n",
       "      <td>5201</td>\n",
       "      <td>Ballpoint Pens</td>\n",
       "      <td>5.99</td>\n",
       "      <td>2.99</td>\n",
       "      <td>2023-05-01</td>\n",
       "      <td>2023-05-03</td>\n",
       "      <td>DoodleWithMe|I love the way this pen writes, b...</td>\n",
       "      <td>8.98</td>\n",
       "      <td>no</td>\n",
       "      <td>2 days</td>\n",
       "      <td>DoodleWithMe</td>\n",
       "      <td>I love the way this pen writes, but unfortunat...</td>\n",
       "    </tr>\n",
       "    <tr>\n",
       "      <th>1</th>\n",
       "      <td>5202</td>\n",
       "      <td>Sharpies</td>\n",
       "      <td>12.99</td>\n",
       "      <td>0.00</td>\n",
       "      <td>2023-05-01</td>\n",
       "      <td>2023-05-04</td>\n",
       "      <td>ScribbleMaster|The classic Sharpie marker has ...</td>\n",
       "      <td>12.99</td>\n",
       "      <td>yes</td>\n",
       "      <td>3 days</td>\n",
       "      <td>DoodleWithMe</td>\n",
       "      <td>I love the way this pen writes, but unfortunat...</td>\n",
       "    </tr>\n",
       "    <tr>\n",
       "      <th>2</th>\n",
       "      <td>5203</td>\n",
       "      <td>Ballpoint Pens (Bold)</td>\n",
       "      <td>6.95</td>\n",
       "      <td>4.99</td>\n",
       "      <td>2023-05-01</td>\n",
       "      <td>2023-05-02</td>\n",
       "      <td>PenPalForever|The retractable ballpoint pen ha...</td>\n",
       "      <td>11.94</td>\n",
       "      <td>no</td>\n",
       "      <td>1 days</td>\n",
       "      <td>DoodleWithMe</td>\n",
       "      <td>I love the way this pen writes, but unfortunat...</td>\n",
       "    </tr>\n",
       "    <tr>\n",
       "      <th>3</th>\n",
       "      <td>5204</td>\n",
       "      <td>Gel Pens</td>\n",
       "      <td>5.99</td>\n",
       "      <td>2.99</td>\n",
       "      <td>2023-05-01</td>\n",
       "      <td>2023-05-04</td>\n",
       "      <td>TheWriteWay|This gel pen has a comfortable gri...</td>\n",
       "      <td>8.98</td>\n",
       "      <td>no</td>\n",
       "      <td>3 days</td>\n",
       "      <td>DoodleWithMe</td>\n",
       "      <td>I love the way this pen writes, but unfortunat...</td>\n",
       "    </tr>\n",
       "    <tr>\n",
       "      <th>4</th>\n",
       "      <td>5205</td>\n",
       "      <td>Rollerball Pens</td>\n",
       "      <td>12.99</td>\n",
       "      <td>1.99</td>\n",
       "      <td>2023-05-01</td>\n",
       "      <td>2023-05-03</td>\n",
       "      <td>PenAndPaperPerson|The rollerball pen has a smo...</td>\n",
       "      <td>14.98</td>\n",
       "      <td>no</td>\n",
       "      <td>2 days</td>\n",
       "      <td>DoodleWithMe</td>\n",
       "      <td>I love the way this pen writes, but unfortunat...</td>\n",
       "    </tr>\n",
       "  </tbody>\n",
       "</table>\n",
       "</div>"
      ],
      "text/plain": [
       "   Customer                   Item  Pen Cost  Shipping Cost Purchase Date  \\\n",
       "0      5201         Ballpoint Pens      5.99           2.99    2023-05-01   \n",
       "1      5202               Sharpies     12.99           0.00    2023-05-01   \n",
       "2      5203  Ballpoint Pens (Bold)      6.95           4.99    2023-05-01   \n",
       "3      5204               Gel Pens      5.99           2.99    2023-05-01   \n",
       "4      5205        Rollerball Pens     12.99           1.99    2023-05-01   \n",
       "\n",
       "  Delivery Date                                             Review  \\\n",
       "0    2023-05-03  DoodleWithMe|I love the way this pen writes, b...   \n",
       "1    2023-05-04  ScribbleMaster|The classic Sharpie marker has ...   \n",
       "2    2023-05-02  PenPalForever|The retractable ballpoint pen ha...   \n",
       "3    2023-05-04  TheWriteWay|This gel pen has a comfortable gri...   \n",
       "4    2023-05-03  PenAndPaperPerson|The rollerball pen has a smo...   \n",
       "\n",
       "   Total spend Free Shipping Delivery Time     User Name  \\\n",
       "0         8.98            no        2 days  DoodleWithMe   \n",
       "1        12.99           yes        3 days  DoodleWithMe   \n",
       "2        11.94            no        1 days  DoodleWithMe   \n",
       "3         8.98            no        3 days  DoodleWithMe   \n",
       "4        14.98            no        2 days  DoodleWithMe   \n",
       "\n",
       "                                         Review Text  \n",
       "0  I love the way this pen writes, but unfortunat...  \n",
       "1  I love the way this pen writes, but unfortunat...  \n",
       "2  I love the way this pen writes, but unfortunat...  \n",
       "3  I love the way this pen writes, but unfortunat...  \n",
       "4  I love the way this pen writes, but unfortunat...  "
      ]
     },
     "execution_count": 54,
     "metadata": {},
     "output_type": "execute_result"
    }
   ],
   "source": [
    "p_df['User Name']= p_df['Review'][0].split(\"|\")[0]\n",
    "p_df['Review Text']= p_df['Review'][0].split(\"|\")[1]\n",
    "p_df.head()\n"
   ]
  },
  {
   "cell_type": "code",
   "execution_count": 73,
   "metadata": {},
   "outputs": [
    {
     "data": {
      "text/html": [
       "<div>\n",
       "<style scoped>\n",
       "    .dataframe tbody tr th:only-of-type {\n",
       "        vertical-align: middle;\n",
       "    }\n",
       "\n",
       "    .dataframe tbody tr th {\n",
       "        vertical-align: top;\n",
       "    }\n",
       "\n",
       "    .dataframe thead th {\n",
       "        text-align: right;\n",
       "    }\n",
       "</style>\n",
       "<table border=\"1\" class=\"dataframe\">\n",
       "  <thead>\n",
       "    <tr style=\"text-align: right;\">\n",
       "      <th></th>\n",
       "      <th>Customer</th>\n",
       "      <th>Item</th>\n",
       "      <th>Pen Cost</th>\n",
       "      <th>Shipping Cost</th>\n",
       "      <th>Purchase Date</th>\n",
       "      <th>Delivery Date</th>\n",
       "      <th>Review</th>\n",
       "      <th>Total spend</th>\n",
       "      <th>Free Shipping</th>\n",
       "      <th>Delivery Time</th>\n",
       "      <th>User Name</th>\n",
       "      <th>Review Text</th>\n",
       "      <th>Leak or Spill</th>\n",
       "    </tr>\n",
       "  </thead>\n",
       "  <tbody>\n",
       "    <tr>\n",
       "      <th>0</th>\n",
       "      <td>5201</td>\n",
       "      <td>Ballpoint Pens</td>\n",
       "      <td>5.99</td>\n",
       "      <td>2.99</td>\n",
       "      <td>2023-05-01</td>\n",
       "      <td>2023-05-03</td>\n",
       "      <td>DoodleWithMe|I love the way this pen writes, b...</td>\n",
       "      <td>8.98</td>\n",
       "      <td>no</td>\n",
       "      <td>2 days</td>\n",
       "      <td>DoodleWithMe</td>\n",
       "      <td>I love the way this pen writes, but unfortunat...</td>\n",
       "      <td>true</td>\n",
       "    </tr>\n",
       "    <tr>\n",
       "      <th>1</th>\n",
       "      <td>5202</td>\n",
       "      <td>Sharpies</td>\n",
       "      <td>12.99</td>\n",
       "      <td>0.00</td>\n",
       "      <td>2023-05-01</td>\n",
       "      <td>2023-05-04</td>\n",
       "      <td>ScribbleMaster|The classic Sharpie marker has ...</td>\n",
       "      <td>12.99</td>\n",
       "      <td>yes</td>\n",
       "      <td>3 days</td>\n",
       "      <td>DoodleWithMe</td>\n",
       "      <td>I love the way this pen writes, but unfortunat...</td>\n",
       "      <td>false</td>\n",
       "    </tr>\n",
       "    <tr>\n",
       "      <th>2</th>\n",
       "      <td>5203</td>\n",
       "      <td>Ballpoint Pens (Bold)</td>\n",
       "      <td>6.95</td>\n",
       "      <td>4.99</td>\n",
       "      <td>2023-05-01</td>\n",
       "      <td>2023-05-02</td>\n",
       "      <td>PenPalForever|The retractable ballpoint pen ha...</td>\n",
       "      <td>11.94</td>\n",
       "      <td>no</td>\n",
       "      <td>1 days</td>\n",
       "      <td>DoodleWithMe</td>\n",
       "      <td>I love the way this pen writes, but unfortunat...</td>\n",
       "      <td>false</td>\n",
       "    </tr>\n",
       "    <tr>\n",
       "      <th>3</th>\n",
       "      <td>5204</td>\n",
       "      <td>Gel Pens</td>\n",
       "      <td>5.99</td>\n",
       "      <td>2.99</td>\n",
       "      <td>2023-05-01</td>\n",
       "      <td>2023-05-04</td>\n",
       "      <td>TheWriteWay|This gel pen has a comfortable gri...</td>\n",
       "      <td>8.98</td>\n",
       "      <td>no</td>\n",
       "      <td>3 days</td>\n",
       "      <td>DoodleWithMe</td>\n",
       "      <td>I love the way this pen writes, but unfortunat...</td>\n",
       "      <td>false</td>\n",
       "    </tr>\n",
       "    <tr>\n",
       "      <th>4</th>\n",
       "      <td>5205</td>\n",
       "      <td>Rollerball Pens</td>\n",
       "      <td>12.99</td>\n",
       "      <td>1.99</td>\n",
       "      <td>2023-05-01</td>\n",
       "      <td>2023-05-03</td>\n",
       "      <td>PenAndPaperPerson|The rollerball pen has a smo...</td>\n",
       "      <td>14.98</td>\n",
       "      <td>no</td>\n",
       "      <td>2 days</td>\n",
       "      <td>DoodleWithMe</td>\n",
       "      <td>I love the way this pen writes, but unfortunat...</td>\n",
       "      <td>false</td>\n",
       "    </tr>\n",
       "  </tbody>\n",
       "</table>\n",
       "</div>"
      ],
      "text/plain": [
       "   Customer                   Item  Pen Cost  Shipping Cost Purchase Date  \\\n",
       "0      5201         Ballpoint Pens      5.99           2.99    2023-05-01   \n",
       "1      5202               Sharpies     12.99           0.00    2023-05-01   \n",
       "2      5203  Ballpoint Pens (Bold)      6.95           4.99    2023-05-01   \n",
       "3      5204               Gel Pens      5.99           2.99    2023-05-01   \n",
       "4      5205        Rollerball Pens     12.99           1.99    2023-05-01   \n",
       "\n",
       "  Delivery Date                                             Review  \\\n",
       "0    2023-05-03  DoodleWithMe|I love the way this pen writes, b...   \n",
       "1    2023-05-04  ScribbleMaster|The classic Sharpie marker has ...   \n",
       "2    2023-05-02  PenPalForever|The retractable ballpoint pen ha...   \n",
       "3    2023-05-04  TheWriteWay|This gel pen has a comfortable gri...   \n",
       "4    2023-05-03  PenAndPaperPerson|The rollerball pen has a smo...   \n",
       "\n",
       "   Total spend Free Shipping Delivery Time     User Name  \\\n",
       "0         8.98            no        2 days  DoodleWithMe   \n",
       "1        12.99           yes        3 days  DoodleWithMe   \n",
       "2        11.94            no        1 days  DoodleWithMe   \n",
       "3         8.98            no        3 days  DoodleWithMe   \n",
       "4        14.98            no        2 days  DoodleWithMe   \n",
       "\n",
       "                                         Review Text Leak or Spill  \n",
       "0  I love the way this pen writes, but unfortunat...          true  \n",
       "1  I love the way this pen writes, but unfortunat...         false  \n",
       "2  I love the way this pen writes, but unfortunat...         false  \n",
       "3  I love the way this pen writes, but unfortunat...         false  \n",
       "4  I love the way this pen writes, but unfortunat...         false  "
      ]
     },
     "execution_count": 73,
     "metadata": {},
     "output_type": "execute_result"
    }
   ],
   "source": [
    "## checking \n",
    "import numpy as np\n",
    "\n",
    "p_df['Leak or Spill'] = np.where(p_df['Review'].str.contains(\"leak\" or \"spill\", regex=True),'true','false')\n",
    "p_df.head()"
   ]
  },
  {
   "cell_type": "code",
   "execution_count": null,
   "metadata": {},
   "outputs": [],
   "source": []
  },
  {
   "cell_type": "code",
   "execution_count": null,
   "metadata": {},
   "outputs": [],
   "source": []
  }
 ],
 "metadata": {
  "kernelspec": {
   "display_name": "Python 3 (ipykernel)",
   "language": "python",
   "name": "python3"
  },
  "language_info": {
   "codemirror_mode": {
    "name": "ipython",
    "version": 3
   },
   "file_extension": ".py",
   "mimetype": "text/x-python",
   "name": "python",
   "nbconvert_exporter": "python",
   "pygments_lexer": "ipython3",
   "version": "3.12.7"
  }
 },
 "nbformat": 4,
 "nbformat_minor": 4
}
