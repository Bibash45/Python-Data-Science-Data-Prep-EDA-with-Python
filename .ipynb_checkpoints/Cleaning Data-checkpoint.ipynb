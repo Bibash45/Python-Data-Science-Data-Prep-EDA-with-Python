{
 "cells": [
  {
   "cell_type": "code",
   "execution_count": 17,
   "id": "da256a32-1181-4375-8523-9286d9221622",
   "metadata": {},
   "outputs": [],
   "source": [
    "import pandas as pd"
   ]
  },
  {
   "cell_type": "code",
   "execution_count": 18,
   "id": "3b8c0f21-3649-42dd-bf89-71a25e548013",
   "metadata": {},
   "outputs": [],
   "source": [
    "run_times = pd.read_excel(\"./Data/Run Times.xlsx\")"
   ]
  },
  {
   "cell_type": "code",
   "execution_count": 19,
   "id": "06bb6e86-1c4f-4ac8-a21c-51febc93e353",
   "metadata": {},
   "outputs": [
    {
     "data": {
      "text/html": [
       "<div>\n",
       "<style scoped>\n",
       "    .dataframe tbody tr th:only-of-type {\n",
       "        vertical-align: middle;\n",
       "    }\n",
       "\n",
       "    .dataframe tbody tr th {\n",
       "        vertical-align: top;\n",
       "    }\n",
       "\n",
       "    .dataframe thead th {\n",
       "        text-align: right;\n",
       "    }\n",
       "</style>\n",
       "<table border=\"1\" class=\"dataframe\">\n",
       "  <thead>\n",
       "    <tr style=\"text-align: right;\">\n",
       "      <th></th>\n",
       "      <th>Name</th>\n",
       "      <th>Run Time</th>\n",
       "      <th>Warm Up Time</th>\n",
       "      <th>Location</th>\n",
       "      <th>Run Date</th>\n",
       "      <th>Race Date</th>\n",
       "      <th>Rain</th>\n",
       "      <th>Fee</th>\n",
       "    </tr>\n",
       "  </thead>\n",
       "  <tbody>\n",
       "    <tr>\n",
       "      <th>0</th>\n",
       "      <td>Alexis</td>\n",
       "      <td>9.2343</td>\n",
       "      <td>3.5</td>\n",
       "      <td>“school”</td>\n",
       "      <td>2023-04-15 12:00:00</td>\n",
       "      <td>2023-06-01</td>\n",
       "      <td>False</td>\n",
       "      <td>$0.00</td>\n",
       "    </tr>\n",
       "    <tr>\n",
       "      <th>1</th>\n",
       "      <td>Alexis</td>\n",
       "      <td>10.3842</td>\n",
       "      <td>3.5</td>\n",
       "      <td>School</td>\n",
       "      <td>2023-04-22 12:30:00</td>\n",
       "      <td>2023-06-01</td>\n",
       "      <td>True</td>\n",
       "      <td>$0.00</td>\n",
       "    </tr>\n",
       "    <tr>\n",
       "      <th>2</th>\n",
       "      <td>Alexis</td>\n",
       "      <td>8.1209</td>\n",
       "      <td>3 min</td>\n",
       "      <td>“the gym”</td>\n",
       "      <td>2023-05-10 15:00:00</td>\n",
       "      <td>2023-06-01</td>\n",
       "      <td>False</td>\n",
       "      <td>$2.50</td>\n",
       "    </tr>\n",
       "    <tr>\n",
       "      <th>3</th>\n",
       "      <td>David</td>\n",
       "      <td>7.2123</td>\n",
       "      <td>2.2</td>\n",
       "      <td>“school”</td>\n",
       "      <td>2023-05-01 15:15:00</td>\n",
       "      <td>2023-06-15</td>\n",
       "      <td>False</td>\n",
       "      <td>$0.00</td>\n",
       "    </tr>\n",
       "    <tr>\n",
       "      <th>4</th>\n",
       "      <td>David</td>\n",
       "      <td>6.8342</td>\n",
       "      <td>2</td>\n",
       "      <td>“gym”</td>\n",
       "      <td>2023-05-10 16:30:00</td>\n",
       "      <td>2023-06-15</td>\n",
       "      <td>False</td>\n",
       "      <td>$2.50</td>\n",
       "    </tr>\n",
       "  </tbody>\n",
       "</table>\n",
       "</div>"
      ],
      "text/plain": [
       "     Name  Run Time Warm Up Time   Location            Run Date  Race Date  \\\n",
       "0  Alexis    9.2343          3.5   “school” 2023-04-15 12:00:00 2023-06-01   \n",
       "1  Alexis   10.3842          3.5     School 2023-04-22 12:30:00 2023-06-01   \n",
       "2  Alexis    8.1209        3 min  “the gym” 2023-05-10 15:00:00 2023-06-01   \n",
       "3   David    7.2123          2.2   “school” 2023-05-01 15:15:00 2023-06-15   \n",
       "4   David    6.8342            2      “gym” 2023-05-10 16:30:00 2023-06-15   \n",
       "\n",
       "    Rain    Fee  \n",
       "0  False  $0.00  \n",
       "1   True  $0.00  \n",
       "2  False  $2.50  \n",
       "3  False  $0.00  \n",
       "4  False  $2.50  "
      ]
     },
     "execution_count": 19,
     "metadata": {},
     "output_type": "execute_result"
    }
   ],
   "source": [
    "run_times"
   ]
  },
  {
   "cell_type": "code",
   "execution_count": 20,
   "id": "8d1e575c-d2f1-4b43-be26-e8cf3c3502b1",
   "metadata": {},
   "outputs": [
    {
     "data": {
      "text/plain": [
       "Name                    object\n",
       "Run Time               float64\n",
       "Warm Up Time            object\n",
       "Location                object\n",
       "Run Date        datetime64[ns]\n",
       "Race Date       datetime64[ns]\n",
       "Rain                      bool\n",
       "Fee                     object\n",
       "dtype: object"
      ]
     },
     "execution_count": 20,
     "metadata": {},
     "output_type": "execute_result"
    }
   ],
   "source": [
    "run_times.dtypes"
   ]
  },
  {
   "cell_type": "code",
   "execution_count": 21,
   "id": "406da467-0cb2-4023-b5ec-53e74d879e13",
   "metadata": {},
   "outputs": [
    {
     "name": "stdout",
     "output_type": "stream",
     "text": [
      "<class 'pandas.core.frame.DataFrame'>\n",
      "RangeIndex: 5 entries, 0 to 4\n",
      "Data columns (total 8 columns):\n",
      " #   Column        Non-Null Count  Dtype         \n",
      "---  ------        --------------  -----         \n",
      " 0   Name          5 non-null      object        \n",
      " 1   Run Time      5 non-null      float64       \n",
      " 2   Warm Up Time  5 non-null      object        \n",
      " 3   Location      5 non-null      object        \n",
      " 4   Run Date      5 non-null      datetime64[ns]\n",
      " 5   Race Date     5 non-null      datetime64[ns]\n",
      " 6   Rain          5 non-null      bool          \n",
      " 7   Fee           5 non-null      object        \n",
      "dtypes: bool(1), datetime64[ns](2), float64(1), object(4)\n",
      "memory usage: 417.0+ bytes\n"
     ]
    }
   ],
   "source": [
    "run_times.info()"
   ]
  },
  {
   "cell_type": "code",
   "execution_count": 22,
   "id": "9f64ba68-45e2-49ef-ab96-86cc92f200ed",
   "metadata": {},
   "outputs": [],
   "source": [
    "run_times.Fee = pd.to_numeric(run_times.Fee.str.replace(\"$\",''))"
   ]
  },
  {
   "cell_type": "code",
   "execution_count": 23,
   "id": "ba7136e5-a7b4-4a73-beda-d88aa348350a",
   "metadata": {},
   "outputs": [
    {
     "data": {
      "text/plain": [
       "Name                    object\n",
       "Run Time               float64\n",
       "Warm Up Time            object\n",
       "Location                object\n",
       "Run Date        datetime64[ns]\n",
       "Race Date       datetime64[ns]\n",
       "Rain                      bool\n",
       "Fee                    float64\n",
       "dtype: object"
      ]
     },
     "execution_count": 23,
     "metadata": {},
     "output_type": "execute_result"
    }
   ],
   "source": [
    "run_times.dtypes"
   ]
  },
  {
   "cell_type": "code",
   "execution_count": 24,
   "id": "b3384432-ad2a-4185-b40e-726aa2d5882c",
   "metadata": {},
   "outputs": [
    {
     "data": {
      "text/plain": [
       "0    3.5\n",
       "1    3.5\n",
       "2    NaN\n",
       "3    2.2\n",
       "4    2.0\n",
       "Name: Warm Up Time, dtype: float64"
      ]
     },
     "execution_count": 24,
     "metadata": {},
     "output_type": "execute_result"
    }
   ],
   "source": [
    "pd.to_numeric(run_times['Warm Up Time'],errors='coerce')"
   ]
  },
  {
   "cell_type": "code",
   "execution_count": 25,
   "id": "11714a9e-de43-4c71-8c91-680fcb2f803c",
   "metadata": {},
   "outputs": [
    {
     "data": {
      "text/plain": [
       "0      3.5\n",
       "1      3.5\n",
       "2    3 min\n",
       "3      2.2\n",
       "4        2\n",
       "Name: Warm Up Time, dtype: object"
      ]
     },
     "execution_count": 25,
     "metadata": {},
     "output_type": "execute_result"
    }
   ],
   "source": [
    "run_times['Warm Up Time']"
   ]
  },
  {
   "cell_type": "code",
   "execution_count": 26,
   "id": "82beda2d-5482-40ee-bdbe-d8f339305825",
   "metadata": {},
   "outputs": [],
   "source": [
    "run_times['Warm Up Time'] = pd.to_numeric(run_times['Warm Up Time'].astype('str').str.replace('min',''))"
   ]
  },
  {
   "cell_type": "code",
   "execution_count": 27,
   "id": "e5e64f04-36da-442b-ac9a-34370f250e22",
   "metadata": {},
   "outputs": [
    {
     "data": {
      "text/plain": [
       "Name                    object\n",
       "Run Time               float64\n",
       "Warm Up Time           float64\n",
       "Location                object\n",
       "Run Date        datetime64[ns]\n",
       "Race Date       datetime64[ns]\n",
       "Rain                      bool\n",
       "Fee                    float64\n",
       "dtype: object"
      ]
     },
     "execution_count": 27,
     "metadata": {},
     "output_type": "execute_result"
    }
   ],
   "source": [
    "run_times.dtypes"
   ]
  },
  {
   "cell_type": "code",
   "execution_count": 28,
   "id": "ffb00cd6-7cd2-4879-9106-d41f41f84ea1",
   "metadata": {},
   "outputs": [
    {
     "data": {
      "text/html": [
       "<div>\n",
       "<style scoped>\n",
       "    .dataframe tbody tr th:only-of-type {\n",
       "        vertical-align: middle;\n",
       "    }\n",
       "\n",
       "    .dataframe tbody tr th {\n",
       "        vertical-align: top;\n",
       "    }\n",
       "\n",
       "    .dataframe thead th {\n",
       "        text-align: right;\n",
       "    }\n",
       "</style>\n",
       "<table border=\"1\" class=\"dataframe\">\n",
       "  <thead>\n",
       "    <tr style=\"text-align: right;\">\n",
       "      <th></th>\n",
       "      <th>Name</th>\n",
       "      <th>Run Time</th>\n",
       "      <th>Warm Up Time</th>\n",
       "      <th>Location</th>\n",
       "      <th>Run Date</th>\n",
       "      <th>Race Date</th>\n",
       "      <th>Rain</th>\n",
       "      <th>Fee</th>\n",
       "    </tr>\n",
       "  </thead>\n",
       "  <tbody>\n",
       "    <tr>\n",
       "      <th>0</th>\n",
       "      <td>Alexis</td>\n",
       "      <td>9.2343</td>\n",
       "      <td>3.5</td>\n",
       "      <td>“school”</td>\n",
       "      <td>2023-04-15 12:00:00</td>\n",
       "      <td>2023-06-01</td>\n",
       "      <td>False</td>\n",
       "      <td>0.0</td>\n",
       "    </tr>\n",
       "    <tr>\n",
       "      <th>1</th>\n",
       "      <td>Alexis</td>\n",
       "      <td>10.3842</td>\n",
       "      <td>3.5</td>\n",
       "      <td>School</td>\n",
       "      <td>2023-04-22 12:30:00</td>\n",
       "      <td>2023-06-01</td>\n",
       "      <td>True</td>\n",
       "      <td>0.0</td>\n",
       "    </tr>\n",
       "    <tr>\n",
       "      <th>2</th>\n",
       "      <td>Alexis</td>\n",
       "      <td>8.1209</td>\n",
       "      <td>3.0</td>\n",
       "      <td>“the gym”</td>\n",
       "      <td>2023-05-10 15:00:00</td>\n",
       "      <td>2023-06-01</td>\n",
       "      <td>False</td>\n",
       "      <td>2.5</td>\n",
       "    </tr>\n",
       "    <tr>\n",
       "      <th>3</th>\n",
       "      <td>David</td>\n",
       "      <td>7.2123</td>\n",
       "      <td>2.2</td>\n",
       "      <td>“school”</td>\n",
       "      <td>2023-05-01 15:15:00</td>\n",
       "      <td>2023-06-15</td>\n",
       "      <td>False</td>\n",
       "      <td>0.0</td>\n",
       "    </tr>\n",
       "    <tr>\n",
       "      <th>4</th>\n",
       "      <td>David</td>\n",
       "      <td>6.8342</td>\n",
       "      <td>2.0</td>\n",
       "      <td>“gym”</td>\n",
       "      <td>2023-05-10 16:30:00</td>\n",
       "      <td>2023-06-15</td>\n",
       "      <td>False</td>\n",
       "      <td>2.5</td>\n",
       "    </tr>\n",
       "  </tbody>\n",
       "</table>\n",
       "</div>"
      ],
      "text/plain": [
       "     Name  Run Time  Warm Up Time   Location            Run Date  Race Date  \\\n",
       "0  Alexis    9.2343           3.5   “school” 2023-04-15 12:00:00 2023-06-01   \n",
       "1  Alexis   10.3842           3.5     School 2023-04-22 12:30:00 2023-06-01   \n",
       "2  Alexis    8.1209           3.0  “the gym” 2023-05-10 15:00:00 2023-06-01   \n",
       "3   David    7.2123           2.2   “school” 2023-05-01 15:15:00 2023-06-15   \n",
       "4   David    6.8342           2.0      “gym” 2023-05-10 16:30:00 2023-06-15   \n",
       "\n",
       "    Rain  Fee  \n",
       "0  False  0.0  \n",
       "1   True  0.0  \n",
       "2  False  2.5  \n",
       "3  False  0.0  \n",
       "4  False  2.5  "
      ]
     },
     "execution_count": 28,
     "metadata": {},
     "output_type": "execute_result"
    }
   ],
   "source": [
    "run_times.head()"
   ]
  },
  {
   "cell_type": "code",
   "execution_count": 29,
   "id": "aa9b0cce-e08a-469a-93fa-7030bfff6bf0",
   "metadata": {},
   "outputs": [
    {
     "data": {
      "text/plain": [
       "0    0\n",
       "1    1\n",
       "2    0\n",
       "3    0\n",
       "4    0\n",
       "Name: Rain, dtype: int64"
      ]
     },
     "execution_count": 29,
     "metadata": {},
     "output_type": "execute_result"
    }
   ],
   "source": [
    "run_times['Rain'].astype(int)"
   ]
  },
  {
   "cell_type": "code",
   "execution_count": null,
   "id": "4f22cf9b-e850-485d-84d5-f20e8ae49136",
   "metadata": {},
   "outputs": [],
   "source": []
  },
  {
   "cell_type": "code",
   "execution_count": null,
   "id": "397239e6-04a2-469c-b64b-2af2114763f0",
   "metadata": {},
   "outputs": [],
   "source": []
  },
  {
   "cell_type": "markdown",
   "id": "39b0e1da-bc67-472c-a4f8-17eb1bcfe87a",
   "metadata": {},
   "source": [
    "**Missing Data**"
   ]
  },
  {
   "cell_type": "code",
   "execution_count": 30,
   "id": "f57d71a5-0b95-4f6c-bc5f-9c8ff1b6a8a5",
   "metadata": {},
   "outputs": [
    {
     "data": {
      "text/plain": [
       "(86, 4)"
      ]
     },
     "execution_count": 30,
     "metadata": {},
     "output_type": "execute_result"
    }
   ],
   "source": [
    "df = pd.read_excel(\"./Data/Student Grades.xlsx\")\n",
    "df.shape"
   ]
  },
  {
   "cell_type": "code",
   "execution_count": 31,
   "id": "0d9e5386-d4b8-421e-b6f9-0b6393758eeb",
   "metadata": {},
   "outputs": [
    {
     "data": {
      "text/html": [
       "<div>\n",
       "<style scoped>\n",
       "    .dataframe tbody tr th:only-of-type {\n",
       "        vertical-align: middle;\n",
       "    }\n",
       "\n",
       "    .dataframe tbody tr th {\n",
       "        vertical-align: top;\n",
       "    }\n",
       "\n",
       "    .dataframe thead th {\n",
       "        text-align: right;\n",
       "    }\n",
       "</style>\n",
       "<table border=\"1\" class=\"dataframe\">\n",
       "  <thead>\n",
       "    <tr style=\"text-align: right;\">\n",
       "      <th></th>\n",
       "      <th>Student</th>\n",
       "      <th>Class</th>\n",
       "      <th>Year</th>\n",
       "      <th>Grade</th>\n",
       "    </tr>\n",
       "  </thead>\n",
       "  <tbody>\n",
       "    <tr>\n",
       "      <th>81</th>\n",
       "      <td>NaN</td>\n",
       "      <td>NaN</td>\n",
       "      <td>NaN</td>\n",
       "      <td>NaN</td>\n",
       "    </tr>\n",
       "    <tr>\n",
       "      <th>82</th>\n",
       "      <td>Bennett</td>\n",
       "      <td>NaN</td>\n",
       "      <td>NaN</td>\n",
       "      <td>NaN</td>\n",
       "    </tr>\n",
       "    <tr>\n",
       "      <th>83</th>\n",
       "      <td>NaN</td>\n",
       "      <td>EDA</td>\n",
       "      <td>Junior</td>\n",
       "      <td>84.0</td>\n",
       "    </tr>\n",
       "    <tr>\n",
       "      <th>84</th>\n",
       "      <td>Gavin</td>\n",
       "      <td>EDA</td>\n",
       "      <td>Senior</td>\n",
       "      <td>NaN</td>\n",
       "    </tr>\n",
       "    <tr>\n",
       "      <th>85</th>\n",
       "      <td>Calvin</td>\n",
       "      <td>NaN</td>\n",
       "      <td>NaN</td>\n",
       "      <td>100.0</td>\n",
       "    </tr>\n",
       "  </tbody>\n",
       "</table>\n",
       "</div>"
      ],
      "text/plain": [
       "    Student Class    Year  Grade\n",
       "81      NaN   NaN     NaN    NaN\n",
       "82  Bennett   NaN     NaN    NaN\n",
       "83      NaN   EDA  Junior   84.0\n",
       "84    Gavin   EDA  Senior    NaN\n",
       "85   Calvin   NaN     NaN  100.0"
      ]
     },
     "execution_count": 31,
     "metadata": {},
     "output_type": "execute_result"
    }
   ],
   "source": [
    "df.tail()"
   ]
  },
  {
   "cell_type": "code",
   "execution_count": 32,
   "id": "b52bd881-deee-45b4-9561-2d490a6bd95f",
   "metadata": {},
   "outputs": [
    {
     "ename": "NameError",
     "evalue": "name 'np' is not defined",
     "output_type": "error",
     "traceback": [
      "\u001b[1;31m---------------------------------------------------------------------------\u001b[0m",
      "\u001b[1;31mNameError\u001b[0m                                 Traceback (most recent call last)",
      "Cell \u001b[1;32mIn[32], line 1\u001b[0m\n\u001b[1;32m----> 1\u001b[0m \u001b[43mnp\u001b[49m\u001b[38;5;241m.\u001b[39mNaN\n",
      "\u001b[1;31mNameError\u001b[0m: name 'np' is not defined"
     ]
    }
   ],
   "source": [
    "np.NaN"
   ]
  },
  {
   "cell_type": "code",
   "execution_count": 33,
   "id": "9f5da3e4-3798-4df7-a8b1-89e31ef656b0",
   "metadata": {},
   "outputs": [],
   "source": [
    "import numpy as np"
   ]
  },
  {
   "cell_type": "code",
   "execution_count": 34,
   "id": "bb1469a6-66db-4ef8-b6ae-cfc84f1371e1",
   "metadata": {},
   "outputs": [
    {
     "data": {
      "text/plain": [
       "nan"
      ]
     },
     "execution_count": 34,
     "metadata": {},
     "output_type": "execute_result"
    }
   ],
   "source": [
    "np.nan"
   ]
  },
  {
   "cell_type": "code",
   "execution_count": 35,
   "id": "f3dd739d-fc8e-4e24-a14d-c2fb53b066c7",
   "metadata": {},
   "outputs": [
    {
     "data": {
      "text/plain": [
       "<NA>"
      ]
     },
     "execution_count": 35,
     "metadata": {},
     "output_type": "execute_result"
    }
   ],
   "source": [
    "pd.NA"
   ]
  },
  {
   "cell_type": "code",
   "execution_count": 36,
   "id": "e111ebed-9786-402e-978f-b1135e78ce69",
   "metadata": {},
   "outputs": [],
   "source": [
    "None"
   ]
  },
  {
   "cell_type": "code",
   "execution_count": 37,
   "id": "1be79583-fb74-485e-a81c-bc243bffcf0c",
   "metadata": {},
   "outputs": [
    {
     "name": "stdout",
     "output_type": "stream",
     "text": [
      "<class 'pandas.core.frame.DataFrame'>\n",
      "RangeIndex: 86 entries, 0 to 85\n",
      "Data columns (total 4 columns):\n",
      " #   Column   Non-Null Count  Dtype  \n",
      "---  ------   --------------  -----  \n",
      " 0   Student  84 non-null     object \n",
      " 1   Class    83 non-null     object \n",
      " 2   Year     80 non-null     object \n",
      " 3   Grade    82 non-null     float64\n",
      "dtypes: float64(1), object(3)\n",
      "memory usage: 2.8+ KB\n"
     ]
    }
   ],
   "source": [
    "df.info()"
   ]
  },
  {
   "cell_type": "code",
   "execution_count": 38,
   "id": "422048ef-9c87-4a12-a485-953a430c11da",
   "metadata": {},
   "outputs": [
    {
     "data": {
      "text/plain": [
       "Year\n",
       "Freshman     35\n",
       "Sophomore    24\n",
       "Junior       20\n",
       "NaN           6\n",
       "Senior        1\n",
       "Name: count, dtype: int64"
      ]
     },
     "execution_count": 38,
     "metadata": {},
     "output_type": "execute_result"
    }
   ],
   "source": [
    "df.Year.value_counts(dropna=False)"
   ]
  },
  {
   "cell_type": "code",
   "execution_count": 39,
   "id": "5b4eec21-ba09-4d55-af93-34c5a71dcb1c",
   "metadata": {},
   "outputs": [
    {
     "data": {
      "text/html": [
       "<div>\n",
       "<style scoped>\n",
       "    .dataframe tbody tr th:only-of-type {\n",
       "        vertical-align: middle;\n",
       "    }\n",
       "\n",
       "    .dataframe tbody tr th {\n",
       "        vertical-align: top;\n",
       "    }\n",
       "\n",
       "    .dataframe thead th {\n",
       "        text-align: right;\n",
       "    }\n",
       "</style>\n",
       "<table border=\"1\" class=\"dataframe\">\n",
       "  <thead>\n",
       "    <tr style=\"text-align: right;\">\n",
       "      <th></th>\n",
       "      <th>Student</th>\n",
       "      <th>Class</th>\n",
       "      <th>Year</th>\n",
       "      <th>Grade</th>\n",
       "    </tr>\n",
       "  </thead>\n",
       "  <tbody>\n",
       "    <tr>\n",
       "      <th>0</th>\n",
       "      <td>False</td>\n",
       "      <td>False</td>\n",
       "      <td>False</td>\n",
       "      <td>False</td>\n",
       "    </tr>\n",
       "    <tr>\n",
       "      <th>1</th>\n",
       "      <td>False</td>\n",
       "      <td>False</td>\n",
       "      <td>False</td>\n",
       "      <td>False</td>\n",
       "    </tr>\n",
       "    <tr>\n",
       "      <th>2</th>\n",
       "      <td>False</td>\n",
       "      <td>False</td>\n",
       "      <td>False</td>\n",
       "      <td>False</td>\n",
       "    </tr>\n",
       "    <tr>\n",
       "      <th>3</th>\n",
       "      <td>False</td>\n",
       "      <td>False</td>\n",
       "      <td>False</td>\n",
       "      <td>False</td>\n",
       "    </tr>\n",
       "    <tr>\n",
       "      <th>4</th>\n",
       "      <td>False</td>\n",
       "      <td>False</td>\n",
       "      <td>False</td>\n",
       "      <td>False</td>\n",
       "    </tr>\n",
       "    <tr>\n",
       "      <th>...</th>\n",
       "      <td>...</td>\n",
       "      <td>...</td>\n",
       "      <td>...</td>\n",
       "      <td>...</td>\n",
       "    </tr>\n",
       "    <tr>\n",
       "      <th>81</th>\n",
       "      <td>True</td>\n",
       "      <td>True</td>\n",
       "      <td>True</td>\n",
       "      <td>True</td>\n",
       "    </tr>\n",
       "    <tr>\n",
       "      <th>82</th>\n",
       "      <td>False</td>\n",
       "      <td>True</td>\n",
       "      <td>True</td>\n",
       "      <td>True</td>\n",
       "    </tr>\n",
       "    <tr>\n",
       "      <th>83</th>\n",
       "      <td>True</td>\n",
       "      <td>False</td>\n",
       "      <td>False</td>\n",
       "      <td>False</td>\n",
       "    </tr>\n",
       "    <tr>\n",
       "      <th>84</th>\n",
       "      <td>False</td>\n",
       "      <td>False</td>\n",
       "      <td>False</td>\n",
       "      <td>True</td>\n",
       "    </tr>\n",
       "    <tr>\n",
       "      <th>85</th>\n",
       "      <td>False</td>\n",
       "      <td>True</td>\n",
       "      <td>True</td>\n",
       "      <td>False</td>\n",
       "    </tr>\n",
       "  </tbody>\n",
       "</table>\n",
       "<p>86 rows × 4 columns</p>\n",
       "</div>"
      ],
      "text/plain": [
       "    Student  Class   Year  Grade\n",
       "0     False  False  False  False\n",
       "1     False  False  False  False\n",
       "2     False  False  False  False\n",
       "3     False  False  False  False\n",
       "4     False  False  False  False\n",
       "..      ...    ...    ...    ...\n",
       "81     True   True   True   True\n",
       "82    False   True   True   True\n",
       "83     True  False  False  False\n",
       "84    False  False  False   True\n",
       "85    False   True   True  False\n",
       "\n",
       "[86 rows x 4 columns]"
      ]
     },
     "execution_count": 39,
     "metadata": {},
     "output_type": "execute_result"
    }
   ],
   "source": [
    "df.isna()"
   ]
  },
  {
   "cell_type": "code",
   "execution_count": 40,
   "id": "55b2893d-cdcf-4e71-990e-075837b2ce43",
   "metadata": {},
   "outputs": [
    {
     "data": {
      "text/plain": [
       "Student    2\n",
       "Class      3\n",
       "Year       6\n",
       "Grade      4\n",
       "dtype: int64"
      ]
     },
     "execution_count": 40,
     "metadata": {},
     "output_type": "execute_result"
    }
   ],
   "source": [
    "df.isna().sum()"
   ]
  },
  {
   "cell_type": "code",
   "execution_count": 41,
   "id": "b3ca3e4a-7701-4628-964e-31fff3a35656",
   "metadata": {},
   "outputs": [
    {
     "data": {
      "text/html": [
       "<div>\n",
       "<style scoped>\n",
       "    .dataframe tbody tr th:only-of-type {\n",
       "        vertical-align: middle;\n",
       "    }\n",
       "\n",
       "    .dataframe tbody tr th {\n",
       "        vertical-align: top;\n",
       "    }\n",
       "\n",
       "    .dataframe thead th {\n",
       "        text-align: right;\n",
       "    }\n",
       "</style>\n",
       "<table border=\"1\" class=\"dataframe\">\n",
       "  <thead>\n",
       "    <tr style=\"text-align: right;\">\n",
       "      <th></th>\n",
       "      <th>Student</th>\n",
       "      <th>Class</th>\n",
       "      <th>Year</th>\n",
       "      <th>Grade</th>\n",
       "    </tr>\n",
       "  </thead>\n",
       "  <tbody>\n",
       "    <tr>\n",
       "      <th>7</th>\n",
       "      <td>Jacob</td>\n",
       "      <td>Freshman Seminar</td>\n",
       "      <td>NaN</td>\n",
       "      <td>88.0</td>\n",
       "    </tr>\n",
       "    <tr>\n",
       "      <th>8</th>\n",
       "      <td>William</td>\n",
       "      <td>Freshman Seminar</td>\n",
       "      <td>NaN</td>\n",
       "      <td>89.0</td>\n",
       "    </tr>\n",
       "    <tr>\n",
       "      <th>9</th>\n",
       "      <td>Ethan</td>\n",
       "      <td>Freshman Seminar</td>\n",
       "      <td>NaN</td>\n",
       "      <td>86.0</td>\n",
       "    </tr>\n",
       "    <tr>\n",
       "      <th>62</th>\n",
       "      <td>Landon</td>\n",
       "      <td>Exploratory Data Analysis</td>\n",
       "      <td>Junior</td>\n",
       "      <td>NaN</td>\n",
       "    </tr>\n",
       "    <tr>\n",
       "      <th>81</th>\n",
       "      <td>NaN</td>\n",
       "      <td>NaN</td>\n",
       "      <td>NaN</td>\n",
       "      <td>NaN</td>\n",
       "    </tr>\n",
       "    <tr>\n",
       "      <th>82</th>\n",
       "      <td>Bennett</td>\n",
       "      <td>NaN</td>\n",
       "      <td>NaN</td>\n",
       "      <td>NaN</td>\n",
       "    </tr>\n",
       "    <tr>\n",
       "      <th>83</th>\n",
       "      <td>NaN</td>\n",
       "      <td>EDA</td>\n",
       "      <td>Junior</td>\n",
       "      <td>84.0</td>\n",
       "    </tr>\n",
       "    <tr>\n",
       "      <th>84</th>\n",
       "      <td>Gavin</td>\n",
       "      <td>EDA</td>\n",
       "      <td>Senior</td>\n",
       "      <td>NaN</td>\n",
       "    </tr>\n",
       "    <tr>\n",
       "      <th>85</th>\n",
       "      <td>Calvin</td>\n",
       "      <td>NaN</td>\n",
       "      <td>NaN</td>\n",
       "      <td>100.0</td>\n",
       "    </tr>\n",
       "  </tbody>\n",
       "</table>\n",
       "</div>"
      ],
      "text/plain": [
       "    Student                      Class    Year  Grade\n",
       "7     Jacob           Freshman Seminar     NaN   88.0\n",
       "8   William           Freshman Seminar     NaN   89.0\n",
       "9     Ethan           Freshman Seminar     NaN   86.0\n",
       "62   Landon  Exploratory Data Analysis  Junior    NaN\n",
       "81      NaN                        NaN     NaN    NaN\n",
       "82  Bennett                        NaN     NaN    NaN\n",
       "83      NaN                        EDA  Junior   84.0\n",
       "84    Gavin                        EDA  Senior    NaN\n",
       "85   Calvin                        NaN     NaN  100.0"
      ]
     },
     "execution_count": 41,
     "metadata": {},
     "output_type": "execute_result"
    }
   ],
   "source": [
    "df[df.isna().any(axis=1)]"
   ]
  },
  {
   "cell_type": "code",
   "execution_count": 42,
   "id": "3f5619ca-b142-444b-9fd9-8ccdea7439ec",
   "metadata": {},
   "outputs": [
    {
     "data": {
      "text/html": [
       "<div>\n",
       "<style scoped>\n",
       "    .dataframe tbody tr th:only-of-type {\n",
       "        vertical-align: middle;\n",
       "    }\n",
       "\n",
       "    .dataframe tbody tr th {\n",
       "        vertical-align: top;\n",
       "    }\n",
       "\n",
       "    .dataframe thead th {\n",
       "        text-align: right;\n",
       "    }\n",
       "</style>\n",
       "<table border=\"1\" class=\"dataframe\">\n",
       "  <thead>\n",
       "    <tr style=\"text-align: right;\">\n",
       "      <th></th>\n",
       "      <th>Student</th>\n",
       "      <th>Class</th>\n",
       "      <th>Year</th>\n",
       "      <th>Grade</th>\n",
       "    </tr>\n",
       "  </thead>\n",
       "  <tbody>\n",
       "    <tr>\n",
       "      <th>7</th>\n",
       "      <td>Jacob</td>\n",
       "      <td>Freshman Seminar</td>\n",
       "      <td>NaN</td>\n",
       "      <td>88.0</td>\n",
       "    </tr>\n",
       "    <tr>\n",
       "      <th>8</th>\n",
       "      <td>William</td>\n",
       "      <td>Freshman Seminar</td>\n",
       "      <td>NaN</td>\n",
       "      <td>89.0</td>\n",
       "    </tr>\n",
       "    <tr>\n",
       "      <th>9</th>\n",
       "      <td>Ethan</td>\n",
       "      <td>Freshman Seminar</td>\n",
       "      <td>NaN</td>\n",
       "      <td>86.0</td>\n",
       "    </tr>\n",
       "    <tr>\n",
       "      <th>62</th>\n",
       "      <td>Landon</td>\n",
       "      <td>Exploratory Data Analysis</td>\n",
       "      <td>Junior</td>\n",
       "      <td>NaN</td>\n",
       "    </tr>\n",
       "    <tr>\n",
       "      <th>84</th>\n",
       "      <td>Gavin</td>\n",
       "      <td>EDA</td>\n",
       "      <td>Senior</td>\n",
       "      <td>NaN</td>\n",
       "    </tr>\n",
       "  </tbody>\n",
       "</table>\n",
       "</div>"
      ],
      "text/plain": [
       "    Student                      Class    Year  Grade\n",
       "7     Jacob           Freshman Seminar     NaN   88.0\n",
       "8   William           Freshman Seminar     NaN   89.0\n",
       "9     Ethan           Freshman Seminar     NaN   86.0\n",
       "62   Landon  Exploratory Data Analysis  Junior    NaN\n",
       "84    Gavin                        EDA  Senior    NaN"
      ]
     },
     "execution_count": 42,
     "metadata": {},
     "output_type": "execute_result"
    }
   ],
   "source": [
    "df[df.isna().any(axis=1)].dropna(subset=['Student','Class'])"
   ]
  },
  {
   "cell_type": "code",
   "execution_count": 43,
   "id": "26392141-ce80-4369-9554-144b3e6c1624",
   "metadata": {},
   "outputs": [
    {
     "data": {
      "text/html": [
       "<div>\n",
       "<style scoped>\n",
       "    .dataframe tbody tr th:only-of-type {\n",
       "        vertical-align: middle;\n",
       "    }\n",
       "\n",
       "    .dataframe tbody tr th {\n",
       "        vertical-align: top;\n",
       "    }\n",
       "\n",
       "    .dataframe thead th {\n",
       "        text-align: right;\n",
       "    }\n",
       "</style>\n",
       "<table border=\"1\" class=\"dataframe\">\n",
       "  <thead>\n",
       "    <tr style=\"text-align: right;\">\n",
       "      <th></th>\n",
       "      <th>Student</th>\n",
       "      <th>Class</th>\n",
       "      <th>Year</th>\n",
       "      <th>Grade</th>\n",
       "    </tr>\n",
       "  </thead>\n",
       "  <tbody>\n",
       "    <tr>\n",
       "      <th>7</th>\n",
       "      <td>Jacob</td>\n",
       "      <td>Freshman Seminar</td>\n",
       "      <td>NaN</td>\n",
       "      <td>88.0</td>\n",
       "    </tr>\n",
       "    <tr>\n",
       "      <th>8</th>\n",
       "      <td>William</td>\n",
       "      <td>Freshman Seminar</td>\n",
       "      <td>NaN</td>\n",
       "      <td>89.0</td>\n",
       "    </tr>\n",
       "    <tr>\n",
       "      <th>9</th>\n",
       "      <td>Ethan</td>\n",
       "      <td>Freshman Seminar</td>\n",
       "      <td>NaN</td>\n",
       "      <td>86.0</td>\n",
       "    </tr>\n",
       "    <tr>\n",
       "      <th>62</th>\n",
       "      <td>Landon</td>\n",
       "      <td>Exploratory Data Analysis</td>\n",
       "      <td>Junior</td>\n",
       "      <td>NaN</td>\n",
       "    </tr>\n",
       "    <tr>\n",
       "      <th>81</th>\n",
       "      <td>NaN</td>\n",
       "      <td>NaN</td>\n",
       "      <td>NaN</td>\n",
       "      <td>NaN</td>\n",
       "    </tr>\n",
       "    <tr>\n",
       "      <th>82</th>\n",
       "      <td>Bennett</td>\n",
       "      <td>NaN</td>\n",
       "      <td>NaN</td>\n",
       "      <td>NaN</td>\n",
       "    </tr>\n",
       "    <tr>\n",
       "      <th>83</th>\n",
       "      <td>NaN</td>\n",
       "      <td>EDA</td>\n",
       "      <td>Junior</td>\n",
       "      <td>84.0</td>\n",
       "    </tr>\n",
       "    <tr>\n",
       "      <th>84</th>\n",
       "      <td>Gavin</td>\n",
       "      <td>EDA</td>\n",
       "      <td>Senior</td>\n",
       "      <td>NaN</td>\n",
       "    </tr>\n",
       "    <tr>\n",
       "      <th>85</th>\n",
       "      <td>Calvin</td>\n",
       "      <td>NaN</td>\n",
       "      <td>NaN</td>\n",
       "      <td>100.0</td>\n",
       "    </tr>\n",
       "  </tbody>\n",
       "</table>\n",
       "</div>"
      ],
      "text/plain": [
       "    Student                      Class    Year  Grade\n",
       "7     Jacob           Freshman Seminar     NaN   88.0\n",
       "8   William           Freshman Seminar     NaN   89.0\n",
       "9     Ethan           Freshman Seminar     NaN   86.0\n",
       "62   Landon  Exploratory Data Analysis  Junior    NaN\n",
       "81      NaN                        NaN     NaN    NaN\n",
       "82  Bennett                        NaN     NaN    NaN\n",
       "83      NaN                        EDA  Junior   84.0\n",
       "84    Gavin                        EDA  Senior    NaN\n",
       "85   Calvin                        NaN     NaN  100.0"
      ]
     },
     "execution_count": 43,
     "metadata": {},
     "output_type": "execute_result"
    }
   ],
   "source": [
    "df[df.isna().any(axis=1)]"
   ]
  },
  {
   "cell_type": "code",
   "execution_count": 44,
   "id": "3e0190a4-2473-42b9-8297-9a5332af2690",
   "metadata": {},
   "outputs": [],
   "source": [
    "df.dropna(subset=['Student','Class'],inplace=True)"
   ]
  },
  {
   "cell_type": "code",
   "execution_count": 45,
   "id": "6893e17b-bbc0-479b-8edf-e97019a2891d",
   "metadata": {},
   "outputs": [
    {
     "data": {
      "text/plain": [
       "(82, 4)"
      ]
     },
     "execution_count": 45,
     "metadata": {},
     "output_type": "execute_result"
    }
   ],
   "source": [
    "df.shape"
   ]
  },
  {
   "cell_type": "code",
   "execution_count": 46,
   "id": "c9c5be15-a77d-4e6c-815e-b9aec0be613b",
   "metadata": {},
   "outputs": [
    {
     "data": {
      "text/html": [
       "<div>\n",
       "<style scoped>\n",
       "    .dataframe tbody tr th:only-of-type {\n",
       "        vertical-align: middle;\n",
       "    }\n",
       "\n",
       "    .dataframe tbody tr th {\n",
       "        vertical-align: top;\n",
       "    }\n",
       "\n",
       "    .dataframe thead th {\n",
       "        text-align: right;\n",
       "    }\n",
       "</style>\n",
       "<table border=\"1\" class=\"dataframe\">\n",
       "  <thead>\n",
       "    <tr style=\"text-align: right;\">\n",
       "      <th></th>\n",
       "      <th>Student</th>\n",
       "      <th>Class</th>\n",
       "      <th>Year</th>\n",
       "      <th>Grade</th>\n",
       "    </tr>\n",
       "  </thead>\n",
       "  <tbody>\n",
       "    <tr>\n",
       "      <th>62</th>\n",
       "      <td>Landon</td>\n",
       "      <td>Exploratory Data Analysis</td>\n",
       "      <td>Junior</td>\n",
       "      <td>NaN</td>\n",
       "    </tr>\n",
       "    <tr>\n",
       "      <th>84</th>\n",
       "      <td>Gavin</td>\n",
       "      <td>EDA</td>\n",
       "      <td>Senior</td>\n",
       "      <td>NaN</td>\n",
       "    </tr>\n",
       "  </tbody>\n",
       "</table>\n",
       "</div>"
      ],
      "text/plain": [
       "   Student                      Class    Year  Grade\n",
       "62  Landon  Exploratory Data Analysis  Junior    NaN\n",
       "84   Gavin                        EDA  Senior    NaN"
      ]
     },
     "execution_count": 46,
     "metadata": {},
     "output_type": "execute_result"
    }
   ],
   "source": [
    "df[df.Grade.isna()]"
   ]
  },
  {
   "cell_type": "code",
   "execution_count": 47,
   "id": "c969c60e-3735-4a99-82cb-c115176f49e1",
   "metadata": {},
   "outputs": [
    {
     "data": {
      "text/plain": [
       "np.float64(85.55)"
      ]
     },
     "execution_count": 47,
     "metadata": {},
     "output_type": "execute_result"
    }
   ],
   "source": [
    "df.Grade.mean()"
   ]
  },
  {
   "cell_type": "code",
   "execution_count": 48,
   "id": "19ce38ff-3fc1-46e4-b24b-b42094fb8081",
   "metadata": {},
   "outputs": [
    {
     "name": "stderr",
     "output_type": "stream",
     "text": [
      "C:\\Users\\hp\\AppData\\Local\\Temp\\ipykernel_11008\\2679538907.py:1: FutureWarning: A value is trying to be set on a copy of a DataFrame or Series through chained assignment using an inplace method.\n",
      "The behavior will change in pandas 3.0. This inplace method will never work because the intermediate object on which we are setting values always behaves as a copy.\n",
      "\n",
      "For example, when doing 'df[col].method(value, inplace=True)', try using 'df.method({col: value}, inplace=True)' or df[col] = df[col].method(value) instead, to perform the operation inplace on the original object.\n",
      "\n",
      "\n",
      "  df['Grade'].fillna(df['Grade'].mean(),inplace=True)\n"
     ]
    }
   ],
   "source": [
    "df['Grade'].fillna(df['Grade'].mean(),inplace=True)\n"
   ]
  },
  {
   "cell_type": "code",
   "execution_count": 49,
   "id": "963560b5-5c8d-4bbf-a0e0-4f4ac2e2fed6",
   "metadata": {},
   "outputs": [
    {
     "data": {
      "text/plain": [
       "0     86.00\n",
       "1     86.00\n",
       "2     86.00\n",
       "3     87.00\n",
       "4     90.00\n",
       "      ...  \n",
       "77    85.00\n",
       "78    93.00\n",
       "79    91.00\n",
       "80    87.00\n",
       "84    85.55\n",
       "Name: Grade, Length: 82, dtype: float64"
      ]
     },
     "execution_count": 49,
     "metadata": {},
     "output_type": "execute_result"
    }
   ],
   "source": [
    "df.Grade"
   ]
  },
  {
   "cell_type": "code",
   "execution_count": 50,
   "id": "91cf597b-b19f-4db2-af69-8d560c9010ee",
   "metadata": {},
   "outputs": [
    {
     "data": {
      "text/html": [
       "<div>\n",
       "<style scoped>\n",
       "    .dataframe tbody tr th:only-of-type {\n",
       "        vertical-align: middle;\n",
       "    }\n",
       "\n",
       "    .dataframe tbody tr th {\n",
       "        vertical-align: top;\n",
       "    }\n",
       "\n",
       "    .dataframe thead th {\n",
       "        text-align: right;\n",
       "    }\n",
       "</style>\n",
       "<table border=\"1\" class=\"dataframe\">\n",
       "  <thead>\n",
       "    <tr style=\"text-align: right;\">\n",
       "      <th></th>\n",
       "      <th>Student</th>\n",
       "      <th>Class</th>\n",
       "      <th>Year</th>\n",
       "      <th>Grade</th>\n",
       "    </tr>\n",
       "  </thead>\n",
       "  <tbody>\n",
       "    <tr>\n",
       "      <th>7</th>\n",
       "      <td>Jacob</td>\n",
       "      <td>Freshman Seminar</td>\n",
       "      <td>NaN</td>\n",
       "      <td>88.0</td>\n",
       "    </tr>\n",
       "    <tr>\n",
       "      <th>8</th>\n",
       "      <td>William</td>\n",
       "      <td>Freshman Seminar</td>\n",
       "      <td>NaN</td>\n",
       "      <td>89.0</td>\n",
       "    </tr>\n",
       "    <tr>\n",
       "      <th>9</th>\n",
       "      <td>Ethan</td>\n",
       "      <td>Freshman Seminar</td>\n",
       "      <td>NaN</td>\n",
       "      <td>86.0</td>\n",
       "    </tr>\n",
       "  </tbody>\n",
       "</table>\n",
       "</div>"
      ],
      "text/plain": [
       "   Student             Class Year  Grade\n",
       "7    Jacob  Freshman Seminar  NaN   88.0\n",
       "8  William  Freshman Seminar  NaN   89.0\n",
       "9    Ethan  Freshman Seminar  NaN   86.0"
      ]
     },
     "execution_count": 50,
     "metadata": {},
     "output_type": "execute_result"
    }
   ],
   "source": [
    "df[df.isna().any(axis=1)]"
   ]
  },
  {
   "cell_type": "code",
   "execution_count": 51,
   "id": "0246f845-352e-4ce4-9415-4cf45a1970d0",
   "metadata": {},
   "outputs": [
    {
     "data": {
      "text/html": [
       "<div>\n",
       "<style scoped>\n",
       "    .dataframe tbody tr th:only-of-type {\n",
       "        vertical-align: middle;\n",
       "    }\n",
       "\n",
       "    .dataframe tbody tr th {\n",
       "        vertical-align: top;\n",
       "    }\n",
       "\n",
       "    .dataframe thead th {\n",
       "        text-align: right;\n",
       "    }\n",
       "</style>\n",
       "<table border=\"1\" class=\"dataframe\">\n",
       "  <thead>\n",
       "    <tr style=\"text-align: right;\">\n",
       "      <th></th>\n",
       "      <th>Student</th>\n",
       "      <th>Class</th>\n",
       "      <th>Year</th>\n",
       "      <th>Grade</th>\n",
       "    </tr>\n",
       "  </thead>\n",
       "  <tbody>\n",
       "    <tr>\n",
       "      <th>0</th>\n",
       "      <td>Emma</td>\n",
       "      <td>Freshman Seminar</td>\n",
       "      <td>Freshman</td>\n",
       "      <td>86.0</td>\n",
       "    </tr>\n",
       "    <tr>\n",
       "      <th>1</th>\n",
       "      <td>Olivia</td>\n",
       "      <td>Freshman Seminar</td>\n",
       "      <td>Freshman</td>\n",
       "      <td>86.0</td>\n",
       "    </tr>\n",
       "    <tr>\n",
       "      <th>2</th>\n",
       "      <td>Noah</td>\n",
       "      <td>Freshman Seminar</td>\n",
       "      <td>Freshman</td>\n",
       "      <td>86.0</td>\n",
       "    </tr>\n",
       "    <tr>\n",
       "      <th>3</th>\n",
       "      <td>Sophia</td>\n",
       "      <td>Freshman Seminar</td>\n",
       "      <td>Freshman</td>\n",
       "      <td>87.0</td>\n",
       "    </tr>\n",
       "    <tr>\n",
       "      <th>4</th>\n",
       "      <td>Liam</td>\n",
       "      <td>Freshman Seminar</td>\n",
       "      <td>Freshman</td>\n",
       "      <td>90.0</td>\n",
       "    </tr>\n",
       "    <tr>\n",
       "      <th>5</th>\n",
       "      <td>Mason</td>\n",
       "      <td>Freshman Seminar</td>\n",
       "      <td>Freshman</td>\n",
       "      <td>90.0</td>\n",
       "    </tr>\n",
       "    <tr>\n",
       "      <th>6</th>\n",
       "      <td>Isabella</td>\n",
       "      <td>Freshman Seminar</td>\n",
       "      <td>Freshman</td>\n",
       "      <td>90.0</td>\n",
       "    </tr>\n",
       "    <tr>\n",
       "      <th>7</th>\n",
       "      <td>Jacob</td>\n",
       "      <td>Freshman Seminar</td>\n",
       "      <td>NaN</td>\n",
       "      <td>88.0</td>\n",
       "    </tr>\n",
       "    <tr>\n",
       "      <th>8</th>\n",
       "      <td>William</td>\n",
       "      <td>Freshman Seminar</td>\n",
       "      <td>NaN</td>\n",
       "      <td>89.0</td>\n",
       "    </tr>\n",
       "    <tr>\n",
       "      <th>9</th>\n",
       "      <td>Ethan</td>\n",
       "      <td>Freshman Seminar</td>\n",
       "      <td>NaN</td>\n",
       "      <td>86.0</td>\n",
       "    </tr>\n",
       "    <tr>\n",
       "      <th>10</th>\n",
       "      <td>Ava</td>\n",
       "      <td>Freshman Seminar</td>\n",
       "      <td>Freshman</td>\n",
       "      <td>88.0</td>\n",
       "    </tr>\n",
       "    <tr>\n",
       "      <th>11</th>\n",
       "      <td>Michael</td>\n",
       "      <td>Freshman Seminar</td>\n",
       "      <td>Freshman</td>\n",
       "      <td>88.0</td>\n",
       "    </tr>\n",
       "  </tbody>\n",
       "</table>\n",
       "</div>"
      ],
      "text/plain": [
       "     Student             Class      Year  Grade\n",
       "0       Emma  Freshman Seminar  Freshman   86.0\n",
       "1     Olivia  Freshman Seminar  Freshman   86.0\n",
       "2       Noah  Freshman Seminar  Freshman   86.0\n",
       "3     Sophia  Freshman Seminar  Freshman   87.0\n",
       "4       Liam  Freshman Seminar  Freshman   90.0\n",
       "5      Mason  Freshman Seminar  Freshman   90.0\n",
       "6   Isabella  Freshman Seminar  Freshman   90.0\n",
       "7      Jacob  Freshman Seminar       NaN   88.0\n",
       "8    William  Freshman Seminar       NaN   89.0\n",
       "9      Ethan  Freshman Seminar       NaN   86.0\n",
       "10       Ava  Freshman Seminar  Freshman   88.0\n",
       "11   Michael  Freshman Seminar  Freshman   88.0"
      ]
     },
     "execution_count": 51,
     "metadata": {},
     "output_type": "execute_result"
    }
   ],
   "source": [
    "df[df.Class == 'Freshman Seminar']"
   ]
  },
  {
   "cell_type": "code",
   "execution_count": 52,
   "id": "ee1d6c72-e0ea-49fc-b8ce-57f75bf15e91",
   "metadata": {},
   "outputs": [],
   "source": [
    "df.loc[7,'Year'] = \"Freshman\""
   ]
  },
  {
   "cell_type": "code",
   "execution_count": 53,
   "id": "090c246e-d451-4501-9ef9-26d56af7e142",
   "metadata": {},
   "outputs": [
    {
     "data": {
      "text/html": [
       "<div>\n",
       "<style scoped>\n",
       "    .dataframe tbody tr th:only-of-type {\n",
       "        vertical-align: middle;\n",
       "    }\n",
       "\n",
       "    .dataframe tbody tr th {\n",
       "        vertical-align: top;\n",
       "    }\n",
       "\n",
       "    .dataframe thead th {\n",
       "        text-align: right;\n",
       "    }\n",
       "</style>\n",
       "<table border=\"1\" class=\"dataframe\">\n",
       "  <thead>\n",
       "    <tr style=\"text-align: right;\">\n",
       "      <th></th>\n",
       "      <th>Student</th>\n",
       "      <th>Class</th>\n",
       "      <th>Year</th>\n",
       "      <th>Grade</th>\n",
       "    </tr>\n",
       "  </thead>\n",
       "  <tbody>\n",
       "    <tr>\n",
       "      <th>0</th>\n",
       "      <td>Emma</td>\n",
       "      <td>Freshman Seminar</td>\n",
       "      <td>Freshman</td>\n",
       "      <td>86.00</td>\n",
       "    </tr>\n",
       "    <tr>\n",
       "      <th>1</th>\n",
       "      <td>Olivia</td>\n",
       "      <td>Freshman Seminar</td>\n",
       "      <td>Freshman</td>\n",
       "      <td>86.00</td>\n",
       "    </tr>\n",
       "    <tr>\n",
       "      <th>2</th>\n",
       "      <td>Noah</td>\n",
       "      <td>Freshman Seminar</td>\n",
       "      <td>Freshman</td>\n",
       "      <td>86.00</td>\n",
       "    </tr>\n",
       "    <tr>\n",
       "      <th>3</th>\n",
       "      <td>Sophia</td>\n",
       "      <td>Freshman Seminar</td>\n",
       "      <td>Freshman</td>\n",
       "      <td>87.00</td>\n",
       "    </tr>\n",
       "    <tr>\n",
       "      <th>4</th>\n",
       "      <td>Liam</td>\n",
       "      <td>Freshman Seminar</td>\n",
       "      <td>Freshman</td>\n",
       "      <td>90.00</td>\n",
       "    </tr>\n",
       "    <tr>\n",
       "      <th>...</th>\n",
       "      <td>...</td>\n",
       "      <td>...</td>\n",
       "      <td>...</td>\n",
       "      <td>...</td>\n",
       "    </tr>\n",
       "    <tr>\n",
       "      <th>77</th>\n",
       "      <td>Aaron</td>\n",
       "      <td>EDA</td>\n",
       "      <td>Junior</td>\n",
       "      <td>85.00</td>\n",
       "    </tr>\n",
       "    <tr>\n",
       "      <th>78</th>\n",
       "      <td>Charles</td>\n",
       "      <td>EDA</td>\n",
       "      <td>Junior</td>\n",
       "      <td>93.00</td>\n",
       "    </tr>\n",
       "    <tr>\n",
       "      <th>79</th>\n",
       "      <td>Connor</td>\n",
       "      <td>EDA</td>\n",
       "      <td>Junior</td>\n",
       "      <td>91.00</td>\n",
       "    </tr>\n",
       "    <tr>\n",
       "      <th>80</th>\n",
       "      <td>Riley</td>\n",
       "      <td>EDA</td>\n",
       "      <td>Junior</td>\n",
       "      <td>87.00</td>\n",
       "    </tr>\n",
       "    <tr>\n",
       "      <th>84</th>\n",
       "      <td>Gavin</td>\n",
       "      <td>EDA</td>\n",
       "      <td>Senior</td>\n",
       "      <td>85.55</td>\n",
       "    </tr>\n",
       "  </tbody>\n",
       "</table>\n",
       "<p>82 rows × 4 columns</p>\n",
       "</div>"
      ],
      "text/plain": [
       "    Student             Class      Year  Grade\n",
       "0      Emma  Freshman Seminar  Freshman  86.00\n",
       "1    Olivia  Freshman Seminar  Freshman  86.00\n",
       "2      Noah  Freshman Seminar  Freshman  86.00\n",
       "3    Sophia  Freshman Seminar  Freshman  87.00\n",
       "4      Liam  Freshman Seminar  Freshman  90.00\n",
       "..      ...               ...       ...    ...\n",
       "77    Aaron               EDA    Junior  85.00\n",
       "78  Charles               EDA    Junior  93.00\n",
       "79   Connor               EDA    Junior  91.00\n",
       "80    Riley               EDA    Junior  87.00\n",
       "84    Gavin               EDA    Senior  85.55\n",
       "\n",
       "[82 rows x 4 columns]"
      ]
     },
     "execution_count": 53,
     "metadata": {},
     "output_type": "execute_result"
    }
   ],
   "source": [
    "## Update multivalues using np.where\n",
    "import numpy as np\n",
    "df.Year = np.where(df.Year.isna(),'Freshman',df.Year)\n",
    "df"
   ]
  },
  {
   "cell_type": "markdown",
   "id": "d0b4f2c3-360f-44d7-8bbd-642b1aaf7882",
   "metadata": {},
   "source": [
    "**Inconsistnet Text & Typos**"
   ]
  },
  {
   "cell_type": "code",
   "execution_count": 54,
   "id": "a2a1178e-bd85-497b-bfac-cb8d7d9d9e3a",
   "metadata": {},
   "outputs": [
    {
     "data": {
      "text/html": [
       "<div>\n",
       "<style scoped>\n",
       "    .dataframe tbody tr th:only-of-type {\n",
       "        vertical-align: middle;\n",
       "    }\n",
       "\n",
       "    .dataframe tbody tr th {\n",
       "        vertical-align: top;\n",
       "    }\n",
       "\n",
       "    .dataframe thead th {\n",
       "        text-align: right;\n",
       "    }\n",
       "</style>\n",
       "<table border=\"1\" class=\"dataframe\">\n",
       "  <thead>\n",
       "    <tr style=\"text-align: right;\">\n",
       "      <th></th>\n",
       "      <th>Student</th>\n",
       "      <th>Class</th>\n",
       "      <th>Year</th>\n",
       "      <th>Grade</th>\n",
       "    </tr>\n",
       "  </thead>\n",
       "  <tbody>\n",
       "    <tr>\n",
       "      <th>0</th>\n",
       "      <td>Emma</td>\n",
       "      <td>Freshman Seminar</td>\n",
       "      <td>Freshman</td>\n",
       "      <td>86.0</td>\n",
       "    </tr>\n",
       "    <tr>\n",
       "      <th>1</th>\n",
       "      <td>Olivia</td>\n",
       "      <td>Freshman Seminar</td>\n",
       "      <td>Freshman</td>\n",
       "      <td>86.0</td>\n",
       "    </tr>\n",
       "    <tr>\n",
       "      <th>2</th>\n",
       "      <td>Noah</td>\n",
       "      <td>Freshman Seminar</td>\n",
       "      <td>Freshman</td>\n",
       "      <td>86.0</td>\n",
       "    </tr>\n",
       "    <tr>\n",
       "      <th>3</th>\n",
       "      <td>Sophia</td>\n",
       "      <td>Freshman Seminar</td>\n",
       "      <td>Freshman</td>\n",
       "      <td>87.0</td>\n",
       "    </tr>\n",
       "    <tr>\n",
       "      <th>4</th>\n",
       "      <td>Liam</td>\n",
       "      <td>Freshman Seminar</td>\n",
       "      <td>Freshman</td>\n",
       "      <td>90.0</td>\n",
       "    </tr>\n",
       "  </tbody>\n",
       "</table>\n",
       "</div>"
      ],
      "text/plain": [
       "  Student             Class      Year  Grade\n",
       "0    Emma  Freshman Seminar  Freshman   86.0\n",
       "1  Olivia  Freshman Seminar  Freshman   86.0\n",
       "2    Noah  Freshman Seminar  Freshman   86.0\n",
       "3  Sophia  Freshman Seminar  Freshman   87.0\n",
       "4    Liam  Freshman Seminar  Freshman   90.0"
      ]
     },
     "execution_count": 54,
     "metadata": {},
     "output_type": "execute_result"
    }
   ],
   "source": [
    "df.head()"
   ]
  },
  {
   "cell_type": "code",
   "execution_count": 55,
   "id": "01d12ff4-ba2c-46c6-8243-9011dedaf2c8",
   "metadata": {},
   "outputs": [
    {
     "data": {
      "text/plain": [
       "Class\n",
       "Intro to Python              25\n",
       "Intro to SQL                 20\n",
       "Freshman Seminar             12\n",
       "Exploratory Data Analysis    12\n",
       "EDA                          12\n",
       "Python                        1\n",
       "Name: count, dtype: int64"
      ]
     },
     "execution_count": 55,
     "metadata": {},
     "output_type": "execute_result"
    }
   ],
   "source": [
    "df.Class.value_counts()"
   ]
  },
  {
   "cell_type": "code",
   "execution_count": 56,
   "id": "1b7af101-ea5f-437a-b54e-93c936c0c3fe",
   "metadata": {},
   "outputs": [
    {
     "data": {
      "text/html": [
       "<div>\n",
       "<style scoped>\n",
       "    .dataframe tbody tr th:only-of-type {\n",
       "        vertical-align: middle;\n",
       "    }\n",
       "\n",
       "    .dataframe tbody tr th {\n",
       "        vertical-align: top;\n",
       "    }\n",
       "\n",
       "    .dataframe thead th {\n",
       "        text-align: right;\n",
       "    }\n",
       "</style>\n",
       "<table border=\"1\" class=\"dataframe\">\n",
       "  <thead>\n",
       "    <tr style=\"text-align: right;\">\n",
       "      <th></th>\n",
       "      <th>Student</th>\n",
       "      <th>Class</th>\n",
       "      <th>Year</th>\n",
       "      <th>Grade</th>\n",
       "    </tr>\n",
       "  </thead>\n",
       "  <tbody>\n",
       "    <tr>\n",
       "      <th>12</th>\n",
       "      <td>Alexander</td>\n",
       "      <td>Intro to Python</td>\n",
       "      <td>Freshman</td>\n",
       "      <td>85.0</td>\n",
       "    </tr>\n",
       "    <tr>\n",
       "      <th>13</th>\n",
       "      <td>Logan</td>\n",
       "      <td>Intro to Python</td>\n",
       "      <td>Freshman</td>\n",
       "      <td>85.0</td>\n",
       "    </tr>\n",
       "    <tr>\n",
       "      <th>14</th>\n",
       "      <td>James</td>\n",
       "      <td>Intro to Python</td>\n",
       "      <td>Freshman</td>\n",
       "      <td>82.0</td>\n",
       "    </tr>\n",
       "    <tr>\n",
       "      <th>15</th>\n",
       "      <td>Daniel</td>\n",
       "      <td>Intro to Python</td>\n",
       "      <td>Freshman</td>\n",
       "      <td>85.0</td>\n",
       "    </tr>\n",
       "    <tr>\n",
       "      <th>16</th>\n",
       "      <td>Elijah</td>\n",
       "      <td>Intro to Python</td>\n",
       "      <td>Freshman</td>\n",
       "      <td>85.0</td>\n",
       "    </tr>\n",
       "    <tr>\n",
       "      <th>17</th>\n",
       "      <td>Benjamin</td>\n",
       "      <td>Intro to Python</td>\n",
       "      <td>Freshman</td>\n",
       "      <td>81.0</td>\n",
       "    </tr>\n",
       "    <tr>\n",
       "      <th>18</th>\n",
       "      <td>Mia</td>\n",
       "      <td>Intro to Python</td>\n",
       "      <td>Freshman</td>\n",
       "      <td>80.0</td>\n",
       "    </tr>\n",
       "    <tr>\n",
       "      <th>19</th>\n",
       "      <td>Mia</td>\n",
       "      <td>Python</td>\n",
       "      <td>Freshman</td>\n",
       "      <td>80.0</td>\n",
       "    </tr>\n",
       "    <tr>\n",
       "      <th>20</th>\n",
       "      <td>Jayden</td>\n",
       "      <td>Intro to Python</td>\n",
       "      <td>Freshman</td>\n",
       "      <td>82.0</td>\n",
       "    </tr>\n",
       "    <tr>\n",
       "      <th>21</th>\n",
       "      <td>Aiden</td>\n",
       "      <td>Intro to Python</td>\n",
       "      <td>Freshman</td>\n",
       "      <td>86.0</td>\n",
       "    </tr>\n",
       "    <tr>\n",
       "      <th>22</th>\n",
       "      <td>Matthew</td>\n",
       "      <td>Intro to Python</td>\n",
       "      <td>Freshman</td>\n",
       "      <td>87.0</td>\n",
       "    </tr>\n",
       "    <tr>\n",
       "      <th>23</th>\n",
       "      <td>Emily</td>\n",
       "      <td>Intro to Python</td>\n",
       "      <td>Freshman</td>\n",
       "      <td>78.0</td>\n",
       "    </tr>\n",
       "    <tr>\n",
       "      <th>24</th>\n",
       "      <td>Jackson</td>\n",
       "      <td>Intro to Python</td>\n",
       "      <td>Freshman</td>\n",
       "      <td>88.0</td>\n",
       "    </tr>\n",
       "    <tr>\n",
       "      <th>25</th>\n",
       "      <td>Lucas</td>\n",
       "      <td>Intro to Python</td>\n",
       "      <td>Freshman</td>\n",
       "      <td>77.0</td>\n",
       "    </tr>\n",
       "    <tr>\n",
       "      <th>26</th>\n",
       "      <td>David</td>\n",
       "      <td>Intro to Python</td>\n",
       "      <td>Freshman</td>\n",
       "      <td>74.0</td>\n",
       "    </tr>\n",
       "    <tr>\n",
       "      <th>27</th>\n",
       "      <td>Joseph</td>\n",
       "      <td>Intro to Python</td>\n",
       "      <td>Freshman</td>\n",
       "      <td>93.0</td>\n",
       "    </tr>\n",
       "    <tr>\n",
       "      <th>28</th>\n",
       "      <td>Abigail</td>\n",
       "      <td>Intro to Python</td>\n",
       "      <td>Freshman</td>\n",
       "      <td>89.0</td>\n",
       "    </tr>\n",
       "    <tr>\n",
       "      <th>29</th>\n",
       "      <td>Avery</td>\n",
       "      <td>Intro to Python</td>\n",
       "      <td>Freshman</td>\n",
       "      <td>79.0</td>\n",
       "    </tr>\n",
       "    <tr>\n",
       "      <th>30</th>\n",
       "      <td>Anthony</td>\n",
       "      <td>Intro to Python</td>\n",
       "      <td>Freshman</td>\n",
       "      <td>84.0</td>\n",
       "    </tr>\n",
       "    <tr>\n",
       "      <th>31</th>\n",
       "      <td>Dylan</td>\n",
       "      <td>Intro to Python</td>\n",
       "      <td>Freshman</td>\n",
       "      <td>84.0</td>\n",
       "    </tr>\n",
       "    <tr>\n",
       "      <th>32</th>\n",
       "      <td>Andrew</td>\n",
       "      <td>Intro to Python</td>\n",
       "      <td>Freshman</td>\n",
       "      <td>94.0</td>\n",
       "    </tr>\n",
       "    <tr>\n",
       "      <th>33</th>\n",
       "      <td>Carter</td>\n",
       "      <td>Intro to Python</td>\n",
       "      <td>Freshman</td>\n",
       "      <td>95.0</td>\n",
       "    </tr>\n",
       "    <tr>\n",
       "      <th>34</th>\n",
       "      <td>Samuel</td>\n",
       "      <td>Intro to Python</td>\n",
       "      <td>Freshman</td>\n",
       "      <td>83.0</td>\n",
       "    </tr>\n",
       "    <tr>\n",
       "      <th>35</th>\n",
       "      <td>Gabriel</td>\n",
       "      <td>Intro to Python</td>\n",
       "      <td>Freshman</td>\n",
       "      <td>82.0</td>\n",
       "    </tr>\n",
       "    <tr>\n",
       "      <th>36</th>\n",
       "      <td>Joshua</td>\n",
       "      <td>Intro to Python</td>\n",
       "      <td>Freshman</td>\n",
       "      <td>71.0</td>\n",
       "    </tr>\n",
       "    <tr>\n",
       "      <th>37</th>\n",
       "      <td>John</td>\n",
       "      <td>Intro to Python</td>\n",
       "      <td>Freshman</td>\n",
       "      <td>50.0</td>\n",
       "    </tr>\n",
       "  </tbody>\n",
       "</table>\n",
       "</div>"
      ],
      "text/plain": [
       "      Student            Class      Year  Grade\n",
       "12  Alexander  Intro to Python  Freshman   85.0\n",
       "13      Logan  Intro to Python  Freshman   85.0\n",
       "14      James  Intro to Python  Freshman   82.0\n",
       "15     Daniel  Intro to Python  Freshman   85.0\n",
       "16     Elijah  Intro to Python  Freshman   85.0\n",
       "17   Benjamin  Intro to Python  Freshman   81.0\n",
       "18        Mia  Intro to Python  Freshman   80.0\n",
       "19        Mia           Python  Freshman   80.0\n",
       "20     Jayden  Intro to Python  Freshman   82.0\n",
       "21      Aiden  Intro to Python  Freshman   86.0\n",
       "22    Matthew  Intro to Python  Freshman   87.0\n",
       "23      Emily  Intro to Python  Freshman   78.0\n",
       "24    Jackson  Intro to Python  Freshman   88.0\n",
       "25      Lucas  Intro to Python  Freshman   77.0\n",
       "26      David  Intro to Python  Freshman   74.0\n",
       "27     Joseph  Intro to Python  Freshman   93.0\n",
       "28    Abigail  Intro to Python  Freshman   89.0\n",
       "29      Avery  Intro to Python  Freshman   79.0\n",
       "30    Anthony  Intro to Python  Freshman   84.0\n",
       "31      Dylan  Intro to Python  Freshman   84.0\n",
       "32     Andrew  Intro to Python  Freshman   94.0\n",
       "33     Carter  Intro to Python  Freshman   95.0\n",
       "34     Samuel  Intro to Python  Freshman   83.0\n",
       "35    Gabriel  Intro to Python  Freshman   82.0\n",
       "36     Joshua  Intro to Python  Freshman   71.0\n",
       "37       John  Intro to Python  Freshman   50.0"
      ]
     },
     "execution_count": 56,
     "metadata": {},
     "output_type": "execute_result"
    }
   ],
   "source": [
    "df[df.Class.isin(['Intro to Python','Python'])]"
   ]
  },
  {
   "cell_type": "code",
   "execution_count": 57,
   "id": "d06c9fdb-7468-43a0-a881-e632977aabcb",
   "metadata": {},
   "outputs": [
    {
     "data": {
      "text/html": [
       "<div>\n",
       "<style scoped>\n",
       "    .dataframe tbody tr th:only-of-type {\n",
       "        vertical-align: middle;\n",
       "    }\n",
       "\n",
       "    .dataframe tbody tr th {\n",
       "        vertical-align: top;\n",
       "    }\n",
       "\n",
       "    .dataframe thead th {\n",
       "        text-align: right;\n",
       "    }\n",
       "</style>\n",
       "<table border=\"1\" class=\"dataframe\">\n",
       "  <thead>\n",
       "    <tr style=\"text-align: right;\">\n",
       "      <th></th>\n",
       "      <th>Student</th>\n",
       "      <th>Class</th>\n",
       "      <th>Year</th>\n",
       "      <th>Grade</th>\n",
       "    </tr>\n",
       "  </thead>\n",
       "  <tbody>\n",
       "    <tr>\n",
       "      <th>0</th>\n",
       "      <td>Emma</td>\n",
       "      <td>Freshman Seminar</td>\n",
       "      <td>Freshman</td>\n",
       "      <td>86.0</td>\n",
       "    </tr>\n",
       "    <tr>\n",
       "      <th>1</th>\n",
       "      <td>Olivia</td>\n",
       "      <td>Freshman Seminar</td>\n",
       "      <td>Freshman</td>\n",
       "      <td>86.0</td>\n",
       "    </tr>\n",
       "    <tr>\n",
       "      <th>2</th>\n",
       "      <td>Noah</td>\n",
       "      <td>Freshman Seminar</td>\n",
       "      <td>Freshman</td>\n",
       "      <td>86.0</td>\n",
       "    </tr>\n",
       "    <tr>\n",
       "      <th>3</th>\n",
       "      <td>Sophia</td>\n",
       "      <td>Freshman Seminar</td>\n",
       "      <td>Freshman</td>\n",
       "      <td>87.0</td>\n",
       "    </tr>\n",
       "    <tr>\n",
       "      <th>4</th>\n",
       "      <td>Liam</td>\n",
       "      <td>Freshman Seminar</td>\n",
       "      <td>Freshman</td>\n",
       "      <td>90.0</td>\n",
       "    </tr>\n",
       "  </tbody>\n",
       "</table>\n",
       "</div>"
      ],
      "text/plain": [
       "  Student             Class      Year  Grade\n",
       "0    Emma  Freshman Seminar  Freshman   86.0\n",
       "1  Olivia  Freshman Seminar  Freshman   86.0\n",
       "2    Noah  Freshman Seminar  Freshman   86.0\n",
       "3  Sophia  Freshman Seminar  Freshman   87.0\n",
       "4    Liam  Freshman Seminar  Freshman   90.0"
      ]
     },
     "execution_count": 57,
     "metadata": {},
     "output_type": "execute_result"
    }
   ],
   "source": [
    "df.head()"
   ]
  },
  {
   "cell_type": "code",
   "execution_count": 58,
   "id": "5684f701-4b06-4cd8-a960-a584105d8bd9",
   "metadata": {},
   "outputs": [
    {
     "data": {
      "text/plain": [
       "Year\n",
       "Freshman     38\n",
       "Sophomore    24\n",
       "Junior       19\n",
       "Senior        1\n",
       "Name: count, dtype: int64"
      ]
     },
     "execution_count": 58,
     "metadata": {},
     "output_type": "execute_result"
    }
   ],
   "source": [
    "df.Year.value_counts()"
   ]
  },
  {
   "cell_type": "code",
   "execution_count": 59,
   "id": "3b07e157-a220-4c3d-ad30-f05ee370fe27",
   "metadata": {},
   "outputs": [
    {
     "data": {
      "text/plain": [
       "count     82.000000\n",
       "mean      85.550000\n",
       "std       15.443965\n",
       "min       45.000000\n",
       "25%       81.000000\n",
       "50%       85.275000\n",
       "75%       89.750000\n",
       "max      200.000000\n",
       "Name: Grade, dtype: float64"
      ]
     },
     "execution_count": 59,
     "metadata": {},
     "output_type": "execute_result"
    }
   ],
   "source": [
    "df.Grade.describe()"
   ]
  },
  {
   "cell_type": "code",
   "execution_count": 60,
   "id": "e173fce2-909f-48b2-835a-2da497cdddc2",
   "metadata": {},
   "outputs": [
    {
     "data": {
      "text/html": [
       "<div>\n",
       "<style scoped>\n",
       "    .dataframe tbody tr th:only-of-type {\n",
       "        vertical-align: middle;\n",
       "    }\n",
       "\n",
       "    .dataframe tbody tr th {\n",
       "        vertical-align: top;\n",
       "    }\n",
       "\n",
       "    .dataframe thead th {\n",
       "        text-align: right;\n",
       "    }\n",
       "</style>\n",
       "<table border=\"1\" class=\"dataframe\">\n",
       "  <thead>\n",
       "    <tr style=\"text-align: right;\">\n",
       "      <th></th>\n",
       "      <th>Student</th>\n",
       "      <th>Class</th>\n",
       "      <th>Year</th>\n",
       "      <th>Grade</th>\n",
       "    </tr>\n",
       "  </thead>\n",
       "  <tbody>\n",
       "    <tr>\n",
       "      <th>60</th>\n",
       "      <td>Ella</td>\n",
       "      <td>Exploratory Data Analysis</td>\n",
       "      <td>Sophomore</td>\n",
       "      <td>200.0</td>\n",
       "    </tr>\n",
       "  </tbody>\n",
       "</table>\n",
       "</div>"
      ],
      "text/plain": [
       "   Student                      Class       Year  Grade\n",
       "60    Ella  Exploratory Data Analysis  Sophomore  200.0"
      ]
     },
     "execution_count": 60,
     "metadata": {},
     "output_type": "execute_result"
    }
   ],
   "source": [
    "df[df['Grade'] > 100]"
   ]
  },
  {
   "cell_type": "code",
   "execution_count": 61,
   "id": "3c971466-a9e3-4978-a33b-4ef3c2a6fdfd",
   "metadata": {},
   "outputs": [
    {
     "data": {
      "text/plain": [
       "Class\n",
       "Intro to Python              25\n",
       "Intro to SQL                 20\n",
       "Freshman Seminar             12\n",
       "Exploratory Data Analysis    12\n",
       "EDA                          12\n",
       "Python                        1\n",
       "Name: count, dtype: int64"
      ]
     },
     "execution_count": 61,
     "metadata": {},
     "output_type": "execute_result"
    }
   ],
   "source": [
    "    df.Class.value_counts()"
   ]
  },
  {
   "cell_type": "code",
   "execution_count": 62,
   "id": "cacdc504-25e3-466b-bdb4-19ba23cb42de",
   "metadata": {},
   "outputs": [
    {
     "data": {
      "text/plain": [
       "Class\n",
       "Intro to Python              25\n",
       "Exploratory Data Analysis    24\n",
       "Intro to SQL                 20\n",
       "Freshman Seminar             12\n",
       "Python                        1\n",
       "Name: count, dtype: int64"
      ]
     },
     "execution_count": 62,
     "metadata": {},
     "output_type": "execute_result"
    }
   ],
   "source": [
    "import numpy as np\n",
    "df['Class'] = np.where(df['Class'] == 'EDA','Exploratory Data Analysis',df['Class'])\n",
    "df['Class'].value_counts()"
   ]
  },
  {
   "cell_type": "code",
   "execution_count": 63,
   "id": "d952f897-ef27-4df5-8cbb-439600295f6f",
   "metadata": {},
   "outputs": [
    {
     "data": {
      "text/plain": [
       "Class\n",
       "Intro to Python              26\n",
       "Exploratory Data Analysis    24\n",
       "Intro to SQL                 20\n",
       "Freshman Seminar             12\n",
       "Name: count, dtype: int64"
      ]
     },
     "execution_count": 63,
     "metadata": {},
     "output_type": "execute_result"
    }
   ],
   "source": [
    "df['Class'] = np.where(df['Class'] == 'Python','Intro to Python',df['Class'])\n",
    "df['Class'].value_counts()"
   ]
  },
  {
   "cell_type": "code",
   "execution_count": 64,
   "id": "fcd75114-d466-420a-a8d5-771fee284a82",
   "metadata": {},
   "outputs": [
    {
     "data": {
      "text/plain": [
       "count     82.000000\n",
       "mean      84.330488\n",
       "std        8.824663\n",
       "min       45.000000\n",
       "25%       81.000000\n",
       "50%       85.275000\n",
       "75%       89.750000\n",
       "max      100.000000\n",
       "Name: Grade, dtype: float64"
      ]
     },
     "execution_count": 64,
     "metadata": {},
     "output_type": "execute_result"
    }
   ],
   "source": [
    "df['Grade'] = np.where(df['Grade'] > 100,100,df['Grade'])\n",
    "df['Grade'].describe()"
   ]
  },
  {
   "cell_type": "markdown",
   "id": "90a3df77-563d-4f9c-8510-8328848acaee",
   "metadata": {},
   "source": [
    "**Map Values** -> Use .map() to map values from one set of values to another set of values"
   ]
  },
  {
   "cell_type": "code",
   "execution_count": 65,
   "id": "ad05b821-eb12-4189-974a-add77aea16ac",
   "metadata": {},
   "outputs": [],
   "source": [
    "df_grades = pd.read_excel(\"./Data/Student Grades.xlsx\")"
   ]
  },
  {
   "cell_type": "code",
   "execution_count": 66,
   "id": "d29b8771-d5ff-4869-9c64-98776fd4377b",
   "metadata": {},
   "outputs": [
    {
     "data": {
      "text/html": [
       "<div>\n",
       "<style scoped>\n",
       "    .dataframe tbody tr th:only-of-type {\n",
       "        vertical-align: middle;\n",
       "    }\n",
       "\n",
       "    .dataframe tbody tr th {\n",
       "        vertical-align: top;\n",
       "    }\n",
       "\n",
       "    .dataframe thead th {\n",
       "        text-align: right;\n",
       "    }\n",
       "</style>\n",
       "<table border=\"1\" class=\"dataframe\">\n",
       "  <thead>\n",
       "    <tr style=\"text-align: right;\">\n",
       "      <th></th>\n",
       "      <th>Student</th>\n",
       "      <th>Class</th>\n",
       "      <th>Year</th>\n",
       "      <th>Grade</th>\n",
       "    </tr>\n",
       "  </thead>\n",
       "  <tbody>\n",
       "    <tr>\n",
       "      <th>0</th>\n",
       "      <td>Emma</td>\n",
       "      <td>Freshman Seminar</td>\n",
       "      <td>Freshman</td>\n",
       "      <td>86.0</td>\n",
       "    </tr>\n",
       "    <tr>\n",
       "      <th>1</th>\n",
       "      <td>Olivia</td>\n",
       "      <td>Freshman Seminar</td>\n",
       "      <td>Freshman</td>\n",
       "      <td>86.0</td>\n",
       "    </tr>\n",
       "    <tr>\n",
       "      <th>2</th>\n",
       "      <td>Noah</td>\n",
       "      <td>Freshman Seminar</td>\n",
       "      <td>Freshman</td>\n",
       "      <td>86.0</td>\n",
       "    </tr>\n",
       "    <tr>\n",
       "      <th>3</th>\n",
       "      <td>Sophia</td>\n",
       "      <td>Freshman Seminar</td>\n",
       "      <td>Freshman</td>\n",
       "      <td>87.0</td>\n",
       "    </tr>\n",
       "    <tr>\n",
       "      <th>4</th>\n",
       "      <td>Liam</td>\n",
       "      <td>Freshman Seminar</td>\n",
       "      <td>Freshman</td>\n",
       "      <td>90.0</td>\n",
       "    </tr>\n",
       "  </tbody>\n",
       "</table>\n",
       "</div>"
      ],
      "text/plain": [
       "  Student             Class      Year  Grade\n",
       "0    Emma  Freshman Seminar  Freshman   86.0\n",
       "1  Olivia  Freshman Seminar  Freshman   86.0\n",
       "2    Noah  Freshman Seminar  Freshman   86.0\n",
       "3  Sophia  Freshman Seminar  Freshman   87.0\n",
       "4    Liam  Freshman Seminar  Freshman   90.0"
      ]
     },
     "execution_count": 66,
     "metadata": {},
     "output_type": "execute_result"
    }
   ],
   "source": [
    "df_grades.head()"
   ]
  },
  {
   "cell_type": "code",
   "execution_count": 67,
   "id": "5768540e-073d-4631-b9ba-8b9e55562621",
   "metadata": {},
   "outputs": [
    {
     "data": {
      "text/plain": [
       "Class\n",
       "Intro to Python              25\n",
       "Intro to SQL                 20\n",
       "EDA                          13\n",
       "Freshman Seminar             12\n",
       "Exploratory Data Analysis    12\n",
       "Python                        1\n",
       "Name: count, dtype: int64"
      ]
     },
     "execution_count": 67,
     "metadata": {},
     "output_type": "execute_result"
    }
   ],
   "source": [
    "df_grades.Class.value_counts()"
   ]
  },
  {
   "cell_type": "code",
   "execution_count": 68,
   "id": "a3b1d2ef-d701-43ee-8fd6-a33bfc2be914",
   "metadata": {},
   "outputs": [],
   "source": [
    "class_mappings = {\"Intro to Python\":\"Intro to Python\",\n",
    "                 \"Intro to SQL\":\"Intro to SQL\",\n",
    "                  \"EDA\":\"Exploratory Data Analysis\",\n",
    "                  \"Freshman Seminar\":\"Freshman Seminar\",\n",
    "                  \"Exploratory Data Analysis\":\"Exploratory Data Analysis\",\n",
    "                  \"Python\":\"Intro to Python\"\n",
    "                 }"
   ]
  },
  {
   "cell_type": "code",
   "execution_count": 69,
   "id": "1276e3d1-821e-4781-9472-bc9e44916811",
   "metadata": {},
   "outputs": [],
   "source": [
    "df_grades.Class = df_grades.Class.map(class_mappings)"
   ]
  },
  {
   "cell_type": "code",
   "execution_count": 70,
   "id": "04275fcd-d3c5-4887-9011-cf7a2967aefd",
   "metadata": {},
   "outputs": [
    {
     "data": {
      "text/plain": [
       "Class\n",
       "Intro to Python              26\n",
       "Exploratory Data Analysis    25\n",
       "Intro to SQL                 20\n",
       "Freshman Seminar             12\n",
       "NaN                           3\n",
       "Name: count, dtype: int64"
      ]
     },
     "execution_count": 70,
     "metadata": {},
     "output_type": "execute_result"
    }
   ],
   "source": [
    "df_grades.Class.value_counts(dropna=False)"
   ]
  },
  {
   "cell_type": "code",
   "execution_count": 71,
   "id": "19358854-7ebf-463a-ab61-79d40ba78038",
   "metadata": {},
   "outputs": [
    {
     "data": {
      "text/html": [
       "<div>\n",
       "<style scoped>\n",
       "    .dataframe tbody tr th:only-of-type {\n",
       "        vertical-align: middle;\n",
       "    }\n",
       "\n",
       "    .dataframe tbody tr th {\n",
       "        vertical-align: top;\n",
       "    }\n",
       "\n",
       "    .dataframe thead th {\n",
       "        text-align: right;\n",
       "    }\n",
       "</style>\n",
       "<table border=\"1\" class=\"dataframe\">\n",
       "  <thead>\n",
       "    <tr style=\"text-align: right;\">\n",
       "      <th></th>\n",
       "      <th>Name</th>\n",
       "      <th>Run Time</th>\n",
       "      <th>Warm Up Time</th>\n",
       "      <th>Location</th>\n",
       "      <th>Run Date</th>\n",
       "      <th>Race Date</th>\n",
       "      <th>Rain</th>\n",
       "      <th>Fee</th>\n",
       "    </tr>\n",
       "  </thead>\n",
       "  <tbody>\n",
       "    <tr>\n",
       "      <th>0</th>\n",
       "      <td>Alexis</td>\n",
       "      <td>9.2343</td>\n",
       "      <td>3.5</td>\n",
       "      <td>“school”</td>\n",
       "      <td>2023-04-15 12:00:00</td>\n",
       "      <td>2023-06-01</td>\n",
       "      <td>False</td>\n",
       "      <td>0.0</td>\n",
       "    </tr>\n",
       "    <tr>\n",
       "      <th>1</th>\n",
       "      <td>Alexis</td>\n",
       "      <td>10.3842</td>\n",
       "      <td>3.5</td>\n",
       "      <td>School</td>\n",
       "      <td>2023-04-22 12:30:00</td>\n",
       "      <td>2023-06-01</td>\n",
       "      <td>True</td>\n",
       "      <td>0.0</td>\n",
       "    </tr>\n",
       "    <tr>\n",
       "      <th>2</th>\n",
       "      <td>Alexis</td>\n",
       "      <td>8.1209</td>\n",
       "      <td>3.0</td>\n",
       "      <td>“the gym”</td>\n",
       "      <td>2023-05-10 15:00:00</td>\n",
       "      <td>2023-06-01</td>\n",
       "      <td>False</td>\n",
       "      <td>2.5</td>\n",
       "    </tr>\n",
       "    <tr>\n",
       "      <th>3</th>\n",
       "      <td>David</td>\n",
       "      <td>7.2123</td>\n",
       "      <td>2.2</td>\n",
       "      <td>“school”</td>\n",
       "      <td>2023-05-01 15:15:00</td>\n",
       "      <td>2023-06-15</td>\n",
       "      <td>False</td>\n",
       "      <td>0.0</td>\n",
       "    </tr>\n",
       "    <tr>\n",
       "      <th>4</th>\n",
       "      <td>David</td>\n",
       "      <td>6.8342</td>\n",
       "      <td>2.0</td>\n",
       "      <td>“gym”</td>\n",
       "      <td>2023-05-10 16:30:00</td>\n",
       "      <td>2023-06-15</td>\n",
       "      <td>False</td>\n",
       "      <td>2.5</td>\n",
       "    </tr>\n",
       "  </tbody>\n",
       "</table>\n",
       "</div>"
      ],
      "text/plain": [
       "     Name  Run Time  Warm Up Time   Location            Run Date  Race Date  \\\n",
       "0  Alexis    9.2343           3.5   “school” 2023-04-15 12:00:00 2023-06-01   \n",
       "1  Alexis   10.3842           3.5     School 2023-04-22 12:30:00 2023-06-01   \n",
       "2  Alexis    8.1209           3.0  “the gym” 2023-05-10 15:00:00 2023-06-01   \n",
       "3   David    7.2123           2.2   “school” 2023-05-01 15:15:00 2023-06-15   \n",
       "4   David    6.8342           2.0      “gym” 2023-05-10 16:30:00 2023-06-15   \n",
       "\n",
       "    Rain  Fee  \n",
       "0  False  0.0  \n",
       "1   True  0.0  \n",
       "2  False  2.5  \n",
       "3  False  0.0  \n",
       "4  False  2.5  "
      ]
     },
     "execution_count": 71,
     "metadata": {},
     "output_type": "execute_result"
    }
   ],
   "source": [
    "\n",
    "\n",
    "run_times"
   ]
  },
  {
   "cell_type": "code",
   "execution_count": 72,
   "id": "05b4ebda-40ba-4463-a4de-4c684bcdc3d6",
   "metadata": {},
   "outputs": [
    {
     "data": {
      "text/html": [
       "<div>\n",
       "<style scoped>\n",
       "    .dataframe tbody tr th:only-of-type {\n",
       "        vertical-align: middle;\n",
       "    }\n",
       "\n",
       "    .dataframe tbody tr th {\n",
       "        vertical-align: top;\n",
       "    }\n",
       "\n",
       "    .dataframe thead th {\n",
       "        text-align: right;\n",
       "    }\n",
       "</style>\n",
       "<table border=\"1\" class=\"dataframe\">\n",
       "  <thead>\n",
       "    <tr style=\"text-align: right;\">\n",
       "      <th></th>\n",
       "      <th>Name</th>\n",
       "      <th>Run Time</th>\n",
       "      <th>Warm Up Time</th>\n",
       "      <th>Location</th>\n",
       "      <th>Run Date</th>\n",
       "      <th>Race Date</th>\n",
       "      <th>Rain</th>\n",
       "      <th>Fee</th>\n",
       "    </tr>\n",
       "  </thead>\n",
       "  <tbody>\n",
       "    <tr>\n",
       "      <th>0</th>\n",
       "      <td>Alexis</td>\n",
       "      <td>9.2343</td>\n",
       "      <td>3.5</td>\n",
       "      <td>school</td>\n",
       "      <td>2023-04-15 12:00:00</td>\n",
       "      <td>2023-06-01</td>\n",
       "      <td>False</td>\n",
       "      <td>0.0</td>\n",
       "    </tr>\n",
       "    <tr>\n",
       "      <th>1</th>\n",
       "      <td>Alexis</td>\n",
       "      <td>10.3842</td>\n",
       "      <td>3.5</td>\n",
       "      <td>school</td>\n",
       "      <td>2023-04-22 12:30:00</td>\n",
       "      <td>2023-06-01</td>\n",
       "      <td>True</td>\n",
       "      <td>0.0</td>\n",
       "    </tr>\n",
       "    <tr>\n",
       "      <th>2</th>\n",
       "      <td>Alexis</td>\n",
       "      <td>8.1209</td>\n",
       "      <td>3.0</td>\n",
       "      <td>gym</td>\n",
       "      <td>2023-05-10 15:00:00</td>\n",
       "      <td>2023-06-01</td>\n",
       "      <td>False</td>\n",
       "      <td>2.5</td>\n",
       "    </tr>\n",
       "    <tr>\n",
       "      <th>3</th>\n",
       "      <td>David</td>\n",
       "      <td>7.2123</td>\n",
       "      <td>2.2</td>\n",
       "      <td>school</td>\n",
       "      <td>2023-05-01 15:15:00</td>\n",
       "      <td>2023-06-15</td>\n",
       "      <td>False</td>\n",
       "      <td>0.0</td>\n",
       "    </tr>\n",
       "    <tr>\n",
       "      <th>4</th>\n",
       "      <td>David</td>\n",
       "      <td>6.8342</td>\n",
       "      <td>2.0</td>\n",
       "      <td>gym</td>\n",
       "      <td>2023-05-10 16:30:00</td>\n",
       "      <td>2023-06-15</td>\n",
       "      <td>False</td>\n",
       "      <td>2.5</td>\n",
       "    </tr>\n",
       "  </tbody>\n",
       "</table>\n",
       "</div>"
      ],
      "text/plain": [
       "     Name  Run Time  Warm Up Time Location            Run Date  Race Date  \\\n",
       "0  Alexis    9.2343           3.5   school 2023-04-15 12:00:00 2023-06-01   \n",
       "1  Alexis   10.3842           3.5   school 2023-04-22 12:30:00 2023-06-01   \n",
       "2  Alexis    8.1209           3.0      gym 2023-05-10 15:00:00 2023-06-01   \n",
       "3   David    7.2123           2.2   school 2023-05-01 15:15:00 2023-06-15   \n",
       "4   David    6.8342           2.0      gym 2023-05-10 16:30:00 2023-06-15   \n",
       "\n",
       "    Rain  Fee  \n",
       "0  False  0.0  \n",
       "1   True  0.0  \n",
       "2  False  2.5  \n",
       "3  False  0.0  \n",
       "4  False  2.5  "
      ]
     },
     "execution_count": 72,
     "metadata": {},
     "output_type": "execute_result"
    }
   ],
   "source": [
    "run_times['Location'] = run_times['Location'].str.strip('“”').str.lower().str.replace(\"the\",'')\n",
    "run_times.head()"
   ]
  },
  {
   "cell_type": "code",
   "execution_count": 73,
   "id": "c522eed5-6b0c-47f3-af3d-ea1c0f29d420",
   "metadata": {},
   "outputs": [
    {
     "data": {
      "text/plain": [
       "0     False\n",
       "1     False\n",
       "2     False\n",
       "3     False\n",
       "4     False\n",
       "      ...  \n",
       "77    False\n",
       "78    False\n",
       "79    False\n",
       "80    False\n",
       "84    False\n",
       "Length: 82, dtype: bool"
      ]
     },
     "execution_count": 73,
     "metadata": {},
     "output_type": "execute_result"
    }
   ],
   "source": [
    "df.duplicated()"
   ]
  },
  {
   "cell_type": "code",
   "execution_count": 74,
   "id": "23955fbd-2def-4c17-9e74-dd4e8a6650c2",
   "metadata": {},
   "outputs": [
    {
     "data": {
      "text/plain": [
       "np.int64(3)"
      ]
     },
     "execution_count": 74,
     "metadata": {},
     "output_type": "execute_result"
    }
   ],
   "source": [
    "df.duplicated().sum()"
   ]
  },
  {
   "cell_type": "code",
   "execution_count": 75,
   "id": "9ec94f3f-90ab-47d6-bbeb-9a14997830bc",
   "metadata": {},
   "outputs": [
    {
     "data": {
      "text/html": [
       "<div>\n",
       "<style scoped>\n",
       "    .dataframe tbody tr th:only-of-type {\n",
       "        vertical-align: middle;\n",
       "    }\n",
       "\n",
       "    .dataframe tbody tr th {\n",
       "        vertical-align: top;\n",
       "    }\n",
       "\n",
       "    .dataframe thead th {\n",
       "        text-align: right;\n",
       "    }\n",
       "</style>\n",
       "<table border=\"1\" class=\"dataframe\">\n",
       "  <thead>\n",
       "    <tr style=\"text-align: right;\">\n",
       "      <th></th>\n",
       "      <th>Student</th>\n",
       "      <th>Class</th>\n",
       "      <th>Year</th>\n",
       "      <th>Grade</th>\n",
       "    </tr>\n",
       "  </thead>\n",
       "  <tbody>\n",
       "    <tr>\n",
       "      <th>19</th>\n",
       "      <td>Mia</td>\n",
       "      <td>Intro to Python</td>\n",
       "      <td>Freshman</td>\n",
       "      <td>80.0</td>\n",
       "    </tr>\n",
       "    <tr>\n",
       "      <th>43</th>\n",
       "      <td>Isaac</td>\n",
       "      <td>Intro to SQL</td>\n",
       "      <td>Sophomore</td>\n",
       "      <td>96.0</td>\n",
       "    </tr>\n",
       "    <tr>\n",
       "      <th>44</th>\n",
       "      <td>Isaac</td>\n",
       "      <td>Intro to SQL</td>\n",
       "      <td>Sophomore</td>\n",
       "      <td>96.0</td>\n",
       "    </tr>\n",
       "  </tbody>\n",
       "</table>\n",
       "</div>"
      ],
      "text/plain": [
       "   Student            Class       Year  Grade\n",
       "19     Mia  Intro to Python   Freshman   80.0\n",
       "43   Isaac     Intro to SQL  Sophomore   96.0\n",
       "44   Isaac     Intro to SQL  Sophomore   96.0"
      ]
     },
     "execution_count": 75,
     "metadata": {},
     "output_type": "execute_result"
    }
   ],
   "source": [
    "df[df.duplicated()]"
   ]
  },
  {
   "cell_type": "code",
   "execution_count": 76,
   "id": "1c51de5b-1a72-40b2-8347-9c4cd0b46123",
   "metadata": {},
   "outputs": [],
   "source": [
    "df = df.drop_duplicates()"
   ]
  },
  {
   "cell_type": "code",
   "execution_count": 77,
   "id": "3e9fe955-a55e-4b37-a2e8-a9b90b7ccb45",
   "metadata": {},
   "outputs": [
    {
     "data": {
      "text/plain": [
       "np.int64(0)"
      ]
     },
     "execution_count": 77,
     "metadata": {},
     "output_type": "execute_result"
    }
   ],
   "source": [
    "df.duplicated().sum()"
   ]
  },
  {
   "cell_type": "code",
   "execution_count": 78,
   "id": "18ea898b-9f60-4998-b052-41dd6a76ebe2",
   "metadata": {},
   "outputs": [],
   "source": [
    "df.reset_index(drop=True,inplace=True)"
   ]
  },
  {
   "cell_type": "code",
   "execution_count": 79,
   "id": "d26473ab-5564-4fd4-a752-17aba008ae7c",
   "metadata": {},
   "outputs": [
    {
     "data": {
      "text/html": [
       "<div>\n",
       "<style scoped>\n",
       "    .dataframe tbody tr th:only-of-type {\n",
       "        vertical-align: middle;\n",
       "    }\n",
       "\n",
       "    .dataframe tbody tr th {\n",
       "        vertical-align: top;\n",
       "    }\n",
       "\n",
       "    .dataframe thead th {\n",
       "        text-align: right;\n",
       "    }\n",
       "</style>\n",
       "<table border=\"1\" class=\"dataframe\">\n",
       "  <thead>\n",
       "    <tr style=\"text-align: right;\">\n",
       "      <th></th>\n",
       "      <th>Student</th>\n",
       "      <th>Class</th>\n",
       "      <th>Year</th>\n",
       "      <th>Grade</th>\n",
       "    </tr>\n",
       "  </thead>\n",
       "  <tbody>\n",
       "    <tr>\n",
       "      <th>35</th>\n",
       "      <td>Joshua</td>\n",
       "      <td>Intro to Python</td>\n",
       "      <td>Freshman</td>\n",
       "      <td>71.0</td>\n",
       "    </tr>\n",
       "    <tr>\n",
       "      <th>36</th>\n",
       "      <td>John</td>\n",
       "      <td>Intro to Python</td>\n",
       "      <td>Freshman</td>\n",
       "      <td>50.0</td>\n",
       "    </tr>\n",
       "    <tr>\n",
       "      <th>37</th>\n",
       "      <td>Luke</td>\n",
       "      <td>Intro to SQL</td>\n",
       "      <td>Sophomore</td>\n",
       "      <td>76.0</td>\n",
       "    </tr>\n",
       "    <tr>\n",
       "      <th>38</th>\n",
       "      <td>Christopher</td>\n",
       "      <td>Intro to SQL</td>\n",
       "      <td>Sophomore</td>\n",
       "      <td>84.0</td>\n",
       "    </tr>\n",
       "    <tr>\n",
       "      <th>39</th>\n",
       "      <td>Madison</td>\n",
       "      <td>Intro to SQL</td>\n",
       "      <td>Sophomore</td>\n",
       "      <td>71.0</td>\n",
       "    </tr>\n",
       "    <tr>\n",
       "      <th>40</th>\n",
       "      <td>Charlotte</td>\n",
       "      <td>Intro to SQL</td>\n",
       "      <td>Sophomore</td>\n",
       "      <td>92.0</td>\n",
       "    </tr>\n",
       "    <tr>\n",
       "      <th>41</th>\n",
       "      <td>Isaac</td>\n",
       "      <td>Intro to SQL</td>\n",
       "      <td>Sophomore</td>\n",
       "      <td>96.0</td>\n",
       "    </tr>\n",
       "    <tr>\n",
       "      <th>42</th>\n",
       "      <td>Harper</td>\n",
       "      <td>Intro to SQL</td>\n",
       "      <td>Sophomore</td>\n",
       "      <td>93.0</td>\n",
       "    </tr>\n",
       "    <tr>\n",
       "      <th>43</th>\n",
       "      <td>Ryan</td>\n",
       "      <td>Intro to SQL</td>\n",
       "      <td>Sophomore</td>\n",
       "      <td>76.0</td>\n",
       "    </tr>\n",
       "    <tr>\n",
       "      <th>44</th>\n",
       "      <td>Sofia</td>\n",
       "      <td>Intro to SQL</td>\n",
       "      <td>Sophomore</td>\n",
       "      <td>79.0</td>\n",
       "    </tr>\n",
       "    <tr>\n",
       "      <th>45</th>\n",
       "      <td>Elizabeth</td>\n",
       "      <td>Intro to SQL</td>\n",
       "      <td>Sophomore</td>\n",
       "      <td>80.0</td>\n",
       "    </tr>\n",
       "  </tbody>\n",
       "</table>\n",
       "</div>"
      ],
      "text/plain": [
       "        Student            Class       Year  Grade\n",
       "35       Joshua  Intro to Python   Freshman   71.0\n",
       "36         John  Intro to Python   Freshman   50.0\n",
       "37         Luke     Intro to SQL  Sophomore   76.0\n",
       "38  Christopher     Intro to SQL  Sophomore   84.0\n",
       "39      Madison     Intro to SQL  Sophomore   71.0\n",
       "40    Charlotte     Intro to SQL  Sophomore   92.0\n",
       "41        Isaac     Intro to SQL  Sophomore   96.0\n",
       "42       Harper     Intro to SQL  Sophomore   93.0\n",
       "43         Ryan     Intro to SQL  Sophomore   76.0\n",
       "44        Sofia     Intro to SQL  Sophomore   79.0\n",
       "45    Elizabeth     Intro to SQL  Sophomore   80.0"
      ]
     },
     "execution_count": 79,
     "metadata": {},
     "output_type": "execute_result"
    }
   ],
   "source": [
    "df.loc[35:45,::]"
   ]
  },
  {
   "cell_type": "markdown",
   "id": "f7426a77-373d-4ecf-94bd-b6a7ec945b3b",
   "metadata": {},
   "source": [
    "**Outliers**"
   ]
  },
  {
   "cell_type": "code",
   "execution_count": 80,
   "id": "d9d8d482-6e6a-417b-bab2-45cccb78dbb4",
   "metadata": {},
   "outputs": [
    {
     "data": {
      "text/plain": [
       "array([[<Axes: title={'center': 'Grade'}>]], dtype=object)"
      ]
     },
     "execution_count": 80,
     "metadata": {},
     "output_type": "execute_result"
    },
    {
     "data": {
      "image/png": "[encoded data removed]",
      "text/plain": [
       "<Figure size 640x480 with 1 Axes>"
      ]
     },
     "metadata": {},
     "output_type": "display_data"
    }
   ],
   "source": [
    "import seaborn as sns\n",
    "df.hist()"
   ]
  },
  {
   "cell_type": "code",
   "execution_count": 81,
   "id": "107e77f8-4726-4f21-839c-d6f54b835eee",
   "metadata": {},
   "outputs": [
    {
     "data": {
      "text/plain": [
       "np.float64(55.0)"
      ]
     },
     "execution_count": 81,
     "metadata": {},
     "output_type": "execute_result"
    }
   ],
   "source": [
    "df.Grade.max() - df.Grade.min()"
   ]
  },
  {
   "cell_type": "code",
   "execution_count": 82,
   "id": "81ab4455-72e0-4ccf-ba90-5e0aefeb77ac",
   "metadata": {},
   "outputs": [
    {
     "data": {
      "text/plain": [
       "array([[<Axes: title={'center': 'Grade'}>]], dtype=object)"
      ]
     },
     "execution_count": 82,
     "metadata": {},
     "output_type": "execute_result"
    },
    {
     "data": {
      "image/png": "[encoded data removed]",
      "text/plain": [
       "<Figure size 640x480 with 1 Axes>"
      ]
     },
     "metadata": {},
     "output_type": "display_data"
    }
   ],
   "source": [
    "df.hist(bins=155)"
   ]
  },
  {
   "cell_type": "code",
   "execution_count": 83,
   "id": "60fe8d58-e2d3-4654-8cd6-505f1951109b",
   "metadata": {},
   "outputs": [],
   "source": [
    "import seaborn as sns"
   ]
  },
  {
   "cell_type": "code",
   "execution_count": 84,
   "id": "92af798e-d93d-44b4-98b4-3b1ff64aa9e2",
   "metadata": {},
   "outputs": [
    {
     "data": {
      "text/plain": [
       "<Axes: ylabel='Count'>"
      ]
     },
     "execution_count": 84,
     "metadata": {},
     "output_type": "execute_result"
    },
    {
     "data": {
      "image/png": "[encoded data removed]",
      "text/plain": [
       "<Figure size 640x480 with 1 Axes>"
      ]
     },
     "metadata": {},
     "output_type": "display_data"
    }
   ],
   "source": [
    "sns.histplot(df)"
   ]
  },
  {
   "cell_type": "code",
   "execution_count": 85,
   "id": "64c5f906-0414-4d82-83e1-13117c8ec76d",
   "metadata": {},
   "outputs": [
    {
     "data": {
      "text/plain": [
       "<Axes: ylabel='Count'>"
      ]
     },
     "execution_count": 85,
     "metadata": {},
     "output_type": "execute_result"
    },
    {
     "data": {
      "image/png": "[encoded data removed]",
      "text/plain": [
       "<Figure size 640x480 with 1 Axes>"
      ]
     },
     "metadata": {},
     "output_type": "display_data"
    }
   ],
   "source": [
    "sns.histplot(df,binwidth=5)"
   ]
  },
  {
   "cell_type": "code",
   "execution_count": 86,
   "id": "248beac9-3fa1-45b4-b8a9-e311ea3f71c2",
   "metadata": {},
   "outputs": [
    {
     "data": {
      "text/plain": [
       "<Axes: >"
      ]
     },
     "execution_count": 86,
     "metadata": {},
     "output_type": "execute_result"
    },
    {
     "data": {
      "image/png": "[encoded data removed]",
      "text/plain": [
       "<Figure size 640x480 with 1 Axes>"
      ]
     },
     "metadata": {},
     "output_type": "display_data"
    }
   ],
   "source": [
    "sns.boxplot(df)"
   ]
  },
  {
   "cell_type": "code",
   "execution_count": 87,
   "id": "25996139-78c6-44be-8568-bfe10109dcb1",
   "metadata": {},
   "outputs": [],
   "source": [
    "import numpy as np"
   ]
  },
  {
   "cell_type": "code",
   "execution_count": 88,
   "id": "e2beb313-92a2-4d65-aed7-99a8ee46d25f",
   "metadata": {},
   "outputs": [
    {
     "data": {
      "text/plain": [
       "np.float64(81.0)"
      ]
     },
     "execution_count": 88,
     "metadata": {},
     "output_type": "execute_result"
    }
   ],
   "source": [
    "q25,q50,q75 = np.percentile(df.Grade.dropna(),(25,50,75))\n",
    "q25"
   ]
  },
  {
   "cell_type": "code",
   "execution_count": 89,
   "id": "54fbba21-acef-49e6-be85-6b3c9e9b03ec",
   "metadata": {},
   "outputs": [],
   "source": [
    "iqr = q75-q25"
   ]
  },
  {
   "cell_type": "code",
   "execution_count": 90,
   "id": "ee8b5487-13d8-49b0-bfd4-2acd163eed84",
   "metadata": {},
   "outputs": [],
   "source": [
    "min_grade = q25 - 1.5 * iqr\n",
    "max_grade = q75 + 1.5 * iqr"
   ]
  },
  {
   "cell_type": "code",
   "execution_count": 91,
   "id": "ba1d6a66-e313-47ee-8b22-0bdc6fed6da4",
   "metadata": {},
   "outputs": [
    {
     "data": {
      "text/plain": [
       "(np.float64(69.0),\n",
       " np.float64(81.0),\n",
       " np.float64(85.0),\n",
       " np.float64(89.0),\n",
       " np.float64(101.0))"
      ]
     },
     "execution_count": 91,
     "metadata": {},
     "output_type": "execute_result"
    }
   ],
   "source": [
    "min_grade, q25, q50, q75, max_grade"
   ]
  },
  {
   "cell_type": "code",
   "execution_count": 92,
   "id": "c2223a18-ebc5-4661-84cf-615138795f6a",
   "metadata": {},
   "outputs": [],
   "source": [
    "import numpy as np"
   ]
  },
  {
   "cell_type": "code",
   "execution_count": 93,
   "id": "0aff1fee-9807-4eef-bab4-ca069ea5d973",
   "metadata": {},
   "outputs": [
    {
     "data": {
      "text/plain": [
       "(np.float64(84.08987341772152), np.float64(8.723725033779411))"
      ]
     },
     "execution_count": 93,
     "metadata": {},
     "output_type": "execute_result"
    }
   ],
   "source": [
    "mean = np.mean(df.Grade)\n",
    "sd = np.std(df.Grade)\n",
    "\n",
    "mean , sd"
   ]
  },
  {
   "cell_type": "code",
   "execution_count": 94,
   "id": "b38e4c69-a65d-4359-9316-5d54af016ec2",
   "metadata": {},
   "outputs": [
    {
     "data": {
      "text/plain": [
       "[50.0, 45.0]"
      ]
     },
     "execution_count": 94,
     "metadata": {},
     "output_type": "execute_result"
    }
   ],
   "source": [
    "[grade for grade in df.Grade if (grade < mean - 3 * sd) or (grade > mean +  3 *  sd)]"
   ]
  },
  {
   "cell_type": "code",
   "execution_count": 95,
   "id": "2001e52c-e27a-46d5-9b02-af716a46abdd",
   "metadata": {},
   "outputs": [
    {
     "data": {
      "text/html": [
       "<div>\n",
       "<style scoped>\n",
       "    .dataframe tbody tr th:only-of-type {\n",
       "        vertical-align: middle;\n",
       "    }\n",
       "\n",
       "    .dataframe tbody tr th {\n",
       "        vertical-align: top;\n",
       "    }\n",
       "\n",
       "    .dataframe thead th {\n",
       "        text-align: right;\n",
       "    }\n",
       "</style>\n",
       "<table border=\"1\" class=\"dataframe\">\n",
       "  <thead>\n",
       "    <tr style=\"text-align: right;\">\n",
       "      <th></th>\n",
       "      <th>Student</th>\n",
       "      <th>Class</th>\n",
       "      <th>Year</th>\n",
       "      <th>Grade</th>\n",
       "    </tr>\n",
       "  </thead>\n",
       "  <tbody>\n",
       "    <tr>\n",
       "      <th>0</th>\n",
       "      <td>Emma</td>\n",
       "      <td>Freshman Seminar</td>\n",
       "      <td>Freshman</td>\n",
       "      <td>86.0</td>\n",
       "    </tr>\n",
       "    <tr>\n",
       "      <th>1</th>\n",
       "      <td>Olivia</td>\n",
       "      <td>Freshman Seminar</td>\n",
       "      <td>Freshman</td>\n",
       "      <td>86.0</td>\n",
       "    </tr>\n",
       "    <tr>\n",
       "      <th>2</th>\n",
       "      <td>Noah</td>\n",
       "      <td>Freshman Seminar</td>\n",
       "      <td>Freshman</td>\n",
       "      <td>86.0</td>\n",
       "    </tr>\n",
       "    <tr>\n",
       "      <th>3</th>\n",
       "      <td>Sophia</td>\n",
       "      <td>Freshman Seminar</td>\n",
       "      <td>Freshman</td>\n",
       "      <td>87.0</td>\n",
       "    </tr>\n",
       "    <tr>\n",
       "      <th>4</th>\n",
       "      <td>Liam</td>\n",
       "      <td>Freshman Seminar</td>\n",
       "      <td>Freshman</td>\n",
       "      <td>90.0</td>\n",
       "    </tr>\n",
       "  </tbody>\n",
       "</table>\n",
       "</div>"
      ],
      "text/plain": [
       "  Student             Class      Year  Grade\n",
       "0    Emma  Freshman Seminar  Freshman   86.0\n",
       "1  Olivia  Freshman Seminar  Freshman   86.0\n",
       "2    Noah  Freshman Seminar  Freshman   86.0\n",
       "3  Sophia  Freshman Seminar  Freshman   87.0\n",
       "4    Liam  Freshman Seminar  Freshman   90.0"
      ]
     },
     "execution_count": 95,
     "metadata": {},
     "output_type": "execute_result"
    }
   ],
   "source": [
    "df.head()"
   ]
  },
  {
   "cell_type": "code",
   "execution_count": 96,
   "id": "6ce430ee-e345-4b5a-a5c5-c2e3ff5c2be3",
   "metadata": {},
   "outputs": [
    {
     "data": {
      "text/plain": [
       "(79, 4)"
      ]
     },
     "execution_count": 96,
     "metadata": {},
     "output_type": "execute_result"
    }
   ],
   "source": [
    "df.shape"
   ]
  },
  {
   "cell_type": "code",
   "execution_count": 97,
   "id": "b871155b-8d7c-4371-b7a7-bb5fe48b1e6e",
   "metadata": {},
   "outputs": [
    {
     "data": {
      "text/html": [
       "<div>\n",
       "<style scoped>\n",
       "    .dataframe tbody tr th:only-of-type {\n",
       "        vertical-align: middle;\n",
       "    }\n",
       "\n",
       "    .dataframe tbody tr th {\n",
       "        vertical-align: top;\n",
       "    }\n",
       "\n",
       "    .dataframe thead th {\n",
       "        text-align: right;\n",
       "    }\n",
       "</style>\n",
       "<table border=\"1\" class=\"dataframe\">\n",
       "  <thead>\n",
       "    <tr style=\"text-align: right;\">\n",
       "      <th></th>\n",
       "      <th>Student</th>\n",
       "      <th>Class</th>\n",
       "      <th>Year</th>\n",
       "      <th>Grade</th>\n",
       "    </tr>\n",
       "  </thead>\n",
       "  <tbody>\n",
       "    <tr>\n",
       "      <th>36</th>\n",
       "      <td>John</td>\n",
       "      <td>Intro to Python</td>\n",
       "      <td>Freshman</td>\n",
       "      <td>50.0</td>\n",
       "    </tr>\n",
       "    <tr>\n",
       "      <th>53</th>\n",
       "      <td>Wyatt</td>\n",
       "      <td>Intro to SQL</td>\n",
       "      <td>Sophomore</td>\n",
       "      <td>45.0</td>\n",
       "    </tr>\n",
       "  </tbody>\n",
       "</table>\n",
       "</div>"
      ],
      "text/plain": [
       "   Student            Class       Year  Grade\n",
       "36    John  Intro to Python   Freshman   50.0\n",
       "53   Wyatt     Intro to SQL  Sophomore   45.0"
      ]
     },
     "execution_count": 97,
     "metadata": {},
     "output_type": "execute_result"
    }
   ],
   "source": [
    "df[df.Grade < 60]"
   ]
  },
  {
   "cell_type": "code",
   "execution_count": 98,
   "id": "95241865-4555-4680-975d-fa9d197f347e",
   "metadata": {},
   "outputs": [
    {
     "data": {
      "text/html": [
       "<div>\n",
       "<style scoped>\n",
       "    .dataframe tbody tr th:only-of-type {\n",
       "        vertical-align: middle;\n",
       "    }\n",
       "\n",
       "    .dataframe tbody tr th {\n",
       "        vertical-align: top;\n",
       "    }\n",
       "\n",
       "    .dataframe thead th {\n",
       "        text-align: right;\n",
       "    }\n",
       "</style>\n",
       "<table border=\"1\" class=\"dataframe\">\n",
       "  <thead>\n",
       "    <tr style=\"text-align: right;\">\n",
       "      <th></th>\n",
       "      <th>Student</th>\n",
       "      <th>Class</th>\n",
       "      <th>Year</th>\n",
       "      <th>Grade</th>\n",
       "    </tr>\n",
       "  </thead>\n",
       "  <tbody>\n",
       "    <tr>\n",
       "      <th>0</th>\n",
       "      <td>Emma</td>\n",
       "      <td>Freshman Seminar</td>\n",
       "      <td>Freshman</td>\n",
       "      <td>86.00</td>\n",
       "    </tr>\n",
       "    <tr>\n",
       "      <th>1</th>\n",
       "      <td>Olivia</td>\n",
       "      <td>Freshman Seminar</td>\n",
       "      <td>Freshman</td>\n",
       "      <td>86.00</td>\n",
       "    </tr>\n",
       "    <tr>\n",
       "      <th>2</th>\n",
       "      <td>Noah</td>\n",
       "      <td>Freshman Seminar</td>\n",
       "      <td>Freshman</td>\n",
       "      <td>86.00</td>\n",
       "    </tr>\n",
       "    <tr>\n",
       "      <th>3</th>\n",
       "      <td>Sophia</td>\n",
       "      <td>Freshman Seminar</td>\n",
       "      <td>Freshman</td>\n",
       "      <td>87.00</td>\n",
       "    </tr>\n",
       "    <tr>\n",
       "      <th>4</th>\n",
       "      <td>Liam</td>\n",
       "      <td>Freshman Seminar</td>\n",
       "      <td>Freshman</td>\n",
       "      <td>90.00</td>\n",
       "    </tr>\n",
       "    <tr>\n",
       "      <th>...</th>\n",
       "      <td>...</td>\n",
       "      <td>...</td>\n",
       "      <td>...</td>\n",
       "      <td>...</td>\n",
       "    </tr>\n",
       "    <tr>\n",
       "      <th>74</th>\n",
       "      <td>Aaron</td>\n",
       "      <td>Exploratory Data Analysis</td>\n",
       "      <td>Junior</td>\n",
       "      <td>85.00</td>\n",
       "    </tr>\n",
       "    <tr>\n",
       "      <th>75</th>\n",
       "      <td>Charles</td>\n",
       "      <td>Exploratory Data Analysis</td>\n",
       "      <td>Junior</td>\n",
       "      <td>93.00</td>\n",
       "    </tr>\n",
       "    <tr>\n",
       "      <th>76</th>\n",
       "      <td>Connor</td>\n",
       "      <td>Exploratory Data Analysis</td>\n",
       "      <td>Junior</td>\n",
       "      <td>91.00</td>\n",
       "    </tr>\n",
       "    <tr>\n",
       "      <th>77</th>\n",
       "      <td>Riley</td>\n",
       "      <td>Exploratory Data Analysis</td>\n",
       "      <td>Junior</td>\n",
       "      <td>87.00</td>\n",
       "    </tr>\n",
       "    <tr>\n",
       "      <th>78</th>\n",
       "      <td>Gavin</td>\n",
       "      <td>Exploratory Data Analysis</td>\n",
       "      <td>Senior</td>\n",
       "      <td>85.55</td>\n",
       "    </tr>\n",
       "  </tbody>\n",
       "</table>\n",
       "<p>77 rows × 4 columns</p>\n",
       "</div>"
      ],
      "text/plain": [
       "    Student                      Class      Year  Grade\n",
       "0      Emma           Freshman Seminar  Freshman  86.00\n",
       "1    Olivia           Freshman Seminar  Freshman  86.00\n",
       "2      Noah           Freshman Seminar  Freshman  86.00\n",
       "3    Sophia           Freshman Seminar  Freshman  87.00\n",
       "4      Liam           Freshman Seminar  Freshman  90.00\n",
       "..      ...                        ...       ...    ...\n",
       "74    Aaron  Exploratory Data Analysis    Junior  85.00\n",
       "75  Charles  Exploratory Data Analysis    Junior  93.00\n",
       "76   Connor  Exploratory Data Analysis    Junior  91.00\n",
       "77    Riley  Exploratory Data Analysis    Junior  87.00\n",
       "78    Gavin  Exploratory Data Analysis    Senior  85.55\n",
       "\n",
       "[77 rows x 4 columns]"
      ]
     },
     "execution_count": 98,
     "metadata": {},
     "output_type": "execute_result"
    }
   ],
   "source": [
    "df.drop([37,56])"
   ]
  },
  {
   "cell_type": "code",
   "execution_count": 99,
   "id": "5d102656-b29f-4dac-a224-936f4b30870e",
   "metadata": {},
   "outputs": [
    {
     "data": {
      "text/html": [
       "<div>\n",
       "<style scoped>\n",
       "    .dataframe tbody tr th:only-of-type {\n",
       "        vertical-align: middle;\n",
       "    }\n",
       "\n",
       "    .dataframe tbody tr th {\n",
       "        vertical-align: top;\n",
       "    }\n",
       "\n",
       "    .dataframe thead th {\n",
       "        text-align: right;\n",
       "    }\n",
       "</style>\n",
       "<table border=\"1\" class=\"dataframe\">\n",
       "  <thead>\n",
       "    <tr style=\"text-align: right;\">\n",
       "      <th></th>\n",
       "      <th>Student</th>\n",
       "      <th>Class</th>\n",
       "      <th>Year</th>\n",
       "      <th>Grade</th>\n",
       "    </tr>\n",
       "  </thead>\n",
       "  <tbody>\n",
       "    <tr>\n",
       "      <th>0</th>\n",
       "      <td>Emma</td>\n",
       "      <td>Freshman Seminar</td>\n",
       "      <td>Freshman</td>\n",
       "      <td>86.00</td>\n",
       "    </tr>\n",
       "    <tr>\n",
       "      <th>1</th>\n",
       "      <td>Olivia</td>\n",
       "      <td>Freshman Seminar</td>\n",
       "      <td>Freshman</td>\n",
       "      <td>86.00</td>\n",
       "    </tr>\n",
       "    <tr>\n",
       "      <th>2</th>\n",
       "      <td>Noah</td>\n",
       "      <td>Freshman Seminar</td>\n",
       "      <td>Freshman</td>\n",
       "      <td>86.00</td>\n",
       "    </tr>\n",
       "    <tr>\n",
       "      <th>3</th>\n",
       "      <td>Sophia</td>\n",
       "      <td>Freshman Seminar</td>\n",
       "      <td>Freshman</td>\n",
       "      <td>87.00</td>\n",
       "    </tr>\n",
       "    <tr>\n",
       "      <th>4</th>\n",
       "      <td>Liam</td>\n",
       "      <td>Freshman Seminar</td>\n",
       "      <td>Freshman</td>\n",
       "      <td>90.00</td>\n",
       "    </tr>\n",
       "    <tr>\n",
       "      <th>...</th>\n",
       "      <td>...</td>\n",
       "      <td>...</td>\n",
       "      <td>...</td>\n",
       "      <td>...</td>\n",
       "    </tr>\n",
       "    <tr>\n",
       "      <th>74</th>\n",
       "      <td>Aaron</td>\n",
       "      <td>Exploratory Data Analysis</td>\n",
       "      <td>Junior</td>\n",
       "      <td>85.00</td>\n",
       "    </tr>\n",
       "    <tr>\n",
       "      <th>75</th>\n",
       "      <td>Charles</td>\n",
       "      <td>Exploratory Data Analysis</td>\n",
       "      <td>Junior</td>\n",
       "      <td>93.00</td>\n",
       "    </tr>\n",
       "    <tr>\n",
       "      <th>76</th>\n",
       "      <td>Connor</td>\n",
       "      <td>Exploratory Data Analysis</td>\n",
       "      <td>Junior</td>\n",
       "      <td>91.00</td>\n",
       "    </tr>\n",
       "    <tr>\n",
       "      <th>77</th>\n",
       "      <td>Riley</td>\n",
       "      <td>Exploratory Data Analysis</td>\n",
       "      <td>Junior</td>\n",
       "      <td>87.00</td>\n",
       "    </tr>\n",
       "    <tr>\n",
       "      <th>78</th>\n",
       "      <td>Gavin</td>\n",
       "      <td>Exploratory Data Analysis</td>\n",
       "      <td>Senior</td>\n",
       "      <td>85.55</td>\n",
       "    </tr>\n",
       "  </tbody>\n",
       "</table>\n",
       "<p>77 rows × 4 columns</p>\n",
       "</div>"
      ],
      "text/plain": [
       "    Student                      Class      Year  Grade\n",
       "0      Emma           Freshman Seminar  Freshman  86.00\n",
       "1    Olivia           Freshman Seminar  Freshman  86.00\n",
       "2      Noah           Freshman Seminar  Freshman  86.00\n",
       "3    Sophia           Freshman Seminar  Freshman  87.00\n",
       "4      Liam           Freshman Seminar  Freshman  90.00\n",
       "..      ...                        ...       ...    ...\n",
       "74    Aaron  Exploratory Data Analysis    Junior  85.00\n",
       "75  Charles  Exploratory Data Analysis    Junior  93.00\n",
       "76   Connor  Exploratory Data Analysis    Junior  91.00\n",
       "77    Riley  Exploratory Data Analysis    Junior  87.00\n",
       "78    Gavin  Exploratory Data Analysis    Senior  85.55\n",
       "\n",
       "[77 rows x 4 columns]"
      ]
     },
     "execution_count": 99,
     "metadata": {},
     "output_type": "execute_result"
    }
   ],
   "source": [
    "df[df['Grade']>=60]"
   ]
  },
  {
   "cell_type": "code",
   "execution_count": 100,
   "id": "c4e71924-65f7-418b-b47e-048d55b8a4cc",
   "metadata": {},
   "outputs": [
    {
     "data": {
      "text/html": [
       "<div>\n",
       "<style scoped>\n",
       "    .dataframe tbody tr th:only-of-type {\n",
       "        vertical-align: middle;\n",
       "    }\n",
       "\n",
       "    .dataframe tbody tr th {\n",
       "        vertical-align: top;\n",
       "    }\n",
       "\n",
       "    .dataframe thead th {\n",
       "        text-align: right;\n",
       "    }\n",
       "</style>\n",
       "<table border=\"1\" class=\"dataframe\">\n",
       "  <thead>\n",
       "    <tr style=\"text-align: right;\">\n",
       "      <th></th>\n",
       "      <th>Student</th>\n",
       "      <th>Class</th>\n",
       "      <th>Year</th>\n",
       "      <th>Grade</th>\n",
       "    </tr>\n",
       "  </thead>\n",
       "  <tbody>\n",
       "    <tr>\n",
       "      <th>36</th>\n",
       "      <td>John</td>\n",
       "      <td>Intro to Python</td>\n",
       "      <td>Freshman</td>\n",
       "      <td>50.0</td>\n",
       "    </tr>\n",
       "    <tr>\n",
       "      <th>53</th>\n",
       "      <td>Wyatt</td>\n",
       "      <td>Intro to SQL</td>\n",
       "      <td>Sophomore</td>\n",
       "      <td>45.0</td>\n",
       "    </tr>\n",
       "  </tbody>\n",
       "</table>\n",
       "</div>"
      ],
      "text/plain": [
       "   Student            Class       Year  Grade\n",
       "36    John  Intro to Python   Freshman   50.0\n",
       "53   Wyatt     Intro to SQL  Sophomore   45.0"
      ]
     },
     "execution_count": 100,
     "metadata": {},
     "output_type": "execute_result"
    }
   ],
   "source": [
    "df[df.Grade < 60]"
   ]
  },
  {
   "cell_type": "code",
   "execution_count": 101,
   "id": "fc772620-3be9-43cc-b45e-9aa3833a8b3b",
   "metadata": {},
   "outputs": [
    {
     "data": {
      "text/plain": [
       "np.float64(64.0)"
      ]
     },
     "execution_count": 101,
     "metadata": {},
     "output_type": "execute_result"
    }
   ],
   "source": [
    "min_grade = df[df.Grade >= 60]['Grade'].min()\n",
    "min_grade"
   ]
  },
  {
   "cell_type": "code",
   "execution_count": 102,
   "id": "1463c294-4e39-4ba5-8750-6e4034f52617",
   "metadata": {},
   "outputs": [
    {
     "name": "stderr",
     "output_type": "stream",
     "text": [
      "C:\\Users\\hp\\AppData\\Local\\Temp\\ipykernel_11008\\1580689424.py:1: SettingWithCopyWarning: \n",
      "A value is trying to be set on a copy of a slice from a DataFrame.\n",
      "Try using .loc[row_indexer,col_indexer] = value instead\n",
      "\n",
      "See the caveats in the documentation: https://pandas.pydata.org/pandas-docs/stable/user_guide/indexing.html#returning-a-view-versus-a-copy\n",
      "  df.Grade = np.where(df.Grade < 60 , min_grade, df.Grade)\n"
     ]
    },
    {
     "data": {
      "text/plain": [
       "np.float64(76.0)"
      ]
     },
     "execution_count": 102,
     "metadata": {},
     "output_type": "execute_result"
    }
   ],
   "source": [
    "df.Grade = np.where(df.Grade < 60 , min_grade, df.Grade)\n",
    "df.Grade.values[37]"
   ]
  },
  {
   "cell_type": "code",
   "execution_count": 103,
   "id": "ffdf9f98-90d7-45b3-b9f6-120ed36602ef",
   "metadata": {},
   "outputs": [
    {
     "data": {
      "text/html": [
       "<div>\n",
       "<style scoped>\n",
       "    .dataframe tbody tr th:only-of-type {\n",
       "        vertical-align: middle;\n",
       "    }\n",
       "\n",
       "    .dataframe tbody tr th {\n",
       "        vertical-align: top;\n",
       "    }\n",
       "\n",
       "    .dataframe thead th {\n",
       "        text-align: right;\n",
       "    }\n",
       "</style>\n",
       "<table border=\"1\" class=\"dataframe\">\n",
       "  <thead>\n",
       "    <tr style=\"text-align: right;\">\n",
       "      <th></th>\n",
       "      <th>Student</th>\n",
       "      <th>Class</th>\n",
       "      <th>Year</th>\n",
       "      <th>Grade</th>\n",
       "    </tr>\n",
       "  </thead>\n",
       "  <tbody>\n",
       "    <tr>\n",
       "      <th>37</th>\n",
       "      <td>Luke</td>\n",
       "      <td>Intro to SQL</td>\n",
       "      <td>Sophomore</td>\n",
       "      <td>76.0</td>\n",
       "    </tr>\n",
       "    <tr>\n",
       "      <th>56</th>\n",
       "      <td>Jack</td>\n",
       "      <td>Exploratory Data Analysis</td>\n",
       "      <td>Sophomore</td>\n",
       "      <td>84.0</td>\n",
       "    </tr>\n",
       "  </tbody>\n",
       "</table>\n",
       "</div>"
      ],
      "text/plain": [
       "   Student                      Class       Year  Grade\n",
       "37    Luke               Intro to SQL  Sophomore   76.0\n",
       "56    Jack  Exploratory Data Analysis  Sophomore   84.0"
      ]
     },
     "execution_count": 103,
     "metadata": {},
     "output_type": "execute_result"
    }
   ],
   "source": [
    "df.loc[[37,56]]"
   ]
  },
  {
   "cell_type": "code",
   "execution_count": 104,
   "id": "f2a96052-0acf-496e-bdf7-f96d3038f946",
   "metadata": {},
   "outputs": [
    {
     "data": {
      "text/html": [
       "<div>\n",
       "<style scoped>\n",
       "    .dataframe tbody tr th:only-of-type {\n",
       "        vertical-align: middle;\n",
       "    }\n",
       "\n",
       "    .dataframe tbody tr th {\n",
       "        vertical-align: top;\n",
       "    }\n",
       "\n",
       "    .dataframe thead th {\n",
       "        text-align: right;\n",
       "    }\n",
       "</style>\n",
       "<table border=\"1\" class=\"dataframe\">\n",
       "  <thead>\n",
       "    <tr style=\"text-align: right;\">\n",
       "      <th></th>\n",
       "      <th>Student</th>\n",
       "      <th>Class</th>\n",
       "      <th>Year</th>\n",
       "      <th>Grade</th>\n",
       "    </tr>\n",
       "  </thead>\n",
       "  <tbody>\n",
       "    <tr>\n",
       "      <th>36</th>\n",
       "      <td>John</td>\n",
       "      <td>Intro to Python</td>\n",
       "      <td>Freshman</td>\n",
       "      <td>64.0</td>\n",
       "    </tr>\n",
       "  </tbody>\n",
       "</table>\n",
       "</div>"
      ],
      "text/plain": [
       "   Student            Class      Year  Grade\n",
       "36    John  Intro to Python  Freshman   64.0"
      ]
     },
     "execution_count": 104,
     "metadata": {},
     "output_type": "execute_result"
    }
   ],
   "source": [
    "df[df.Student == \"John\"]"
   ]
  },
  {
   "cell_type": "code",
   "execution_count": 105,
   "id": "86b37756-4289-4789-a7c5-9b366cb1e84a",
   "metadata": {},
   "outputs": [],
   "source": [
    "df.loc[37,'Grade'] = 74\n"
   ]
  },
  {
   "cell_type": "code",
   "execution_count": 106,
   "id": "8aab5693-46b1-4e10-82bc-490ab30ebaac",
   "metadata": {},
   "outputs": [
    {
     "data": {
      "text/plain": [
       "Student            Luke\n",
       "Class      Intro to SQL\n",
       "Year          Sophomore\n",
       "Grade              74.0\n",
       "Name: 37, dtype: object"
      ]
     },
     "execution_count": 106,
     "metadata": {},
     "output_type": "execute_result"
    }
   ],
   "source": [
    "df.loc[37]"
   ]
  },
  {
   "cell_type": "markdown",
   "id": "18af606d-232b-433a-83a0-b7bffc8177de",
   "metadata": {},
   "source": [
    "**Steps**"
   ]
  },
  {
   "cell_type": "code",
   "execution_count": 107,
   "id": "298b08c1-cdac-46d2-9a46-f20469b2b89d",
   "metadata": {},
   "outputs": [],
   "source": [
    "## missing values\n",
    "## inconsistent text and typos\n",
    "## duplicate data\n",
    "## outliers"
   ]
  },
  {
   "cell_type": "code",
   "execution_count": 108,
   "id": "3aef79c0-639e-415b-94a3-86d39d711b33",
   "metadata": {},
   "outputs": [
    {
     "name": "stderr",
     "output_type": "stream",
     "text": [
      "C:\\Users\\hp\\AppData\\Local\\Temp\\ipykernel_11008\\3163197976.py:3: SettingWithCopyWarning: \n",
      "A value is trying to be set on a copy of a slice from a DataFrame\n",
      "\n",
      "See the caveats in the documentation: https://pandas.pydata.org/pandas-docs/stable/user_guide/indexing.html#returning-a-view-versus-a-copy\n",
      "  df.dropna(inplace=True)\n"
     ]
    }
   ],
   "source": [
    "## missing values\n",
    "df[df.isna().any(axis=1)]\n",
    "df.dropna(inplace=True)"
   ]
  },
  {
   "cell_type": "code",
   "execution_count": 109,
   "id": "2c04932a-c409-4f8a-a4a8-81d30ee35d0e",
   "metadata": {},
   "outputs": [
    {
     "name": "stderr",
     "output_type": "stream",
     "text": [
      "C:\\Users\\hp\\AppData\\Local\\Temp\\ipykernel_11008\\2084966152.py:3: SettingWithCopyWarning: \n",
      "A value is trying to be set on a copy of a slice from a DataFrame.\n",
      "Try using .loc[row_indexer,col_indexer] = value instead\n",
      "\n",
      "See the caveats in the documentation: https://pandas.pydata.org/pandas-docs/stable/user_guide/indexing.html#returning-a-view-versus-a-copy\n",
      "  df.Class = np.where(df['Class']==\"Python\",\"Intro to Python\",df['Class'])\n",
      "C:\\Users\\hp\\AppData\\Local\\Temp\\ipykernel_11008\\2084966152.py:4: SettingWithCopyWarning: \n",
      "A value is trying to be set on a copy of a slice from a DataFrame.\n",
      "Try using .loc[row_indexer,col_indexer] = value instead\n",
      "\n",
      "See the caveats in the documentation: https://pandas.pydata.org/pandas-docs/stable/user_guide/indexing.html#returning-a-view-versus-a-copy\n",
      "  df.Class = np.where(df['Class']==\"EDA\",\"Exploratory Data Analysis\",df['Class'])\n"
     ]
    },
    {
     "data": {
      "text/plain": [
       "Class\n",
       "Intro to Python              25\n",
       "Exploratory Data Analysis    24\n",
       "Intro to SQL                 18\n",
       "Freshman Seminar             12\n",
       "Name: count, dtype: int64"
      ]
     },
     "execution_count": 109,
     "metadata": {},
     "output_type": "execute_result"
    }
   ],
   "source": [
    "## inconsistent text and typos\n",
    "import numpy as np\n",
    "df.Class = np.where(df['Class']==\"Python\",\"Intro to Python\",df['Class'])\n",
    "df.Class = np.where(df['Class']==\"EDA\",\"Exploratory Data Analysis\",df['Class'])\n",
    "df.Class.value_counts()\n"
   ]
  },
  {
   "cell_type": "code",
   "execution_count": 110,
   "id": "e990e275-6f5a-4ba0-8cde-a1b7860c1c7d",
   "metadata": {},
   "outputs": [],
   "source": [
    "## duplicate data\n",
    "df[df.duplicated()]\n",
    "df = df.drop_duplicates()"
   ]
  },
  {
   "cell_type": "code",
   "execution_count": 111,
   "id": "1db90bef-4d26-4b22-8bdf-8c3574ab0e6e",
   "metadata": {},
   "outputs": [
    {
     "data": {
      "text/html": [
       "<div>\n",
       "<style scoped>\n",
       "    .dataframe tbody tr th:only-of-type {\n",
       "        vertical-align: middle;\n",
       "    }\n",
       "\n",
       "    .dataframe tbody tr th {\n",
       "        vertical-align: top;\n",
       "    }\n",
       "\n",
       "    .dataframe thead th {\n",
       "        text-align: right;\n",
       "    }\n",
       "</style>\n",
       "<table border=\"1\" class=\"dataframe\">\n",
       "  <thead>\n",
       "    <tr style=\"text-align: right;\">\n",
       "      <th></th>\n",
       "      <th>Student</th>\n",
       "      <th>Class</th>\n",
       "      <th>Year</th>\n",
       "      <th>Grade</th>\n",
       "    </tr>\n",
       "  </thead>\n",
       "  <tbody>\n",
       "    <tr>\n",
       "      <th>0</th>\n",
       "      <td>Emma</td>\n",
       "      <td>Freshman Seminar</td>\n",
       "      <td>Freshman</td>\n",
       "      <td>86.0</td>\n",
       "    </tr>\n",
       "    <tr>\n",
       "      <th>1</th>\n",
       "      <td>Olivia</td>\n",
       "      <td>Freshman Seminar</td>\n",
       "      <td>Freshman</td>\n",
       "      <td>86.0</td>\n",
       "    </tr>\n",
       "    <tr>\n",
       "      <th>2</th>\n",
       "      <td>Noah</td>\n",
       "      <td>Freshman Seminar</td>\n",
       "      <td>Freshman</td>\n",
       "      <td>86.0</td>\n",
       "    </tr>\n",
       "    <tr>\n",
       "      <th>3</th>\n",
       "      <td>Sophia</td>\n",
       "      <td>Freshman Seminar</td>\n",
       "      <td>Freshman</td>\n",
       "      <td>87.0</td>\n",
       "    </tr>\n",
       "    <tr>\n",
       "      <th>4</th>\n",
       "      <td>Liam</td>\n",
       "      <td>Freshman Seminar</td>\n",
       "      <td>Freshman</td>\n",
       "      <td>90.0</td>\n",
       "    </tr>\n",
       "  </tbody>\n",
       "</table>\n",
       "</div>"
      ],
      "text/plain": [
       "  Student             Class      Year  Grade\n",
       "0    Emma  Freshman Seminar  Freshman   86.0\n",
       "1  Olivia  Freshman Seminar  Freshman   86.0\n",
       "2    Noah  Freshman Seminar  Freshman   86.0\n",
       "3  Sophia  Freshman Seminar  Freshman   87.0\n",
       "4    Liam  Freshman Seminar  Freshman   90.0"
      ]
     },
     "execution_count": 111,
     "metadata": {},
     "output_type": "execute_result"
    }
   ],
   "source": [
    "## outliers\n",
    "df.head()\n"
   ]
  },
  {
   "cell_type": "code",
   "execution_count": 112,
   "id": "f4d1d66f-e983-476f-8d3c-08fb7e104f7b",
   "metadata": {},
   "outputs": [],
   "source": [
    "df.loc[60,'Grade'] = 100"
   ]
  },
  {
   "cell_type": "code",
   "execution_count": 113,
   "id": "d139f073-b909-46e5-bcba-5d3ece7dc160",
   "metadata": {},
   "outputs": [
    {
     "data": {
      "text/plain": [
       "Student                    Christian\n",
       "Class      Exploratory Data Analysis\n",
       "Year                          Junior\n",
       "Grade                          100.0\n",
       "Name: 60, dtype: object"
      ]
     },
     "execution_count": 113,
     "metadata": {},
     "output_type": "execute_result"
    }
   ],
   "source": [
    "df.loc[60]"
   ]
  },
  {
   "cell_type": "code",
   "execution_count": 114,
   "id": "d9162d8a-86cd-411f-973b-f9eb1a7b6ac7",
   "metadata": {},
   "outputs": [
    {
     "data": {
      "text/plain": [
       "<Axes: ylabel='Count'>"
      ]
     },
     "execution_count": 114,
     "metadata": {},
     "output_type": "execute_result"
    },
    {
     "data": {
      "image/png": "[encoded data removed]",
      "text/plain": [
       "<Figure size 640x480 with 1 Axes>"
      ]
     },
     "metadata": {},
     "output_type": "display_data"
    }
   ],
   "source": [
    "import seaborn as sns\n",
    "sns.histplot(df)"
   ]
  },
  {
   "cell_type": "markdown",
   "id": "90bb9241-b4e9-4e1a-8969-92d5e7266b0e",
   "metadata": {},
   "source": [
    "**Creating a new column**"
   ]
  },
  {
   "cell_type": "markdown",
   "id": "6118769d-6456-427b-8919-eed94299377b",
   "metadata": {},
   "source": [
    "**Calculating Percentages**"
   ]
  },
  {
   "cell_type": "code",
   "execution_count": 115,
   "id": "41a70506-9fbe-43cb-bc26-b8e3ab69ebb4",
   "metadata": {},
   "outputs": [
    {
     "data": {
      "text/html": [
       "<div>\n",
       "<style scoped>\n",
       "    .dataframe tbody tr th:only-of-type {\n",
       "        vertical-align: middle;\n",
       "    }\n",
       "\n",
       "    .dataframe tbody tr th {\n",
       "        vertical-align: top;\n",
       "    }\n",
       "\n",
       "    .dataframe thead th {\n",
       "        text-align: right;\n",
       "    }\n",
       "</style>\n",
       "<table border=\"1\" class=\"dataframe\">\n",
       "  <thead>\n",
       "    <tr style=\"text-align: right;\">\n",
       "      <th></th>\n",
       "      <th>Product_ID</th>\n",
       "      <th>Category</th>\n",
       "      <th>Item</th>\n",
       "      <th>Price_Dollars</th>\n",
       "      <th>Inventory</th>\n",
       "      <th>Last_Updated</th>\n",
       "      <th>Next_Scheduled_Shipment</th>\n",
       "    </tr>\n",
       "  </thead>\n",
       "  <tbody>\n",
       "    <tr>\n",
       "      <th>0</th>\n",
       "      <td>P100010</td>\n",
       "      <td>Produce: Fruit</td>\n",
       "      <td>Apple</td>\n",
       "      <td>1.50</td>\n",
       "      <td>349</td>\n",
       "      <td>2023-06-12 15:35:00</td>\n",
       "      <td>2023-06-15</td>\n",
       "    </tr>\n",
       "    <tr>\n",
       "      <th>1</th>\n",
       "      <td>P100011</td>\n",
       "      <td>Produce: Fruit</td>\n",
       "      <td>Banana</td>\n",
       "      <td>0.40</td>\n",
       "      <td>500</td>\n",
       "      <td>2023-06-12 18:30:00</td>\n",
       "      <td>2023-06-15</td>\n",
       "    </tr>\n",
       "    <tr>\n",
       "      <th>2</th>\n",
       "      <td>P100012</td>\n",
       "      <td>Produce: Fruit</td>\n",
       "      <td>Grapes</td>\n",
       "      <td>4.00</td>\n",
       "      <td>200</td>\n",
       "      <td>2023-06-12 17:22:00</td>\n",
       "      <td>2023-06-15</td>\n",
       "    </tr>\n",
       "    <tr>\n",
       "      <th>3</th>\n",
       "      <td>P100013</td>\n",
       "      <td>Produce: Fruit</td>\n",
       "      <td>Grapefruit</td>\n",
       "      <td>0.99</td>\n",
       "      <td>50</td>\n",
       "      <td>2023-06-12 16:29:00</td>\n",
       "      <td>2023-06-15</td>\n",
       "    </tr>\n",
       "    <tr>\n",
       "      <th>4</th>\n",
       "      <td>P100014</td>\n",
       "      <td>Produce: Fruit</td>\n",
       "      <td>Organic Strawberries</td>\n",
       "      <td>3.99</td>\n",
       "      <td>148</td>\n",
       "      <td>2023-06-12 18:10:00</td>\n",
       "      <td>2023-06-15</td>\n",
       "    </tr>\n",
       "  </tbody>\n",
       "</table>\n",
       "</div>"
      ],
      "text/plain": [
       "  Product_ID        Category                  Item  Price_Dollars  Inventory  \\\n",
       "0    P100010  Produce: Fruit                 Apple           1.50        349   \n",
       "1    P100011  Produce: Fruit                Banana           0.40        500   \n",
       "2    P100012  Produce: Fruit                Grapes           4.00        200   \n",
       "3    P100013  Produce: Fruit            Grapefruit           0.99         50   \n",
       "4    P100014  Produce: Fruit  Organic Strawberries           3.99        148   \n",
       "\n",
       "         Last_Updated Next_Scheduled_Shipment  \n",
       "0 2023-06-12 15:35:00              2023-06-15  \n",
       "1 2023-06-12 18:30:00              2023-06-15  \n",
       "2 2023-06-12 17:22:00              2023-06-15  \n",
       "3 2023-06-12 16:29:00              2023-06-15  \n",
       "4 2023-06-12 18:10:00              2023-06-15  "
      ]
     },
     "execution_count": 115,
     "metadata": {},
     "output_type": "execute_result"
    }
   ],
   "source": [
    "groceries = pd.read_excel(\"./Data/Groceries.xlsx\")\n",
    "groceries.head()"
   ]
  },
  {
   "cell_type": "code",
   "execution_count": 116,
   "id": "f035cdee-ae9c-4936-ba09-f9ff0e6236c3",
   "metadata": {},
   "outputs": [
    {
     "data": {
      "text/html": [
       "<div>\n",
       "<style scoped>\n",
       "    .dataframe tbody tr th:only-of-type {\n",
       "        vertical-align: middle;\n",
       "    }\n",
       "\n",
       "    .dataframe tbody tr th {\n",
       "        vertical-align: top;\n",
       "    }\n",
       "\n",
       "    .dataframe thead th {\n",
       "        text-align: right;\n",
       "    }\n",
       "</style>\n",
       "<table border=\"1\" class=\"dataframe\">\n",
       "  <thead>\n",
       "    <tr style=\"text-align: right;\">\n",
       "      <th></th>\n",
       "      <th>Product_ID</th>\n",
       "      <th>Category</th>\n",
       "      <th>Item</th>\n",
       "      <th>Price_Dollars</th>\n",
       "      <th>Inventory</th>\n",
       "      <th>Last_Updated</th>\n",
       "      <th>Next_Scheduled_Shipment</th>\n",
       "      <th>New Column</th>\n",
       "    </tr>\n",
       "  </thead>\n",
       "  <tbody>\n",
       "    <tr>\n",
       "      <th>0</th>\n",
       "      <td>P100010</td>\n",
       "      <td>Produce: Fruit</td>\n",
       "      <td>Apple</td>\n",
       "      <td>1.50</td>\n",
       "      <td>349</td>\n",
       "      <td>2023-06-12 15:35:00</td>\n",
       "      <td>2023-06-15</td>\n",
       "      <td>1.58</td>\n",
       "    </tr>\n",
       "    <tr>\n",
       "      <th>1</th>\n",
       "      <td>P100011</td>\n",
       "      <td>Produce: Fruit</td>\n",
       "      <td>Banana</td>\n",
       "      <td>0.40</td>\n",
       "      <td>500</td>\n",
       "      <td>2023-06-12 18:30:00</td>\n",
       "      <td>2023-06-15</td>\n",
       "      <td>0.42</td>\n",
       "    </tr>\n",
       "    <tr>\n",
       "      <th>2</th>\n",
       "      <td>P100012</td>\n",
       "      <td>Produce: Fruit</td>\n",
       "      <td>Grapes</td>\n",
       "      <td>4.00</td>\n",
       "      <td>200</td>\n",
       "      <td>2023-06-12 17:22:00</td>\n",
       "      <td>2023-06-15</td>\n",
       "      <td>4.20</td>\n",
       "    </tr>\n",
       "    <tr>\n",
       "      <th>3</th>\n",
       "      <td>P100013</td>\n",
       "      <td>Produce: Fruit</td>\n",
       "      <td>Grapefruit</td>\n",
       "      <td>0.99</td>\n",
       "      <td>50</td>\n",
       "      <td>2023-06-12 16:29:00</td>\n",
       "      <td>2023-06-15</td>\n",
       "      <td>1.04</td>\n",
       "    </tr>\n",
       "    <tr>\n",
       "      <th>4</th>\n",
       "      <td>P100014</td>\n",
       "      <td>Produce: Fruit</td>\n",
       "      <td>Organic Strawberries</td>\n",
       "      <td>3.99</td>\n",
       "      <td>148</td>\n",
       "      <td>2023-06-12 18:10:00</td>\n",
       "      <td>2023-06-15</td>\n",
       "      <td>4.19</td>\n",
       "    </tr>\n",
       "  </tbody>\n",
       "</table>\n",
       "</div>"
      ],
      "text/plain": [
       "  Product_ID        Category                  Item  Price_Dollars  Inventory  \\\n",
       "0    P100010  Produce: Fruit                 Apple           1.50        349   \n",
       "1    P100011  Produce: Fruit                Banana           0.40        500   \n",
       "2    P100012  Produce: Fruit                Grapes           4.00        200   \n",
       "3    P100013  Produce: Fruit            Grapefruit           0.99         50   \n",
       "4    P100014  Produce: Fruit  Organic Strawberries           3.99        148   \n",
       "\n",
       "         Last_Updated Next_Scheduled_Shipment  New Column  \n",
       "0 2023-06-12 15:35:00              2023-06-15        1.58  \n",
       "1 2023-06-12 18:30:00              2023-06-15        0.42  \n",
       "2 2023-06-12 17:22:00              2023-06-15        4.20  \n",
       "3 2023-06-12 16:29:00              2023-06-15        1.04  \n",
       "4 2023-06-12 18:10:00              2023-06-15        4.19  "
      ]
     },
     "execution_count": 116,
     "metadata": {},
     "output_type": "execute_result"
    }
   ],
   "source": [
    "\n",
    "groceries['New Column'] = round(groceries.Price_Dollars * 1.05,2)\n",
    "groceries.head()"
   ]
  },
  {
   "cell_type": "code",
   "execution_count": 117,
   "id": "a0a7de0d-c3c0-475c-b664-e9bbdcc4816a",
   "metadata": {},
   "outputs": [
    {
     "data": {
      "text/html": [
       "<div>\n",
       "<style scoped>\n",
       "    .dataframe tbody tr th:only-of-type {\n",
       "        vertical-align: middle;\n",
       "    }\n",
       "\n",
       "    .dataframe tbody tr th {\n",
       "        vertical-align: top;\n",
       "    }\n",
       "\n",
       "    .dataframe thead th {\n",
       "        text-align: right;\n",
       "    }\n",
       "</style>\n",
       "<table border=\"1\" class=\"dataframe\">\n",
       "  <thead>\n",
       "    <tr style=\"text-align: right;\">\n",
       "      <th></th>\n",
       "      <th>Product_ID</th>\n",
       "      <th>Category</th>\n",
       "      <th>Item</th>\n",
       "      <th>Price_Dollars</th>\n",
       "      <th>Inventory</th>\n",
       "      <th>Last_Updated</th>\n",
       "      <th>Next_Scheduled_Shipment</th>\n",
       "      <th>New Column</th>\n",
       "      <th>Percent Groceries</th>\n",
       "    </tr>\n",
       "  </thead>\n",
       "  <tbody>\n",
       "    <tr>\n",
       "      <th>0</th>\n",
       "      <td>P100010</td>\n",
       "      <td>Produce: Fruit</td>\n",
       "      <td>Apple</td>\n",
       "      <td>1.50</td>\n",
       "      <td>349</td>\n",
       "      <td>2023-06-12 15:35:00</td>\n",
       "      <td>2023-06-15</td>\n",
       "      <td>1.58</td>\n",
       "      <td>7.19</td>\n",
       "    </tr>\n",
       "    <tr>\n",
       "      <th>1</th>\n",
       "      <td>P100011</td>\n",
       "      <td>Produce: Fruit</td>\n",
       "      <td>Banana</td>\n",
       "      <td>0.40</td>\n",
       "      <td>500</td>\n",
       "      <td>2023-06-12 18:30:00</td>\n",
       "      <td>2023-06-15</td>\n",
       "      <td>0.42</td>\n",
       "      <td>10.29</td>\n",
       "    </tr>\n",
       "    <tr>\n",
       "      <th>2</th>\n",
       "      <td>P100012</td>\n",
       "      <td>Produce: Fruit</td>\n",
       "      <td>Grapes</td>\n",
       "      <td>4.00</td>\n",
       "      <td>200</td>\n",
       "      <td>2023-06-12 17:22:00</td>\n",
       "      <td>2023-06-15</td>\n",
       "      <td>4.20</td>\n",
       "      <td>4.12</td>\n",
       "    </tr>\n",
       "    <tr>\n",
       "      <th>3</th>\n",
       "      <td>P100013</td>\n",
       "      <td>Produce: Fruit</td>\n",
       "      <td>Grapefruit</td>\n",
       "      <td>0.99</td>\n",
       "      <td>50</td>\n",
       "      <td>2023-06-12 16:29:00</td>\n",
       "      <td>2023-06-15</td>\n",
       "      <td>1.04</td>\n",
       "      <td>1.03</td>\n",
       "    </tr>\n",
       "    <tr>\n",
       "      <th>4</th>\n",
       "      <td>P100014</td>\n",
       "      <td>Produce: Fruit</td>\n",
       "      <td>Organic Strawberries</td>\n",
       "      <td>3.99</td>\n",
       "      <td>148</td>\n",
       "      <td>2023-06-12 18:10:00</td>\n",
       "      <td>2023-06-15</td>\n",
       "      <td>4.19</td>\n",
       "      <td>3.05</td>\n",
       "    </tr>\n",
       "  </tbody>\n",
       "</table>\n",
       "</div>"
      ],
      "text/plain": [
       "  Product_ID        Category                  Item  Price_Dollars  Inventory  \\\n",
       "0    P100010  Produce: Fruit                 Apple           1.50        349   \n",
       "1    P100011  Produce: Fruit                Banana           0.40        500   \n",
       "2    P100012  Produce: Fruit                Grapes           4.00        200   \n",
       "3    P100013  Produce: Fruit            Grapefruit           0.99         50   \n",
       "4    P100014  Produce: Fruit  Organic Strawberries           3.99        148   \n",
       "\n",
       "         Last_Updated Next_Scheduled_Shipment  New Column  Percent Groceries  \n",
       "0 2023-06-12 15:35:00              2023-06-15        1.58               7.19  \n",
       "1 2023-06-12 18:30:00              2023-06-15        0.42              10.29  \n",
       "2 2023-06-12 17:22:00              2023-06-15        4.20               4.12  \n",
       "3 2023-06-12 16:29:00              2023-06-15        1.04               1.03  \n",
       "4 2023-06-12 18:10:00              2023-06-15        4.19               3.05  "
      ]
     },
     "execution_count": 117,
     "metadata": {},
     "output_type": "execute_result"
    }
   ],
   "source": [
    "groceries['Percent Groceries'] = round((groceries['Inventory']/groceries['Inventory'].sum())*100,2)\n",
    "groceries.head()"
   ]
  },
  {
   "cell_type": "code",
   "execution_count": 118,
   "id": "8919956d-65d4-46a4-b44a-96c973ffb927",
   "metadata": {},
   "outputs": [
    {
     "data": {
      "text/html": [
       "<div>\n",
       "<style scoped>\n",
       "    .dataframe tbody tr th:only-of-type {\n",
       "        vertical-align: middle;\n",
       "    }\n",
       "\n",
       "    .dataframe tbody tr th {\n",
       "        vertical-align: top;\n",
       "    }\n",
       "\n",
       "    .dataframe thead th {\n",
       "        text-align: right;\n",
       "    }\n",
       "</style>\n",
       "<table border=\"1\" class=\"dataframe\">\n",
       "  <thead>\n",
       "    <tr style=\"text-align: right;\">\n",
       "      <th></th>\n",
       "      <th>Product_ID</th>\n",
       "      <th>Category</th>\n",
       "      <th>Item</th>\n",
       "      <th>Price_Dollars</th>\n",
       "      <th>Inventory</th>\n",
       "      <th>Last_Updated</th>\n",
       "      <th>Next_Scheduled_Shipment</th>\n",
       "      <th>New Column</th>\n",
       "      <th>Percent Groceries</th>\n",
       "      <th>Low Inventory</th>\n",
       "    </tr>\n",
       "  </thead>\n",
       "  <tbody>\n",
       "    <tr>\n",
       "      <th>0</th>\n",
       "      <td>P100010</td>\n",
       "      <td>Produce: Fruit</td>\n",
       "      <td>Apple</td>\n",
       "      <td>1.50</td>\n",
       "      <td>349</td>\n",
       "      <td>2023-06-12 15:35:00</td>\n",
       "      <td>2023-06-15</td>\n",
       "      <td>1.58</td>\n",
       "      <td>7.19</td>\n",
       "      <td></td>\n",
       "    </tr>\n",
       "    <tr>\n",
       "      <th>1</th>\n",
       "      <td>P100011</td>\n",
       "      <td>Produce: Fruit</td>\n",
       "      <td>Banana</td>\n",
       "      <td>0.40</td>\n",
       "      <td>500</td>\n",
       "      <td>2023-06-12 18:30:00</td>\n",
       "      <td>2023-06-15</td>\n",
       "      <td>0.42</td>\n",
       "      <td>10.29</td>\n",
       "      <td></td>\n",
       "    </tr>\n",
       "    <tr>\n",
       "      <th>2</th>\n",
       "      <td>P100012</td>\n",
       "      <td>Produce: Fruit</td>\n",
       "      <td>Grapes</td>\n",
       "      <td>4.00</td>\n",
       "      <td>200</td>\n",
       "      <td>2023-06-12 17:22:00</td>\n",
       "      <td>2023-06-15</td>\n",
       "      <td>4.20</td>\n",
       "      <td>4.12</td>\n",
       "      <td></td>\n",
       "    </tr>\n",
       "    <tr>\n",
       "      <th>3</th>\n",
       "      <td>P100013</td>\n",
       "      <td>Produce: Fruit</td>\n",
       "      <td>Grapefruit</td>\n",
       "      <td>0.99</td>\n",
       "      <td>50</td>\n",
       "      <td>2023-06-12 16:29:00</td>\n",
       "      <td>2023-06-15</td>\n",
       "      <td>1.04</td>\n",
       "      <td>1.03</td>\n",
       "      <td></td>\n",
       "    </tr>\n",
       "    <tr>\n",
       "      <th>4</th>\n",
       "      <td>P100014</td>\n",
       "      <td>Produce: Fruit</td>\n",
       "      <td>Organic Strawberries</td>\n",
       "      <td>3.99</td>\n",
       "      <td>148</td>\n",
       "      <td>2023-06-12 18:10:00</td>\n",
       "      <td>2023-06-15</td>\n",
       "      <td>4.19</td>\n",
       "      <td>3.05</td>\n",
       "      <td></td>\n",
       "    </tr>\n",
       "    <tr>\n",
       "      <th>5</th>\n",
       "      <td>P100015</td>\n",
       "      <td>Produce: Fruit</td>\n",
       "      <td>Watermelon</td>\n",
       "      <td>5.99</td>\n",
       "      <td>99</td>\n",
       "      <td>2023-06-12 19:15:00</td>\n",
       "      <td>2023-06-15</td>\n",
       "      <td>6.29</td>\n",
       "      <td>2.04</td>\n",
       "      <td></td>\n",
       "    </tr>\n",
       "    <tr>\n",
       "      <th>6</th>\n",
       "      <td>P100016</td>\n",
       "      <td>Produce: Vegetable</td>\n",
       "      <td>Cabbage</td>\n",
       "      <td>1.78</td>\n",
       "      <td>78</td>\n",
       "      <td>2023-06-12 19:25:00</td>\n",
       "      <td>2023-06-15</td>\n",
       "      <td>1.87</td>\n",
       "      <td>1.61</td>\n",
       "      <td></td>\n",
       "    </tr>\n",
       "    <tr>\n",
       "      <th>7</th>\n",
       "      <td>P100017</td>\n",
       "      <td>Produce: Vegetable</td>\n",
       "      <td>Carrots</td>\n",
       "      <td>2.00</td>\n",
       "      <td>200</td>\n",
       "      <td>2023-06-12 18:05:00</td>\n",
       "      <td>2023-06-15</td>\n",
       "      <td>2.10</td>\n",
       "      <td>4.12</td>\n",
       "      <td></td>\n",
       "    </tr>\n",
       "    <tr>\n",
       "      <th>8</th>\n",
       "      <td>P100018</td>\n",
       "      <td>Produce: Vegetable</td>\n",
       "      <td>Celery</td>\n",
       "      <td>1.99</td>\n",
       "      <td>50</td>\n",
       "      <td>2023-06-12 16:42:00</td>\n",
       "      <td>2023-06-15</td>\n",
       "      <td>2.09</td>\n",
       "      <td>1.03</td>\n",
       "      <td></td>\n",
       "    </tr>\n",
       "    <tr>\n",
       "      <th>9</th>\n",
       "      <td>P100019</td>\n",
       "      <td>Produce: Vegetable</td>\n",
       "      <td>Cucumber</td>\n",
       "      <td>0.99</td>\n",
       "      <td>230</td>\n",
       "      <td>2023-06-12 17:47:00</td>\n",
       "      <td>2023-06-15</td>\n",
       "      <td>1.04</td>\n",
       "      <td>4.74</td>\n",
       "      <td></td>\n",
       "    </tr>\n",
       "    <tr>\n",
       "      <th>10</th>\n",
       "      <td>P100020</td>\n",
       "      <td>Produce: Meat</td>\n",
       "      <td>Beef</td>\n",
       "      <td>8.99</td>\n",
       "      <td>145</td>\n",
       "      <td>2023-06-13 07:00:00</td>\n",
       "      <td>2023-06-17</td>\n",
       "      <td>9.44</td>\n",
       "      <td>2.99</td>\n",
       "      <td></td>\n",
       "    </tr>\n",
       "    <tr>\n",
       "      <th>11</th>\n",
       "      <td>P100021</td>\n",
       "      <td>Produce: Meat</td>\n",
       "      <td>Chicken (Organic)</td>\n",
       "      <td>10.49</td>\n",
       "      <td>284</td>\n",
       "      <td>2023-06-13 07:20:00</td>\n",
       "      <td>2023-06-17</td>\n",
       "      <td>11.01</td>\n",
       "      <td>5.85</td>\n",
       "      <td></td>\n",
       "    </tr>\n",
       "    <tr>\n",
       "      <th>12</th>\n",
       "      <td>P100022</td>\n",
       "      <td>Produce: Meat</td>\n",
       "      <td>Turkey</td>\n",
       "      <td>7.99</td>\n",
       "      <td>188</td>\n",
       "      <td>2023-06-13 07:32:00</td>\n",
       "      <td>2023-06-17</td>\n",
       "      <td>8.39</td>\n",
       "      <td>3.87</td>\n",
       "      <td></td>\n",
       "    </tr>\n",
       "    <tr>\n",
       "      <th>13</th>\n",
       "      <td>P100023</td>\n",
       "      <td>Produce: Dairy</td>\n",
       "      <td>Butter</td>\n",
       "      <td>3.50</td>\n",
       "      <td>400</td>\n",
       "      <td>2023-06-13 08:35:00</td>\n",
       "      <td>2023-06-17</td>\n",
       "      <td>3.68</td>\n",
       "      <td>8.24</td>\n",
       "      <td></td>\n",
       "    </tr>\n",
       "    <tr>\n",
       "      <th>14</th>\n",
       "      <td>P100024</td>\n",
       "      <td>Produce: Dairy</td>\n",
       "      <td>Eggs</td>\n",
       "      <td>3.29</td>\n",
       "      <td>234</td>\n",
       "      <td>2023-06-13 08:54:00</td>\n",
       "      <td>2023-06-17</td>\n",
       "      <td>3.45</td>\n",
       "      <td>4.82</td>\n",
       "      <td></td>\n",
       "    </tr>\n",
       "    <tr>\n",
       "      <th>15</th>\n",
       "      <td>P100025</td>\n",
       "      <td>Produce: Dairy</td>\n",
       "      <td>Milk (Soy)</td>\n",
       "      <td>4.49</td>\n",
       "      <td>32</td>\n",
       "      <td>2023-06-13 08:37:00</td>\n",
       "      <td>2023-06-17</td>\n",
       "      <td>4.71</td>\n",
       "      <td>0.66</td>\n",
       "      <td>low</td>\n",
       "    </tr>\n",
       "    <tr>\n",
       "      <th>16</th>\n",
       "      <td>P100026</td>\n",
       "      <td>Produce: Dairy</td>\n",
       "      <td>Yogurt</td>\n",
       "      <td>1.00</td>\n",
       "      <td>432</td>\n",
       "      <td>2023-06-13 08:41:00</td>\n",
       "      <td>2023-06-17</td>\n",
       "      <td>1.05</td>\n",
       "      <td>8.89</td>\n",
       "      <td></td>\n",
       "    </tr>\n",
       "    <tr>\n",
       "      <th>17</th>\n",
       "      <td>P100027</td>\n",
       "      <td>Pantry: Snacks</td>\n",
       "      <td>Apple Sauce - organic</td>\n",
       "      <td>1.50</td>\n",
       "      <td>27</td>\n",
       "      <td>2023-06-10 12:02:00</td>\n",
       "      <td>2023-06-24</td>\n",
       "      <td>1.58</td>\n",
       "      <td>0.56</td>\n",
       "      <td>low</td>\n",
       "    </tr>\n",
       "    <tr>\n",
       "      <th>18</th>\n",
       "      <td>P100028</td>\n",
       "      <td>Pantry: Snacks</td>\n",
       "      <td>Chips</td>\n",
       "      <td>2.50</td>\n",
       "      <td>365</td>\n",
       "      <td>2023-06-10 12:12:00</td>\n",
       "      <td>2023-06-24</td>\n",
       "      <td>2.62</td>\n",
       "      <td>7.51</td>\n",
       "      <td></td>\n",
       "    </tr>\n",
       "    <tr>\n",
       "      <th>19</th>\n",
       "      <td>P100029</td>\n",
       "      <td>Pantry: Snacks</td>\n",
       "      <td>Cookies (Oatmeal)</td>\n",
       "      <td>5.39</td>\n",
       "      <td>340</td>\n",
       "      <td>2023-06-10 12:24:00</td>\n",
       "      <td>2023-06-24</td>\n",
       "      <td>5.66</td>\n",
       "      <td>7.00</td>\n",
       "      <td></td>\n",
       "    </tr>\n",
       "  </tbody>\n",
       "</table>\n",
       "</div>"
      ],
      "text/plain": [
       "   Product_ID            Category                   Item  Price_Dollars  \\\n",
       "0     P100010      Produce: Fruit                  Apple           1.50   \n",
       "1     P100011      Produce: Fruit                 Banana           0.40   \n",
       "2     P100012      Produce: Fruit                 Grapes           4.00   \n",
       "3     P100013      Produce: Fruit             Grapefruit           0.99   \n",
       "4     P100014      Produce: Fruit   Organic Strawberries           3.99   \n",
       "5     P100015      Produce: Fruit             Watermelon           5.99   \n",
       "6     P100016  Produce: Vegetable                Cabbage           1.78   \n",
       "7     P100017  Produce: Vegetable                Carrots           2.00   \n",
       "8     P100018  Produce: Vegetable                 Celery           1.99   \n",
       "9     P100019  Produce: Vegetable               Cucumber           0.99   \n",
       "10    P100020       Produce: Meat                   Beef           8.99   \n",
       "11    P100021       Produce: Meat      Chicken (Organic)          10.49   \n",
       "12    P100022       Produce: Meat                 Turkey           7.99   \n",
       "13    P100023      Produce: Dairy                 Butter           3.50   \n",
       "14    P100024      Produce: Dairy                   Eggs           3.29   \n",
       "15    P100025      Produce: Dairy             Milk (Soy)           4.49   \n",
       "16    P100026      Produce: Dairy                 Yogurt           1.00   \n",
       "17    P100027      Pantry: Snacks  Apple Sauce - organic           1.50   \n",
       "18    P100028      Pantry: Snacks                  Chips           2.50   \n",
       "19    P100029      Pantry: Snacks      Cookies (Oatmeal)           5.39   \n",
       "\n",
       "    Inventory        Last_Updated Next_Scheduled_Shipment  New Column  \\\n",
       "0         349 2023-06-12 15:35:00              2023-06-15        1.58   \n",
       "1         500 2023-06-12 18:30:00              2023-06-15        0.42   \n",
       "2         200 2023-06-12 17:22:00              2023-06-15        4.20   \n",
       "3          50 2023-06-12 16:29:00              2023-06-15        1.04   \n",
       "4         148 2023-06-12 18:10:00              2023-06-15        4.19   \n",
       "5          99 2023-06-12 19:15:00              2023-06-15        6.29   \n",
       "6          78 2023-06-12 19:25:00              2023-06-15        1.87   \n",
       "7         200 2023-06-12 18:05:00              2023-06-15        2.10   \n",
       "8          50 2023-06-12 16:42:00              2023-06-15        2.09   \n",
       "9         230 2023-06-12 17:47:00              2023-06-15        1.04   \n",
       "10        145 2023-06-13 07:00:00              2023-06-17        9.44   \n",
       "11        284 2023-06-13 07:20:00              2023-06-17       11.01   \n",
       "12        188 2023-06-13 07:32:00              2023-06-17        8.39   \n",
       "13        400 2023-06-13 08:35:00              2023-06-17        3.68   \n",
       "14        234 2023-06-13 08:54:00              2023-06-17        3.45   \n",
       "15         32 2023-06-13 08:37:00              2023-06-17        4.71   \n",
       "16        432 2023-06-13 08:41:00              2023-06-17        1.05   \n",
       "17         27 2023-06-10 12:02:00              2023-06-24        1.58   \n",
       "18        365 2023-06-10 12:12:00              2023-06-24        2.62   \n",
       "19        340 2023-06-10 12:24:00              2023-06-24        5.66   \n",
       "\n",
       "    Percent Groceries Low Inventory  \n",
       "0                7.19                \n",
       "1               10.29                \n",
       "2                4.12                \n",
       "3                1.03                \n",
       "4                3.05                \n",
       "5                2.04                \n",
       "6                1.61                \n",
       "7                4.12                \n",
       "8                1.03                \n",
       "9                4.74                \n",
       "10               2.99                \n",
       "11               5.85                \n",
       "12               3.87                \n",
       "13               8.24                \n",
       "14               4.82                \n",
       "15               0.66           low  \n",
       "16               8.89                \n",
       "17               0.56           low  \n",
       "18               7.51                \n",
       "19               7.00                "
      ]
     },
     "execution_count": 118,
     "metadata": {},
     "output_type": "execute_result"
    }
   ],
   "source": [
    "import numpy as np\n",
    "groceries['Low Inventory'] =  np.where(groceries['Inventory']<50,'low','')\n",
    "groceries.head(20)"
   ]
  },
  {
   "cell_type": "code",
   "execution_count": 119,
   "id": "b794d454-431d-446f-b5da-eebc59d14a4f",
   "metadata": {},
   "outputs": [
    {
     "data": {
      "text/plain": [
       "0     15 hour\n",
       "1     18 hour\n",
       "2     17 hour\n",
       "3     16 hour\n",
       "4     18 hour\n",
       "5     19 hour\n",
       "6     19 hour\n",
       "7     18 hour\n",
       "8     16 hour\n",
       "9     17 hour\n",
       "10     7 hour\n",
       "11     7 hour\n",
       "12     7 hour\n",
       "13     8 hour\n",
       "14     8 hour\n",
       "15     8 hour\n",
       "16     8 hour\n",
       "17    12 hour\n",
       "18    12 hour\n",
       "19    12 hour\n",
       "20    12 hour\n",
       "21    22 hour\n",
       "22    22 hour\n",
       "23    22 hour\n",
       "24    22 hour\n",
       "Name: Last_Updated, dtype: object"
      ]
     },
     "execution_count": 119,
     "metadata": {},
     "output_type": "execute_result"
    }
   ],
   "source": [
    "groceries['Last_Updated'].dt.hour.astype(str) + ' hour'"
   ]
  },
  {
   "cell_type": "code",
   "execution_count": 120,
   "id": "bc0e23fb-0148-4547-8b72-a186748d41d4",
   "metadata": {},
   "outputs": [
    {
     "data": {
      "text/plain": [
       "0     2023 year\n",
       "1     2023 year\n",
       "2     2023 year\n",
       "3     2023 year\n",
       "4     2023 year\n",
       "5     2023 year\n",
       "6     2023 year\n",
       "7     2023 year\n",
       "8     2023 year\n",
       "9     2023 year\n",
       "10    2023 year\n",
       "11    2023 year\n",
       "12    2023 year\n",
       "13    2023 year\n",
       "14    2023 year\n",
       "15    2023 year\n",
       "16    2023 year\n",
       "17    2023 year\n",
       "18    2023 year\n",
       "19    2023 year\n",
       "20    2023 year\n",
       "21    2023 year\n",
       "22    2023 year\n",
       "23    2023 year\n",
       "24    2023 year\n",
       "Name: Last_Updated, dtype: object"
      ]
     },
     "execution_count": 120,
     "metadata": {},
     "output_type": "execute_result"
    }
   ],
   "source": [
    "groceries['Last_Updated'].dt.year.astype(str) + ' year'"
   ]
  },
  {
   "cell_type": "code",
   "execution_count": 121,
   "id": "f8f1051c-b1c1-4589-aec0-64aab2095502",
   "metadata": {},
   "outputs": [
    {
     "data": {
      "text/html": [
       "<div>\n",
       "<style scoped>\n",
       "    .dataframe tbody tr th:only-of-type {\n",
       "        vertical-align: middle;\n",
       "    }\n",
       "\n",
       "    .dataframe tbody tr th {\n",
       "        vertical-align: top;\n",
       "    }\n",
       "\n",
       "    .dataframe thead th {\n",
       "        text-align: right;\n",
       "    }\n",
       "</style>\n",
       "<table border=\"1\" class=\"dataframe\">\n",
       "  <thead>\n",
       "    <tr style=\"text-align: right;\">\n",
       "      <th></th>\n",
       "      <th>Product_ID</th>\n",
       "      <th>Category</th>\n",
       "      <th>Item</th>\n",
       "      <th>Price_Dollars</th>\n",
       "      <th>Inventory</th>\n",
       "      <th>Last_Updated</th>\n",
       "      <th>Next_Scheduled_Shipment</th>\n",
       "      <th>New Column</th>\n",
       "      <th>Percent Groceries</th>\n",
       "      <th>Low Inventory</th>\n",
       "      <th>Shipment Date DOW</th>\n",
       "    </tr>\n",
       "  </thead>\n",
       "  <tbody>\n",
       "    <tr>\n",
       "      <th>0</th>\n",
       "      <td>P100010</td>\n",
       "      <td>Produce: Fruit</td>\n",
       "      <td>Apple</td>\n",
       "      <td>1.50</td>\n",
       "      <td>349</td>\n",
       "      <td>2023-06-12 15:35:00</td>\n",
       "      <td>2023-06-15</td>\n",
       "      <td>1.58</td>\n",
       "      <td>7.19</td>\n",
       "      <td></td>\n",
       "      <td>3</td>\n",
       "    </tr>\n",
       "    <tr>\n",
       "      <th>1</th>\n",
       "      <td>P100011</td>\n",
       "      <td>Produce: Fruit</td>\n",
       "      <td>Banana</td>\n",
       "      <td>0.40</td>\n",
       "      <td>500</td>\n",
       "      <td>2023-06-12 18:30:00</td>\n",
       "      <td>2023-06-15</td>\n",
       "      <td>0.42</td>\n",
       "      <td>10.29</td>\n",
       "      <td></td>\n",
       "      <td>3</td>\n",
       "    </tr>\n",
       "    <tr>\n",
       "      <th>2</th>\n",
       "      <td>P100012</td>\n",
       "      <td>Produce: Fruit</td>\n",
       "      <td>Grapes</td>\n",
       "      <td>4.00</td>\n",
       "      <td>200</td>\n",
       "      <td>2023-06-12 17:22:00</td>\n",
       "      <td>2023-06-15</td>\n",
       "      <td>4.20</td>\n",
       "      <td>4.12</td>\n",
       "      <td></td>\n",
       "      <td>3</td>\n",
       "    </tr>\n",
       "    <tr>\n",
       "      <th>3</th>\n",
       "      <td>P100013</td>\n",
       "      <td>Produce: Fruit</td>\n",
       "      <td>Grapefruit</td>\n",
       "      <td>0.99</td>\n",
       "      <td>50</td>\n",
       "      <td>2023-06-12 16:29:00</td>\n",
       "      <td>2023-06-15</td>\n",
       "      <td>1.04</td>\n",
       "      <td>1.03</td>\n",
       "      <td></td>\n",
       "      <td>3</td>\n",
       "    </tr>\n",
       "    <tr>\n",
       "      <th>4</th>\n",
       "      <td>P100014</td>\n",
       "      <td>Produce: Fruit</td>\n",
       "      <td>Organic Strawberries</td>\n",
       "      <td>3.99</td>\n",
       "      <td>148</td>\n",
       "      <td>2023-06-12 18:10:00</td>\n",
       "      <td>2023-06-15</td>\n",
       "      <td>4.19</td>\n",
       "      <td>3.05</td>\n",
       "      <td></td>\n",
       "      <td>3</td>\n",
       "    </tr>\n",
       "  </tbody>\n",
       "</table>\n",
       "</div>"
      ],
      "text/plain": [
       "  Product_ID        Category                  Item  Price_Dollars  Inventory  \\\n",
       "0    P100010  Produce: Fruit                 Apple           1.50        349   \n",
       "1    P100011  Produce: Fruit                Banana           0.40        500   \n",
       "2    P100012  Produce: Fruit                Grapes           4.00        200   \n",
       "3    P100013  Produce: Fruit            Grapefruit           0.99         50   \n",
       "4    P100014  Produce: Fruit  Organic Strawberries           3.99        148   \n",
       "\n",
       "         Last_Updated Next_Scheduled_Shipment  New Column  Percent Groceries  \\\n",
       "0 2023-06-12 15:35:00              2023-06-15        1.58               7.19   \n",
       "1 2023-06-12 18:30:00              2023-06-15        0.42              10.29   \n",
       "2 2023-06-12 17:22:00              2023-06-15        4.20               4.12   \n",
       "3 2023-06-12 16:29:00              2023-06-15        1.04               1.03   \n",
       "4 2023-06-12 18:10:00              2023-06-15        4.19               3.05   \n",
       "\n",
       "  Low Inventory  Shipment Date DOW  \n",
       "0                                3  \n",
       "1                                3  \n",
       "2                                3  \n",
       "3                                3  \n",
       "4                                3  "
      ]
     },
     "execution_count": 121,
     "metadata": {},
     "output_type": "execute_result"
    }
   ],
   "source": [
    "groceries['Shipment Date DOW'] = groceries.Next_Scheduled_Shipment.dt.dayofweek\n",
    "groceries.head(5)"
   ]
  },
  {
   "cell_type": "code",
   "execution_count": 122,
   "id": "27aa1735-8426-4a59-88ba-87f1077b9e7b",
   "metadata": {},
   "outputs": [
    {
     "data": {
      "text/html": [
       "<div>\n",
       "<style scoped>\n",
       "    .dataframe tbody tr th:only-of-type {\n",
       "        vertical-align: middle;\n",
       "    }\n",
       "\n",
       "    .dataframe tbody tr th {\n",
       "        vertical-align: top;\n",
       "    }\n",
       "\n",
       "    .dataframe thead th {\n",
       "        text-align: right;\n",
       "    }\n",
       "</style>\n",
       "<table border=\"1\" class=\"dataframe\">\n",
       "  <thead>\n",
       "    <tr style=\"text-align: right;\">\n",
       "      <th></th>\n",
       "      <th>Product_ID</th>\n",
       "      <th>Category</th>\n",
       "      <th>Item</th>\n",
       "      <th>Price_Dollars</th>\n",
       "      <th>Inventory</th>\n",
       "      <th>Last_Updated</th>\n",
       "      <th>Next_Scheduled_Shipment</th>\n",
       "      <th>New Column</th>\n",
       "      <th>Percent Groceries</th>\n",
       "      <th>Low Inventory</th>\n",
       "      <th>Shipment Date DOW</th>\n",
       "    </tr>\n",
       "  </thead>\n",
       "  <tbody>\n",
       "    <tr>\n",
       "      <th>0</th>\n",
       "      <td>P100010</td>\n",
       "      <td>Produce: Fruit</td>\n",
       "      <td>Apple</td>\n",
       "      <td>1.50</td>\n",
       "      <td>349</td>\n",
       "      <td>2023-06-12 15:35:00</td>\n",
       "      <td>2023-06-15</td>\n",
       "      <td>1.58</td>\n",
       "      <td>7.19</td>\n",
       "      <td></td>\n",
       "      <td>Thursday</td>\n",
       "    </tr>\n",
       "    <tr>\n",
       "      <th>1</th>\n",
       "      <td>P100011</td>\n",
       "      <td>Produce: Fruit</td>\n",
       "      <td>Banana</td>\n",
       "      <td>0.40</td>\n",
       "      <td>500</td>\n",
       "      <td>2023-06-12 18:30:00</td>\n",
       "      <td>2023-06-15</td>\n",
       "      <td>0.42</td>\n",
       "      <td>10.29</td>\n",
       "      <td></td>\n",
       "      <td>Thursday</td>\n",
       "    </tr>\n",
       "    <tr>\n",
       "      <th>2</th>\n",
       "      <td>P100012</td>\n",
       "      <td>Produce: Fruit</td>\n",
       "      <td>Grapes</td>\n",
       "      <td>4.00</td>\n",
       "      <td>200</td>\n",
       "      <td>2023-06-12 17:22:00</td>\n",
       "      <td>2023-06-15</td>\n",
       "      <td>4.20</td>\n",
       "      <td>4.12</td>\n",
       "      <td></td>\n",
       "      <td>Thursday</td>\n",
       "    </tr>\n",
       "    <tr>\n",
       "      <th>3</th>\n",
       "      <td>P100013</td>\n",
       "      <td>Produce: Fruit</td>\n",
       "      <td>Grapefruit</td>\n",
       "      <td>0.99</td>\n",
       "      <td>50</td>\n",
       "      <td>2023-06-12 16:29:00</td>\n",
       "      <td>2023-06-15</td>\n",
       "      <td>1.04</td>\n",
       "      <td>1.03</td>\n",
       "      <td></td>\n",
       "      <td>Thursday</td>\n",
       "    </tr>\n",
       "    <tr>\n",
       "      <th>4</th>\n",
       "      <td>P100014</td>\n",
       "      <td>Produce: Fruit</td>\n",
       "      <td>Organic Strawberries</td>\n",
       "      <td>3.99</td>\n",
       "      <td>148</td>\n",
       "      <td>2023-06-12 18:10:00</td>\n",
       "      <td>2023-06-15</td>\n",
       "      <td>4.19</td>\n",
       "      <td>3.05</td>\n",
       "      <td></td>\n",
       "      <td>Thursday</td>\n",
       "    </tr>\n",
       "  </tbody>\n",
       "</table>\n",
       "</div>"
      ],
      "text/plain": [
       "  Product_ID        Category                  Item  Price_Dollars  Inventory  \\\n",
       "0    P100010  Produce: Fruit                 Apple           1.50        349   \n",
       "1    P100011  Produce: Fruit                Banana           0.40        500   \n",
       "2    P100012  Produce: Fruit                Grapes           4.00        200   \n",
       "3    P100013  Produce: Fruit            Grapefruit           0.99         50   \n",
       "4    P100014  Produce: Fruit  Organic Strawberries           3.99        148   \n",
       "\n",
       "         Last_Updated Next_Scheduled_Shipment  New Column  Percent Groceries  \\\n",
       "0 2023-06-12 15:35:00              2023-06-15        1.58               7.19   \n",
       "1 2023-06-12 18:30:00              2023-06-15        0.42              10.29   \n",
       "2 2023-06-12 17:22:00              2023-06-15        4.20               4.12   \n",
       "3 2023-06-12 16:29:00              2023-06-15        1.04               1.03   \n",
       "4 2023-06-12 18:10:00              2023-06-15        4.19               3.05   \n",
       "\n",
       "  Low Inventory Shipment Date DOW  \n",
       "0                        Thursday  \n",
       "1                        Thursday  \n",
       "2                        Thursday  \n",
       "3                        Thursday  \n",
       "4                        Thursday  "
      ]
     },
     "execution_count": 122,
     "metadata": {},
     "output_type": "execute_result"
    }
   ],
   "source": [
    "dow_mapping = {\n",
    "    0:\"Monday\",\n",
    "    1:\"Tuesday\",\n",
    "    2:\"Wednesday\",\n",
    "    3:\"Thursday\",\n",
    "    4: \"Friday\",\n",
    "    5:\"Saturday\",\n",
    "    6:\"Sunday\"\n",
    "}\n",
    "groceries['Shipment Date DOW'] = groceries['Shipment Date DOW'].map(dow_mapping)\n",
    "groceries.head()"
   ]
  },
  {
   "cell_type": "code",
   "execution_count": 123,
   "id": "4a2327b9-5ae5-4240-ae6b-758b2c7715bd",
   "metadata": {},
   "outputs": [
    {
     "data": {
      "text/html": [
       "<div>\n",
       "<style scoped>\n",
       "    .dataframe tbody tr th:only-of-type {\n",
       "        vertical-align: middle;\n",
       "    }\n",
       "\n",
       "    .dataframe tbody tr th {\n",
       "        vertical-align: top;\n",
       "    }\n",
       "\n",
       "    .dataframe thead th {\n",
       "        text-align: right;\n",
       "    }\n",
       "</style>\n",
       "<table border=\"1\" class=\"dataframe\">\n",
       "  <thead>\n",
       "    <tr style=\"text-align: right;\">\n",
       "      <th></th>\n",
       "      <th>New_Column_Next_Scheduled_Shipment</th>\n",
       "      <th>Next_Scheduled_Shipment</th>\n",
       "    </tr>\n",
       "  </thead>\n",
       "  <tbody>\n",
       "    <tr>\n",
       "      <th>0</th>\n",
       "      <td>2023-06-16</td>\n",
       "      <td>2023-06-15</td>\n",
       "    </tr>\n",
       "    <tr>\n",
       "      <th>1</th>\n",
       "      <td>2023-06-16</td>\n",
       "      <td>2023-06-15</td>\n",
       "    </tr>\n",
       "    <tr>\n",
       "      <th>2</th>\n",
       "      <td>2023-06-16</td>\n",
       "      <td>2023-06-15</td>\n",
       "    </tr>\n",
       "    <tr>\n",
       "      <th>3</th>\n",
       "      <td>2023-06-16</td>\n",
       "      <td>2023-06-15</td>\n",
       "    </tr>\n",
       "    <tr>\n",
       "      <th>4</th>\n",
       "      <td>2023-06-16</td>\n",
       "      <td>2023-06-15</td>\n",
       "    </tr>\n",
       "  </tbody>\n",
       "</table>\n",
       "</div>"
      ],
      "text/plain": [
       "  New_Column_Next_Scheduled_Shipment Next_Scheduled_Shipment\n",
       "0                         2023-06-16              2023-06-15\n",
       "1                         2023-06-16              2023-06-15\n",
       "2                         2023-06-16              2023-06-15\n",
       "3                         2023-06-16              2023-06-15\n",
       "4                         2023-06-16              2023-06-15"
      ]
     },
     "execution_count": 123,
     "metadata": {},
     "output_type": "execute_result"
    }
   ],
   "source": [
    "## 1 day to the column\n",
    "groceries['New_Column_Next_Scheduled_Shipment'] = groceries.Next_Scheduled_Shipment + pd.to_timedelta(1,unit=\"D\")\n",
    "groceries.loc[:, ['New_Column_Next_Scheduled_Shipment','Next_Scheduled_Shipment']].head()"
   ]
  },
  {
   "cell_type": "code",
   "execution_count": 124,
   "id": "eba4f456-712d-41f1-a363-2c79379ad82a",
   "metadata": {},
   "outputs": [
    {
     "data": {
      "text/html": [
       "<div>\n",
       "<style scoped>\n",
       "    .dataframe tbody tr th:only-of-type {\n",
       "        vertical-align: middle;\n",
       "    }\n",
       "\n",
       "    .dataframe tbody tr th {\n",
       "        vertical-align: top;\n",
       "    }\n",
       "\n",
       "    .dataframe thead th {\n",
       "        text-align: right;\n",
       "    }\n",
       "</style>\n",
       "<table border=\"1\" class=\"dataframe\">\n",
       "  <thead>\n",
       "    <tr style=\"text-align: right;\">\n",
       "      <th></th>\n",
       "      <th>Category</th>\n",
       "      <th>Next_Scheduled_Shipment</th>\n",
       "      <th>New_Column_Next_Scheduled_Shipment</th>\n",
       "    </tr>\n",
       "  </thead>\n",
       "  <tbody>\n",
       "    <tr>\n",
       "      <th>0</th>\n",
       "      <td>Produce: Fruit</td>\n",
       "      <td>2023-06-15</td>\n",
       "      <td>2023-06-16</td>\n",
       "    </tr>\n",
       "    <tr>\n",
       "      <th>1</th>\n",
       "      <td>Produce: Fruit</td>\n",
       "      <td>2023-06-15</td>\n",
       "      <td>2023-06-16</td>\n",
       "    </tr>\n",
       "    <tr>\n",
       "      <th>2</th>\n",
       "      <td>Produce: Fruit</td>\n",
       "      <td>2023-06-15</td>\n",
       "      <td>2023-06-16</td>\n",
       "    </tr>\n",
       "    <tr>\n",
       "      <th>3</th>\n",
       "      <td>Produce: Fruit</td>\n",
       "      <td>2023-06-15</td>\n",
       "      <td>2023-06-16</td>\n",
       "    </tr>\n",
       "    <tr>\n",
       "      <th>4</th>\n",
       "      <td>Produce: Fruit</td>\n",
       "      <td>2023-06-15</td>\n",
       "      <td>2023-06-16</td>\n",
       "    </tr>\n",
       "    <tr>\n",
       "      <th>5</th>\n",
       "      <td>Produce: Fruit</td>\n",
       "      <td>2023-06-15</td>\n",
       "      <td>2023-06-16</td>\n",
       "    </tr>\n",
       "    <tr>\n",
       "      <th>6</th>\n",
       "      <td>Produce: Vegetable</td>\n",
       "      <td>2023-06-15</td>\n",
       "      <td>2023-06-15</td>\n",
       "    </tr>\n",
       "    <tr>\n",
       "      <th>7</th>\n",
       "      <td>Produce: Vegetable</td>\n",
       "      <td>2023-06-15</td>\n",
       "      <td>2023-06-15</td>\n",
       "    </tr>\n",
       "    <tr>\n",
       "      <th>8</th>\n",
       "      <td>Produce: Vegetable</td>\n",
       "      <td>2023-06-15</td>\n",
       "      <td>2023-06-15</td>\n",
       "    </tr>\n",
       "    <tr>\n",
       "      <th>9</th>\n",
       "      <td>Produce: Vegetable</td>\n",
       "      <td>2023-06-15</td>\n",
       "      <td>2023-06-15</td>\n",
       "    </tr>\n",
       "    <tr>\n",
       "      <th>10</th>\n",
       "      <td>Produce: Meat</td>\n",
       "      <td>2023-06-17</td>\n",
       "      <td>2023-06-17</td>\n",
       "    </tr>\n",
       "    <tr>\n",
       "      <th>11</th>\n",
       "      <td>Produce: Meat</td>\n",
       "      <td>2023-06-17</td>\n",
       "      <td>2023-06-17</td>\n",
       "    </tr>\n",
       "    <tr>\n",
       "      <th>12</th>\n",
       "      <td>Produce: Meat</td>\n",
       "      <td>2023-06-17</td>\n",
       "      <td>2023-06-17</td>\n",
       "    </tr>\n",
       "    <tr>\n",
       "      <th>13</th>\n",
       "      <td>Produce: Dairy</td>\n",
       "      <td>2023-06-17</td>\n",
       "      <td>2023-06-17</td>\n",
       "    </tr>\n",
       "    <tr>\n",
       "      <th>14</th>\n",
       "      <td>Produce: Dairy</td>\n",
       "      <td>2023-06-17</td>\n",
       "      <td>2023-06-17</td>\n",
       "    </tr>\n",
       "    <tr>\n",
       "      <th>15</th>\n",
       "      <td>Produce: Dairy</td>\n",
       "      <td>2023-06-17</td>\n",
       "      <td>2023-06-17</td>\n",
       "    </tr>\n",
       "    <tr>\n",
       "      <th>16</th>\n",
       "      <td>Produce: Dairy</td>\n",
       "      <td>2023-06-17</td>\n",
       "      <td>2023-06-17</td>\n",
       "    </tr>\n",
       "    <tr>\n",
       "      <th>17</th>\n",
       "      <td>Pantry: Snacks</td>\n",
       "      <td>2023-06-24</td>\n",
       "      <td>2023-06-24</td>\n",
       "    </tr>\n",
       "    <tr>\n",
       "      <th>18</th>\n",
       "      <td>Pantry: Snacks</td>\n",
       "      <td>2023-06-24</td>\n",
       "      <td>2023-06-24</td>\n",
       "    </tr>\n",
       "    <tr>\n",
       "      <th>19</th>\n",
       "      <td>Pantry: Snacks</td>\n",
       "      <td>2023-06-24</td>\n",
       "      <td>2023-06-24</td>\n",
       "    </tr>\n",
       "    <tr>\n",
       "      <th>20</th>\n",
       "      <td>Pantry: Snacks</td>\n",
       "      <td>2023-06-24</td>\n",
       "      <td>2023-06-24</td>\n",
       "    </tr>\n",
       "    <tr>\n",
       "      <th>21</th>\n",
       "      <td>Frozen: Frozen Snacks</td>\n",
       "      <td>2023-06-28</td>\n",
       "      <td>2023-06-28</td>\n",
       "    </tr>\n",
       "    <tr>\n",
       "      <th>22</th>\n",
       "      <td>Frozen: Frozen Snacks</td>\n",
       "      <td>2023-06-28</td>\n",
       "      <td>2023-06-28</td>\n",
       "    </tr>\n",
       "    <tr>\n",
       "      <th>23</th>\n",
       "      <td>Frozen: Frozen Fruit</td>\n",
       "      <td>2023-06-28</td>\n",
       "      <td>2023-06-28</td>\n",
       "    </tr>\n",
       "    <tr>\n",
       "      <th>24</th>\n",
       "      <td>Frozen: Frozen Fruit</td>\n",
       "      <td>2023-06-28</td>\n",
       "      <td>2023-06-28</td>\n",
       "    </tr>\n",
       "  </tbody>\n",
       "</table>\n",
       "</div>"
      ],
      "text/plain": [
       "                 Category Next_Scheduled_Shipment  \\\n",
       "0          Produce: Fruit              2023-06-15   \n",
       "1          Produce: Fruit              2023-06-15   \n",
       "2          Produce: Fruit              2023-06-15   \n",
       "3          Produce: Fruit              2023-06-15   \n",
       "4          Produce: Fruit              2023-06-15   \n",
       "5          Produce: Fruit              2023-06-15   \n",
       "6      Produce: Vegetable              2023-06-15   \n",
       "7      Produce: Vegetable              2023-06-15   \n",
       "8      Produce: Vegetable              2023-06-15   \n",
       "9      Produce: Vegetable              2023-06-15   \n",
       "10          Produce: Meat              2023-06-17   \n",
       "11          Produce: Meat              2023-06-17   \n",
       "12          Produce: Meat              2023-06-17   \n",
       "13         Produce: Dairy              2023-06-17   \n",
       "14         Produce: Dairy              2023-06-17   \n",
       "15         Produce: Dairy              2023-06-17   \n",
       "16         Produce: Dairy              2023-06-17   \n",
       "17         Pantry: Snacks              2023-06-24   \n",
       "18         Pantry: Snacks              2023-06-24   \n",
       "19         Pantry: Snacks              2023-06-24   \n",
       "20         Pantry: Snacks              2023-06-24   \n",
       "21  Frozen: Frozen Snacks              2023-06-28   \n",
       "22  Frozen: Frozen Snacks              2023-06-28   \n",
       "23   Frozen: Frozen Fruit              2023-06-28   \n",
       "24   Frozen: Frozen Fruit              2023-06-28   \n",
       "\n",
       "   New_Column_Next_Scheduled_Shipment  \n",
       "0                          2023-06-16  \n",
       "1                          2023-06-16  \n",
       "2                          2023-06-16  \n",
       "3                          2023-06-16  \n",
       "4                          2023-06-16  \n",
       "5                          2023-06-16  \n",
       "6                          2023-06-15  \n",
       "7                          2023-06-15  \n",
       "8                          2023-06-15  \n",
       "9                          2023-06-15  \n",
       "10                         2023-06-17  \n",
       "11                         2023-06-17  \n",
       "12                         2023-06-17  \n",
       "13                         2023-06-17  \n",
       "14                         2023-06-17  \n",
       "15                         2023-06-17  \n",
       "16                         2023-06-17  \n",
       "17                         2023-06-24  \n",
       "18                         2023-06-24  \n",
       "19                         2023-06-24  \n",
       "20                         2023-06-24  \n",
       "21                         2023-06-28  \n",
       "22                         2023-06-28  \n",
       "23                         2023-06-28  \n",
       "24                         2023-06-28  "
      ]
     },
     "execution_count": 124,
     "metadata": {},
     "output_type": "execute_result"
    }
   ],
   "source": [
    "groceries['New_Column_Next_Scheduled_Shipment'] = np.where(groceries['Category'] == 'Produce: Fruit', groceries.Next_Scheduled_Shipment + pd.to_timedelta(1,unit=\"D\"), groceries.Next_Scheduled_Shipment)\n",
    "groceries.loc[:,['Category','Next_Scheduled_Shipment','New_Column_Next_Scheduled_Shipment']]"
   ]
  },
  {
   "cell_type": "code",
   "execution_count": 149,
   "id": "f4972f4e-6fe1-4427-9f83-f0240d496ec0",
   "metadata": {},
   "outputs": [
    {
     "data": {
      "text/html": [
       "<div>\n",
       "<style scoped>\n",
       "    .dataframe tbody tr th:only-of-type {\n",
       "        vertical-align: middle;\n",
       "    }\n",
       "\n",
       "    .dataframe tbody tr th {\n",
       "        vertical-align: top;\n",
       "    }\n",
       "\n",
       "    .dataframe thead th {\n",
       "        text-align: right;\n",
       "    }\n",
       "</style>\n",
       "<table border=\"1\" class=\"dataframe\">\n",
       "  <thead>\n",
       "    <tr style=\"text-align: right;\">\n",
       "      <th></th>\n",
       "      <th>Product_ID</th>\n",
       "      <th>Category</th>\n",
       "      <th>Item</th>\n",
       "      <th>Price_Dollars</th>\n",
       "      <th>Inventory</th>\n",
       "      <th>Last_Updated</th>\n",
       "      <th>Next_Scheduled_Shipment</th>\n",
       "      <th>New Column</th>\n",
       "      <th>Percent Groceries</th>\n",
       "      <th>Low Inventory</th>\n",
       "      <th>Shipment Date DOW</th>\n",
       "      <th>New_Column_Next_Scheduled_Shipment</th>\n",
       "      <th>Product_ID_Num</th>\n",
       "      <th>Category Type</th>\n",
       "      <th>Category Name</th>\n",
       "      <th>Organic</th>\n",
       "    </tr>\n",
       "  </thead>\n",
       "  <tbody>\n",
       "    <tr>\n",
       "      <th>0</th>\n",
       "      <td>P100010</td>\n",
       "      <td>Produce: Fruit</td>\n",
       "      <td>Apple</td>\n",
       "      <td>1.50</td>\n",
       "      <td>349</td>\n",
       "      <td>2023-06-12 15:35:00</td>\n",
       "      <td>2023-06-15</td>\n",
       "      <td>1.58</td>\n",
       "      <td>7.19</td>\n",
       "      <td></td>\n",
       "      <td>Thursday</td>\n",
       "      <td>2023-06-16</td>\n",
       "      <td>100010</td>\n",
       "      <td>Produce</td>\n",
       "      <td>Fruit</td>\n",
       "      <td>False</td>\n",
       "    </tr>\n",
       "    <tr>\n",
       "      <th>1</th>\n",
       "      <td>P100011</td>\n",
       "      <td>Produce: Fruit</td>\n",
       "      <td>Banana</td>\n",
       "      <td>0.40</td>\n",
       "      <td>500</td>\n",
       "      <td>2023-06-12 18:30:00</td>\n",
       "      <td>2023-06-15</td>\n",
       "      <td>0.42</td>\n",
       "      <td>10.29</td>\n",
       "      <td></td>\n",
       "      <td>Thursday</td>\n",
       "      <td>2023-06-16</td>\n",
       "      <td>100011</td>\n",
       "      <td>Produce</td>\n",
       "      <td>Fruit</td>\n",
       "      <td>False</td>\n",
       "    </tr>\n",
       "    <tr>\n",
       "      <th>2</th>\n",
       "      <td>P100012</td>\n",
       "      <td>Produce: Fruit</td>\n",
       "      <td>Grapes</td>\n",
       "      <td>4.00</td>\n",
       "      <td>200</td>\n",
       "      <td>2023-06-12 17:22:00</td>\n",
       "      <td>2023-06-15</td>\n",
       "      <td>4.20</td>\n",
       "      <td>4.12</td>\n",
       "      <td></td>\n",
       "      <td>Thursday</td>\n",
       "      <td>2023-06-16</td>\n",
       "      <td>100012</td>\n",
       "      <td>Produce</td>\n",
       "      <td>Fruit</td>\n",
       "      <td>False</td>\n",
       "    </tr>\n",
       "    <tr>\n",
       "      <th>3</th>\n",
       "      <td>P100013</td>\n",
       "      <td>Produce: Fruit</td>\n",
       "      <td>Grapefruit</td>\n",
       "      <td>0.99</td>\n",
       "      <td>50</td>\n",
       "      <td>2023-06-12 16:29:00</td>\n",
       "      <td>2023-06-15</td>\n",
       "      <td>1.04</td>\n",
       "      <td>1.03</td>\n",
       "      <td></td>\n",
       "      <td>Thursday</td>\n",
       "      <td>2023-06-16</td>\n",
       "      <td>100013</td>\n",
       "      <td>Produce</td>\n",
       "      <td>Fruit</td>\n",
       "      <td>False</td>\n",
       "    </tr>\n",
       "    <tr>\n",
       "      <th>4</th>\n",
       "      <td>P100014</td>\n",
       "      <td>Produce: Fruit</td>\n",
       "      <td>Organic Strawberries</td>\n",
       "      <td>3.99</td>\n",
       "      <td>148</td>\n",
       "      <td>2023-06-12 18:10:00</td>\n",
       "      <td>2023-06-15</td>\n",
       "      <td>4.19</td>\n",
       "      <td>3.05</td>\n",
       "      <td></td>\n",
       "      <td>Thursday</td>\n",
       "      <td>2023-06-16</td>\n",
       "      <td>100014</td>\n",
       "      <td>Produce</td>\n",
       "      <td>Fruit</td>\n",
       "      <td>True</td>\n",
       "    </tr>\n",
       "  </tbody>\n",
       "</table>\n",
       "</div>"
      ],
      "text/plain": [
       "  Product_ID        Category                  Item  Price_Dollars  Inventory  \\\n",
       "0    P100010  Produce: Fruit                 Apple           1.50        349   \n",
       "1    P100011  Produce: Fruit                Banana           0.40        500   \n",
       "2    P100012  Produce: Fruit                Grapes           4.00        200   \n",
       "3    P100013  Produce: Fruit            Grapefruit           0.99         50   \n",
       "4    P100014  Produce: Fruit  Organic Strawberries           3.99        148   \n",
       "\n",
       "         Last_Updated Next_Scheduled_Shipment  New Column  Percent Groceries  \\\n",
       "0 2023-06-12 15:35:00              2023-06-15        1.58               7.19   \n",
       "1 2023-06-12 18:30:00              2023-06-15        0.42              10.29   \n",
       "2 2023-06-12 17:22:00              2023-06-15        4.20               4.12   \n",
       "3 2023-06-12 16:29:00              2023-06-15        1.04               1.03   \n",
       "4 2023-06-12 18:10:00              2023-06-15        4.19               3.05   \n",
       "\n",
       "  Low Inventory Shipment Date DOW New_Column_Next_Scheduled_Shipment  \\\n",
       "0                        Thursday                         2023-06-16   \n",
       "1                        Thursday                         2023-06-16   \n",
       "2                        Thursday                         2023-06-16   \n",
       "3                        Thursday                         2023-06-16   \n",
       "4                        Thursday                         2023-06-16   \n",
       "\n",
       "   Product_ID_Num Category Type Category Name  Organic  \n",
       "0          100010       Produce         Fruit    False  \n",
       "1          100011       Produce         Fruit    False  \n",
       "2          100012       Produce         Fruit    False  \n",
       "3          100013       Produce         Fruit    False  \n",
       "4          100014       Produce         Fruit     True  "
      ]
     },
     "execution_count": 149,
     "metadata": {},
     "output_type": "execute_result"
    }
   ],
   "source": [
    " groceries.head()"
   ]
  },
  {
   "cell_type": "code",
   "execution_count": 127,
   "id": "33b55a97-2900-4f15-8695-e006645536b0",
   "metadata": {},
   "outputs": [],
   "source": [
    "groceries['Product_ID_Num']=groceries.Product_ID.str[1:]"
   ]
  },
  {
   "cell_type": "code",
   "execution_count": 146,
   "id": "60c5c052-f4c6-4e9c-b49e-2660c080396c",
   "metadata": {},
   "outputs": [
    {
     "data": {
      "text/plain": [
       "Product_ID                                    object\n",
       "Category                                      object\n",
       "Item                                          object\n",
       "Price_Dollars                                float64\n",
       "Inventory                                      int64\n",
       "Last_Updated                          datetime64[ns]\n",
       "Next_Scheduled_Shipment               datetime64[ns]\n",
       "New Column                                   float64\n",
       "Percent Groceries                            float64\n",
       "Low Inventory                                 object\n",
       "Shipment Date DOW                             object\n",
       "New_Column_Next_Scheduled_Shipment    datetime64[ns]\n",
       "Product_ID_Num                                 int64\n",
       "Category Type                                 object\n",
       "Category Name                                 object\n",
       "Organic                                        int64\n",
       "dtype: object"
      ]
     },
     "execution_count": 146,
     "metadata": {},
     "output_type": "execute_result"
    }
   ],
   "source": [
    "groceries.dtypes"
   ]
  },
  {
   "cell_type": "code",
   "execution_count": 132,
   "id": "238215e2-70e7-4cfe-b499-2e93a4634bf2",
   "metadata": {},
   "outputs": [],
   "source": [
    "groceries['Product_ID_Num']=groceries['Product_ID_Num'].astype(int)"
   ]
  },
  {
   "cell_type": "code",
   "execution_count": 134,
   "id": "e0565fe6-184e-4744-bac7-249f5ea639aa",
   "metadata": {},
   "outputs": [
    {
     "data": {
      "text/plain": [
       "Category\n",
       "Produce: Fruit           6\n",
       "Produce: Vegetable       4\n",
       "Produce: Dairy           4\n",
       "Pantry: Snacks           4\n",
       "Produce: Meat            3\n",
       "Frozen: Frozen Snacks    2\n",
       "Frozen: Frozen Fruit     2\n",
       "Name: count, dtype: int64"
      ]
     },
     "execution_count": 134,
     "metadata": {},
     "output_type": "execute_result"
    }
   ],
   "source": [
    "groceries.Category.value_counts()"
   ]
  },
  {
   "cell_type": "code",
   "execution_count": 136,
   "id": "e400a679-219d-4b0d-9d9b-42b1ff2a8a23",
   "metadata": {},
   "outputs": [
    {
     "data": {
      "text/plain": [
       "[['Produce', ' Fruit'],\n",
       " ['Produce', ' Fruit'],\n",
       " ['Produce', ' Fruit'],\n",
       " ['Produce', ' Fruit'],\n",
       " ['Produce', ' Fruit'],\n",
       " ['Produce', ' Fruit'],\n",
       " ['Produce', ' Vegetable'],\n",
       " ['Produce', ' Vegetable'],\n",
       " ['Produce', ' Vegetable'],\n",
       " ['Produce', ' Vegetable'],\n",
       " ['Produce', ' Meat'],\n",
       " ['Produce', ' Meat'],\n",
       " ['Produce', ' Meat'],\n",
       " ['Produce', ' Dairy'],\n",
       " ['Produce', ' Dairy'],\n",
       " ['Produce', ' Dairy'],\n",
       " ['Produce', ' Dairy'],\n",
       " ['Pantry', ' Snacks'],\n",
       " ['Pantry', ' Snacks'],\n",
       " ['Pantry', ' Snacks'],\n",
       " ['Pantry', ' Snacks'],\n",
       " ['Frozen', ' Frozen Snacks'],\n",
       " ['Frozen', ' Frozen Snacks'],\n",
       " ['Frozen', ' Frozen Fruit'],\n",
       " ['Frozen', ' Frozen Fruit']]"
      ]
     },
     "execution_count": 136,
     "metadata": {},
     "output_type": "execute_result"
    }
   ],
   "source": [
    "groceries.Category.str.split(\":\").to_list()"
   ]
  },
  {
   "cell_type": "code",
   "execution_count": 142,
   "id": "6b99f610-cb3d-4053-8a66-e3a222b3a1e1",
   "metadata": {},
   "outputs": [],
   "source": [
    "groceries[['Category Type','Category Name']] =  pd.DataFrame(groceries.Category.str.split(\":\").to_list())"
   ]
  },
  {
   "cell_type": "code",
   "execution_count": 150,
   "id": "2ada7ee0-6717-4419-a63d-cd1b6f6d371c",
   "metadata": {},
   "outputs": [],
   "source": [
    "groceries['Organic'] =  groceries['Item'].str.lower().str.contains(\"organic\")"
   ]
  },
  {
   "cell_type": "code",
   "execution_count": 151,
   "id": "83b25340-92a3-44cb-8c45-0c7ac68694c8",
   "metadata": {},
   "outputs": [
    {
     "data": {
      "text/html": [
       "<div>\n",
       "<style scoped>\n",
       "    .dataframe tbody tr th:only-of-type {\n",
       "        vertical-align: middle;\n",
       "    }\n",
       "\n",
       "    .dataframe tbody tr th {\n",
       "        vertical-align: top;\n",
       "    }\n",
       "\n",
       "    .dataframe thead th {\n",
       "        text-align: right;\n",
       "    }\n",
       "</style>\n",
       "<table border=\"1\" class=\"dataframe\">\n",
       "  <thead>\n",
       "    <tr style=\"text-align: right;\">\n",
       "      <th></th>\n",
       "      <th>Product_ID</th>\n",
       "      <th>Category</th>\n",
       "      <th>Item</th>\n",
       "      <th>Price_Dollars</th>\n",
       "      <th>Inventory</th>\n",
       "      <th>Last_Updated</th>\n",
       "      <th>Next_Scheduled_Shipment</th>\n",
       "      <th>New Column</th>\n",
       "      <th>Percent Groceries</th>\n",
       "      <th>Low Inventory</th>\n",
       "      <th>Shipment Date DOW</th>\n",
       "      <th>New_Column_Next_Scheduled_Shipment</th>\n",
       "      <th>Product_ID_Num</th>\n",
       "      <th>Category Type</th>\n",
       "      <th>Category Name</th>\n",
       "      <th>Organic</th>\n",
       "    </tr>\n",
       "  </thead>\n",
       "  <tbody>\n",
       "    <tr>\n",
       "      <th>0</th>\n",
       "      <td>P100010</td>\n",
       "      <td>Produce: Fruit</td>\n",
       "      <td>Apple</td>\n",
       "      <td>1.50</td>\n",
       "      <td>349</td>\n",
       "      <td>2023-06-12 15:35:00</td>\n",
       "      <td>2023-06-15</td>\n",
       "      <td>1.58</td>\n",
       "      <td>7.19</td>\n",
       "      <td></td>\n",
       "      <td>Thursday</td>\n",
       "      <td>2023-06-16</td>\n",
       "      <td>100010</td>\n",
       "      <td>Produce</td>\n",
       "      <td>Fruit</td>\n",
       "      <td>False</td>\n",
       "    </tr>\n",
       "    <tr>\n",
       "      <th>1</th>\n",
       "      <td>P100011</td>\n",
       "      <td>Produce: Fruit</td>\n",
       "      <td>Banana</td>\n",
       "      <td>0.40</td>\n",
       "      <td>500</td>\n",
       "      <td>2023-06-12 18:30:00</td>\n",
       "      <td>2023-06-15</td>\n",
       "      <td>0.42</td>\n",
       "      <td>10.29</td>\n",
       "      <td></td>\n",
       "      <td>Thursday</td>\n",
       "      <td>2023-06-16</td>\n",
       "      <td>100011</td>\n",
       "      <td>Produce</td>\n",
       "      <td>Fruit</td>\n",
       "      <td>False</td>\n",
       "    </tr>\n",
       "    <tr>\n",
       "      <th>2</th>\n",
       "      <td>P100012</td>\n",
       "      <td>Produce: Fruit</td>\n",
       "      <td>Grapes</td>\n",
       "      <td>4.00</td>\n",
       "      <td>200</td>\n",
       "      <td>2023-06-12 17:22:00</td>\n",
       "      <td>2023-06-15</td>\n",
       "      <td>4.20</td>\n",
       "      <td>4.12</td>\n",
       "      <td></td>\n",
       "      <td>Thursday</td>\n",
       "      <td>2023-06-16</td>\n",
       "      <td>100012</td>\n",
       "      <td>Produce</td>\n",
       "      <td>Fruit</td>\n",
       "      <td>False</td>\n",
       "    </tr>\n",
       "    <tr>\n",
       "      <th>3</th>\n",
       "      <td>P100013</td>\n",
       "      <td>Produce: Fruit</td>\n",
       "      <td>Grapefruit</td>\n",
       "      <td>0.99</td>\n",
       "      <td>50</td>\n",
       "      <td>2023-06-12 16:29:00</td>\n",
       "      <td>2023-06-15</td>\n",
       "      <td>1.04</td>\n",
       "      <td>1.03</td>\n",
       "      <td></td>\n",
       "      <td>Thursday</td>\n",
       "      <td>2023-06-16</td>\n",
       "      <td>100013</td>\n",
       "      <td>Produce</td>\n",
       "      <td>Fruit</td>\n",
       "      <td>False</td>\n",
       "    </tr>\n",
       "    <tr>\n",
       "      <th>4</th>\n",
       "      <td>P100014</td>\n",
       "      <td>Produce: Fruit</td>\n",
       "      <td>Organic Strawberries</td>\n",
       "      <td>3.99</td>\n",
       "      <td>148</td>\n",
       "      <td>2023-06-12 18:10:00</td>\n",
       "      <td>2023-06-15</td>\n",
       "      <td>4.19</td>\n",
       "      <td>3.05</td>\n",
       "      <td></td>\n",
       "      <td>Thursday</td>\n",
       "      <td>2023-06-16</td>\n",
       "      <td>100014</td>\n",
       "      <td>Produce</td>\n",
       "      <td>Fruit</td>\n",
       "      <td>True</td>\n",
       "    </tr>\n",
       "  </tbody>\n",
       "</table>\n",
       "</div>"
      ],
      "text/plain": [
       "  Product_ID        Category                  Item  Price_Dollars  Inventory  \\\n",
       "0    P100010  Produce: Fruit                 Apple           1.50        349   \n",
       "1    P100011  Produce: Fruit                Banana           0.40        500   \n",
       "2    P100012  Produce: Fruit                Grapes           4.00        200   \n",
       "3    P100013  Produce: Fruit            Grapefruit           0.99         50   \n",
       "4    P100014  Produce: Fruit  Organic Strawberries           3.99        148   \n",
       "\n",
       "         Last_Updated Next_Scheduled_Shipment  New Column  Percent Groceries  \\\n",
       "0 2023-06-12 15:35:00              2023-06-15        1.58               7.19   \n",
       "1 2023-06-12 18:30:00              2023-06-15        0.42              10.29   \n",
       "2 2023-06-12 17:22:00              2023-06-15        4.20               4.12   \n",
       "3 2023-06-12 16:29:00              2023-06-15        1.04               1.03   \n",
       "4 2023-06-12 18:10:00              2023-06-15        4.19               3.05   \n",
       "\n",
       "  Low Inventory Shipment Date DOW New_Column_Next_Scheduled_Shipment  \\\n",
       "0                        Thursday                         2023-06-16   \n",
       "1                        Thursday                         2023-06-16   \n",
       "2                        Thursday                         2023-06-16   \n",
       "3                        Thursday                         2023-06-16   \n",
       "4                        Thursday                         2023-06-16   \n",
       "\n",
       "   Product_ID_Num Category Type Category Name  Organic  \n",
       "0          100010       Produce         Fruit    False  \n",
       "1          100011       Produce         Fruit    False  \n",
       "2          100012       Produce         Fruit    False  \n",
       "3          100013       Produce         Fruit    False  \n",
       "4          100014       Produce         Fruit     True  "
      ]
     },
     "execution_count": 151,
     "metadata": {},
     "output_type": "execute_result"
    }
   ],
   "source": [
    "groceries.head()"
   ]
  },
  {
   "cell_type": "code",
   "execution_count": null,
   "id": "8967fbbd-950f-40d7-b144-c16559adc70e",
   "metadata": {},
   "outputs": [],
   "source": [
    "## reorder columns\n",
    "groceris[['Product_ID','Product_ID_Num','Category','Category Type','Category Name','Item','Organic','Price_Dollars','Inventory','Low Inventory''Last_Updated','']]"
   ]
  },
  {
   "cell_type": "code",
   "execution_count": null,
   "id": "d74e6a80-c426-4629-9dae-b24f36627ed2",
   "metadata": {},
   "outputs": [],
   "source": []
  },
  {
   "cell_type": "code",
   "execution_count": null,
   "id": "7bde070d-1d31-422f-b0b1-1069675c7463",
   "metadata": {},
   "outputs": [],
   "source": []
  },
  {
   "cell_type": "code",
   "execution_count": null,
   "id": "b0465d6b-8a05-4bb9-a4ed-494289976963",
   "metadata": {},
   "outputs": [],
   "source": []
  },
  {
   "cell_type": "code",
   "execution_count": null,
   "id": "1eaf3892-45c0-4f9d-bc67-f83ec51ecde3",
   "metadata": {},
   "outputs": [],
   "source": []
  },
  {
   "cell_type": "code",
   "execution_count": null,
   "id": "b409153b-5c43-4141-9a9c-cd3e47339746",
   "metadata": {},
   "outputs": [],
   "source": []
  },
  {
   "cell_type": "code",
   "execution_count": null,
   "id": "0fc2cb06-5f49-4a36-9137-7f9d807a509a",
   "metadata": {},
   "outputs": [],
   "source": []
  },
  {
   "cell_type": "code",
   "execution_count": null,
   "id": "77235108-24d7-464f-852f-680c8eb223ff",
   "metadata": {},
   "outputs": [],
   "source": []
  },
  {
   "cell_type": "code",
   "execution_count": null,
   "id": "f50c2052-e316-4bc7-bfe3-f4ab62c7586c",
   "metadata": {},
   "outputs": [],
   "source": []
  }
 ],
 "metadata": {
  "kernelspec": {
   "display_name": "Python 3 (ipykernel)",
   "language": "python",
   "name": "python3"
  },
  "language_info": {
   "codemirror_mode": {
    "name": "ipython",
    "version": 3
   },
   "file_extension": ".py",
   "mimetype": "text/x-python",
   "name": "python",
   "nbconvert_exporter": "python",
   "pygments_lexer": "ipython3",
   "version": "3.12.7"
  }
 },
 "nbformat": 4,
 "nbformat_minor": 5
}
